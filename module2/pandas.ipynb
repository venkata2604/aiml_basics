{
 "cells": [
  {
   "cell_type": "code",
   "execution_count": 1,
   "metadata": {},
   "outputs": [],
   "source": [
    "import pandas as pd\n",
    "import numpy as np\n",
    "import matplotlib.pyplot as plt\n",
    "import seaborn as sns\n",
    "import plotly.express as px\n",
    "import plotly.figure_factory as ff"
   ]
  },
  {
   "cell_type": "code",
   "execution_count": 2,
   "metadata": {},
   "outputs": [
    {
     "data": {
      "text/html": [
       "<div>\n",
       "<style scoped>\n",
       "    .dataframe tbody tr th:only-of-type {\n",
       "        vertical-align: middle;\n",
       "    }\n",
       "\n",
       "    .dataframe tbody tr th {\n",
       "        vertical-align: top;\n",
       "    }\n",
       "\n",
       "    .dataframe thead th {\n",
       "        text-align: right;\n",
       "    }\n",
       "</style>\n",
       "<table border=\"1\" class=\"dataframe\">\n",
       "  <thead>\n",
       "    <tr style=\"text-align: right;\">\n",
       "      <th></th>\n",
       "      <th>mpg</th>\n",
       "      <th>cylinders</th>\n",
       "      <th>displacement</th>\n",
       "      <th>...</th>\n",
       "      <th>year</th>\n",
       "      <th>origin</th>\n",
       "      <th>name</th>\n",
       "    </tr>\n",
       "  </thead>\n",
       "  <tbody>\n",
       "    <tr>\n",
       "      <th>0</th>\n",
       "      <td>18.0</td>\n",
       "      <td>8</td>\n",
       "      <td>307.0</td>\n",
       "      <td>...</td>\n",
       "      <td>70</td>\n",
       "      <td>1</td>\n",
       "      <td>chevrolet chevelle malibu</td>\n",
       "    </tr>\n",
       "    <tr>\n",
       "      <th>1</th>\n",
       "      <td>15.0</td>\n",
       "      <td>8</td>\n",
       "      <td>350.0</td>\n",
       "      <td>...</td>\n",
       "      <td>70</td>\n",
       "      <td>1</td>\n",
       "      <td>buick skylark 320</td>\n",
       "    </tr>\n",
       "    <tr>\n",
       "      <th>2</th>\n",
       "      <td>18.0</td>\n",
       "      <td>8</td>\n",
       "      <td>318.0</td>\n",
       "      <td>...</td>\n",
       "      <td>70</td>\n",
       "      <td>1</td>\n",
       "      <td>plymouth satellite</td>\n",
       "    </tr>\n",
       "    <tr>\n",
       "      <th>3</th>\n",
       "      <td>16.0</td>\n",
       "      <td>8</td>\n",
       "      <td>304.0</td>\n",
       "      <td>...</td>\n",
       "      <td>70</td>\n",
       "      <td>1</td>\n",
       "      <td>amc rebel sst</td>\n",
       "    </tr>\n",
       "    <tr>\n",
       "      <th>4</th>\n",
       "      <td>17.0</td>\n",
       "      <td>8</td>\n",
       "      <td>302.0</td>\n",
       "      <td>...</td>\n",
       "      <td>70</td>\n",
       "      <td>1</td>\n",
       "      <td>ford torino</td>\n",
       "    </tr>\n",
       "  </tbody>\n",
       "</table>\n",
       "<p>5 rows × 9 columns</p>\n",
       "</div>"
      ],
      "text/plain": [
       "    mpg  cylinders  displacement  ...  year  origin                       name\n",
       "0  18.0          8         307.0  ...    70       1  chevrolet chevelle malibu\n",
       "1  15.0          8         350.0  ...    70       1          buick skylark 320\n",
       "2  18.0          8         318.0  ...    70       1         plymouth satellite\n",
       "3  16.0          8         304.0  ...    70       1              amc rebel sst\n",
       "4  17.0          8         302.0  ...    70       1                ford torino\n",
       "\n",
       "[5 rows x 9 columns]"
      ]
     },
     "execution_count": 2,
     "metadata": {},
     "output_type": "execute_result"
    }
   ],
   "source": [
    "# simple dataframe\n",
    "\n",
    "import pandas as pd\n",
    "\n",
    "pd.set_option(\"display.max_columns\", 7)\n",
    "df_original = pd.read_csv(\"https://data.heatonresearch.com/data/t81-558/auto-mpg.csv\", na_values=[\"Na\", \"?\"])\n",
    "\n",
    "# display(df[0:5])\n",
    "df_original.head()"
   ]
  },
  {
   "cell_type": "code",
   "execution_count": 3,
   "metadata": {},
   "outputs": [
    {
     "data": {
      "text/plain": [
       "True"
      ]
     },
     "execution_count": 3,
     "metadata": {},
     "output_type": "execute_result"
    }
   ],
   "source": [
    "df_original[\"horsepower\"].isna().values.any()"
   ]
  },
  {
   "cell_type": "code",
   "execution_count": 4,
   "metadata": {},
   "outputs": [
    {
     "data": {
      "text/html": [
       "<div>\n",
       "<style scoped>\n",
       "    .dataframe tbody tr th:only-of-type {\n",
       "        vertical-align: middle;\n",
       "    }\n",
       "\n",
       "    .dataframe tbody tr th {\n",
       "        vertical-align: top;\n",
       "    }\n",
       "\n",
       "    .dataframe thead th {\n",
       "        text-align: right;\n",
       "    }\n",
       "</style>\n",
       "<table border=\"1\" class=\"dataframe\">\n",
       "  <thead>\n",
       "    <tr style=\"text-align: right;\">\n",
       "      <th></th>\n",
       "      <th>mpg</th>\n",
       "      <th>cylinders</th>\n",
       "      <th>displacement</th>\n",
       "      <th>...</th>\n",
       "      <th>year</th>\n",
       "      <th>origin</th>\n",
       "      <th>name</th>\n",
       "    </tr>\n",
       "  </thead>\n",
       "  <tbody>\n",
       "    <tr>\n",
       "      <th>0</th>\n",
       "      <td>18.0</td>\n",
       "      <td>8</td>\n",
       "      <td>307.0</td>\n",
       "      <td>...</td>\n",
       "      <td>70</td>\n",
       "      <td>1</td>\n",
       "      <td>chevrolet chevelle malibu</td>\n",
       "    </tr>\n",
       "    <tr>\n",
       "      <th>1</th>\n",
       "      <td>15.0</td>\n",
       "      <td>8</td>\n",
       "      <td>350.0</td>\n",
       "      <td>...</td>\n",
       "      <td>70</td>\n",
       "      <td>1</td>\n",
       "      <td>buick skylark 320</td>\n",
       "    </tr>\n",
       "    <tr>\n",
       "      <th>2</th>\n",
       "      <td>18.0</td>\n",
       "      <td>8</td>\n",
       "      <td>318.0</td>\n",
       "      <td>...</td>\n",
       "      <td>70</td>\n",
       "      <td>1</td>\n",
       "      <td>plymouth satellite</td>\n",
       "    </tr>\n",
       "    <tr>\n",
       "      <th>3</th>\n",
       "      <td>16.0</td>\n",
       "      <td>8</td>\n",
       "      <td>304.0</td>\n",
       "      <td>...</td>\n",
       "      <td>70</td>\n",
       "      <td>1</td>\n",
       "      <td>amc rebel sst</td>\n",
       "    </tr>\n",
       "    <tr>\n",
       "      <th>4</th>\n",
       "      <td>17.0</td>\n",
       "      <td>8</td>\n",
       "      <td>302.0</td>\n",
       "      <td>...</td>\n",
       "      <td>70</td>\n",
       "      <td>1</td>\n",
       "      <td>ford torino</td>\n",
       "    </tr>\n",
       "  </tbody>\n",
       "</table>\n",
       "<p>5 rows × 9 columns</p>\n",
       "</div>"
      ],
      "text/plain": [
       "    mpg  cylinders  displacement  ... year  origin                       name\n",
       "0  18.0          8         307.0  ...   70       1  chevrolet chevelle malibu\n",
       "1  15.0          8         350.0  ...   70       1          buick skylark 320\n",
       "2  18.0          8         318.0  ...   70       1         plymouth satellite\n",
       "3  16.0          8         304.0  ...   70       1              amc rebel sst\n",
       "4  17.0          8         302.0  ...   70       1                ford torino\n",
       "\n",
       "[5 rows x 9 columns]"
      ]
     },
     "execution_count": 4,
     "metadata": {},
     "output_type": "execute_result"
    }
   ],
   "source": [
    "# simple dataframe\n",
    "\n",
    "import pandas as pd\n",
    "\n",
    "# pd.set_option(\"display.max_columns\", 7)\n",
    "df = pd.read_csv(\"https://data.heatonresearch.com/data/t81-558/auto-mpg.csv\")\n",
    "\n",
    "# display(df[0:5])\n",
    "df.head()"
   ]
  },
  {
   "cell_type": "code",
   "execution_count": 5,
   "metadata": {},
   "outputs": [
    {
     "data": {
      "text/html": [
       "<div>\n",
       "<style scoped>\n",
       "    .dataframe tbody tr th:only-of-type {\n",
       "        vertical-align: middle;\n",
       "    }\n",
       "\n",
       "    .dataframe tbody tr th {\n",
       "        vertical-align: top;\n",
       "    }\n",
       "\n",
       "    .dataframe thead th {\n",
       "        text-align: right;\n",
       "    }\n",
       "</style>\n",
       "<table border=\"1\" class=\"dataframe\">\n",
       "  <thead>\n",
       "    <tr style=\"text-align: right;\">\n",
       "      <th></th>\n",
       "      <th>mpg</th>\n",
       "      <th>cylinders</th>\n",
       "      <th>displacement</th>\n",
       "      <th>...</th>\n",
       "      <th>year</th>\n",
       "      <th>origin</th>\n",
       "      <th>name</th>\n",
       "    </tr>\n",
       "  </thead>\n",
       "  <tbody>\n",
       "    <tr>\n",
       "      <th>0</th>\n",
       "      <td>18.0</td>\n",
       "      <td>8</td>\n",
       "      <td>307.0</td>\n",
       "      <td>...</td>\n",
       "      <td>70</td>\n",
       "      <td>1</td>\n",
       "      <td>chevrolet chevelle malibu</td>\n",
       "    </tr>\n",
       "    <tr>\n",
       "      <th>1</th>\n",
       "      <td>15.0</td>\n",
       "      <td>8</td>\n",
       "      <td>350.0</td>\n",
       "      <td>...</td>\n",
       "      <td>70</td>\n",
       "      <td>1</td>\n",
       "      <td>buick skylark 320</td>\n",
       "    </tr>\n",
       "    <tr>\n",
       "      <th>2</th>\n",
       "      <td>18.0</td>\n",
       "      <td>8</td>\n",
       "      <td>318.0</td>\n",
       "      <td>...</td>\n",
       "      <td>70</td>\n",
       "      <td>1</td>\n",
       "      <td>plymouth satellite</td>\n",
       "    </tr>\n",
       "    <tr>\n",
       "      <th>3</th>\n",
       "      <td>16.0</td>\n",
       "      <td>8</td>\n",
       "      <td>304.0</td>\n",
       "      <td>...</td>\n",
       "      <td>70</td>\n",
       "      <td>1</td>\n",
       "      <td>amc rebel sst</td>\n",
       "    </tr>\n",
       "    <tr>\n",
       "      <th>4</th>\n",
       "      <td>17.0</td>\n",
       "      <td>8</td>\n",
       "      <td>302.0</td>\n",
       "      <td>...</td>\n",
       "      <td>70</td>\n",
       "      <td>1</td>\n",
       "      <td>ford torino</td>\n",
       "    </tr>\n",
       "    <tr>\n",
       "      <th>...</th>\n",
       "      <td>...</td>\n",
       "      <td>...</td>\n",
       "      <td>...</td>\n",
       "      <td>...</td>\n",
       "      <td>...</td>\n",
       "      <td>...</td>\n",
       "      <td>...</td>\n",
       "    </tr>\n",
       "    <tr>\n",
       "      <th>393</th>\n",
       "      <td>27.0</td>\n",
       "      <td>4</td>\n",
       "      <td>140.0</td>\n",
       "      <td>...</td>\n",
       "      <td>82</td>\n",
       "      <td>1</td>\n",
       "      <td>ford mustang gl</td>\n",
       "    </tr>\n",
       "    <tr>\n",
       "      <th>394</th>\n",
       "      <td>44.0</td>\n",
       "      <td>4</td>\n",
       "      <td>97.0</td>\n",
       "      <td>...</td>\n",
       "      <td>82</td>\n",
       "      <td>2</td>\n",
       "      <td>vw pickup</td>\n",
       "    </tr>\n",
       "    <tr>\n",
       "      <th>395</th>\n",
       "      <td>32.0</td>\n",
       "      <td>4</td>\n",
       "      <td>135.0</td>\n",
       "      <td>...</td>\n",
       "      <td>82</td>\n",
       "      <td>1</td>\n",
       "      <td>dodge rampage</td>\n",
       "    </tr>\n",
       "    <tr>\n",
       "      <th>396</th>\n",
       "      <td>28.0</td>\n",
       "      <td>4</td>\n",
       "      <td>120.0</td>\n",
       "      <td>...</td>\n",
       "      <td>82</td>\n",
       "      <td>1</td>\n",
       "      <td>ford ranger</td>\n",
       "    </tr>\n",
       "    <tr>\n",
       "      <th>397</th>\n",
       "      <td>31.0</td>\n",
       "      <td>4</td>\n",
       "      <td>119.0</td>\n",
       "      <td>...</td>\n",
       "      <td>82</td>\n",
       "      <td>1</td>\n",
       "      <td>chevy s-10</td>\n",
       "    </tr>\n",
       "  </tbody>\n",
       "</table>\n",
       "<p>398 rows × 9 columns</p>\n",
       "</div>"
      ],
      "text/plain": [
       "      mpg  cylinders  displacement  ... year  origin  \\\n",
       "0    18.0          8         307.0  ...   70       1   \n",
       "1    15.0          8         350.0  ...   70       1   \n",
       "2    18.0          8         318.0  ...   70       1   \n",
       "3    16.0          8         304.0  ...   70       1   \n",
       "4    17.0          8         302.0  ...   70       1   \n",
       "..    ...        ...           ...  ...  ...     ...   \n",
       "393  27.0          4         140.0  ...   82       1   \n",
       "394  44.0          4          97.0  ...   82       2   \n",
       "395  32.0          4         135.0  ...   82       1   \n",
       "396  28.0          4         120.0  ...   82       1   \n",
       "397  31.0          4         119.0  ...   82       1   \n",
       "\n",
       "                          name  \n",
       "0    chevrolet chevelle malibu  \n",
       "1            buick skylark 320  \n",
       "2           plymouth satellite  \n",
       "3                amc rebel sst  \n",
       "4                  ford torino  \n",
       "..                         ...  \n",
       "393            ford mustang gl  \n",
       "394                  vw pickup  \n",
       "395              dodge rampage  \n",
       "396                ford ranger  \n",
       "397                 chevy s-10  \n",
       "\n",
       "[398 rows x 9 columns]"
      ]
     },
     "metadata": {},
     "output_type": "display_data"
    }
   ],
   "source": [
    "# pd.set_option(\"display.max_columns\", 10)\n",
    "# pd.set_option(\"display.max_rows\", 5)\n",
    "\n",
    "display(df)"
   ]
  },
  {
   "cell_type": "code",
   "execution_count": 6,
   "metadata": {},
   "outputs": [
    {
     "data": {
      "text/html": [
       "<div>\n",
       "<style scoped>\n",
       "    .dataframe tbody tr th:only-of-type {\n",
       "        vertical-align: middle;\n",
       "    }\n",
       "\n",
       "    .dataframe tbody tr th {\n",
       "        vertical-align: top;\n",
       "    }\n",
       "\n",
       "    .dataframe thead th {\n",
       "        text-align: right;\n",
       "    }\n",
       "</style>\n",
       "<table border=\"1\" class=\"dataframe\">\n",
       "  <thead>\n",
       "    <tr style=\"text-align: right;\">\n",
       "      <th></th>\n",
       "      <th>mpg</th>\n",
       "      <th>cylinders</th>\n",
       "      <th>displacement</th>\n",
       "      <th>weight</th>\n",
       "      <th>acceleration</th>\n",
       "      <th>year</th>\n",
       "      <th>origin</th>\n",
       "    </tr>\n",
       "  </thead>\n",
       "  <tbody>\n",
       "    <tr>\n",
       "      <th>0</th>\n",
       "      <td>18.0</td>\n",
       "      <td>8</td>\n",
       "      <td>307.0</td>\n",
       "      <td>3504</td>\n",
       "      <td>12.0</td>\n",
       "      <td>70</td>\n",
       "      <td>1</td>\n",
       "    </tr>\n",
       "    <tr>\n",
       "      <th>1</th>\n",
       "      <td>15.0</td>\n",
       "      <td>8</td>\n",
       "      <td>350.0</td>\n",
       "      <td>3693</td>\n",
       "      <td>11.5</td>\n",
       "      <td>70</td>\n",
       "      <td>1</td>\n",
       "    </tr>\n",
       "    <tr>\n",
       "      <th>2</th>\n",
       "      <td>18.0</td>\n",
       "      <td>8</td>\n",
       "      <td>318.0</td>\n",
       "      <td>3436</td>\n",
       "      <td>11.0</td>\n",
       "      <td>70</td>\n",
       "      <td>1</td>\n",
       "    </tr>\n",
       "    <tr>\n",
       "      <th>3</th>\n",
       "      <td>16.0</td>\n",
       "      <td>8</td>\n",
       "      <td>304.0</td>\n",
       "      <td>3433</td>\n",
       "      <td>12.0</td>\n",
       "      <td>70</td>\n",
       "      <td>1</td>\n",
       "    </tr>\n",
       "    <tr>\n",
       "      <th>4</th>\n",
       "      <td>17.0</td>\n",
       "      <td>8</td>\n",
       "      <td>302.0</td>\n",
       "      <td>3449</td>\n",
       "      <td>10.5</td>\n",
       "      <td>70</td>\n",
       "      <td>1</td>\n",
       "    </tr>\n",
       "    <tr>\n",
       "      <th>...</th>\n",
       "      <td>...</td>\n",
       "      <td>...</td>\n",
       "      <td>...</td>\n",
       "      <td>...</td>\n",
       "      <td>...</td>\n",
       "      <td>...</td>\n",
       "      <td>...</td>\n",
       "    </tr>\n",
       "    <tr>\n",
       "      <th>393</th>\n",
       "      <td>27.0</td>\n",
       "      <td>4</td>\n",
       "      <td>140.0</td>\n",
       "      <td>2790</td>\n",
       "      <td>15.6</td>\n",
       "      <td>82</td>\n",
       "      <td>1</td>\n",
       "    </tr>\n",
       "    <tr>\n",
       "      <th>394</th>\n",
       "      <td>44.0</td>\n",
       "      <td>4</td>\n",
       "      <td>97.0</td>\n",
       "      <td>2130</td>\n",
       "      <td>24.6</td>\n",
       "      <td>82</td>\n",
       "      <td>2</td>\n",
       "    </tr>\n",
       "    <tr>\n",
       "      <th>395</th>\n",
       "      <td>32.0</td>\n",
       "      <td>4</td>\n",
       "      <td>135.0</td>\n",
       "      <td>2295</td>\n",
       "      <td>11.6</td>\n",
       "      <td>82</td>\n",
       "      <td>1</td>\n",
       "    </tr>\n",
       "    <tr>\n",
       "      <th>396</th>\n",
       "      <td>28.0</td>\n",
       "      <td>4</td>\n",
       "      <td>120.0</td>\n",
       "      <td>2625</td>\n",
       "      <td>18.6</td>\n",
       "      <td>82</td>\n",
       "      <td>1</td>\n",
       "    </tr>\n",
       "    <tr>\n",
       "      <th>397</th>\n",
       "      <td>31.0</td>\n",
       "      <td>4</td>\n",
       "      <td>119.0</td>\n",
       "      <td>2720</td>\n",
       "      <td>19.4</td>\n",
       "      <td>82</td>\n",
       "      <td>1</td>\n",
       "    </tr>\n",
       "  </tbody>\n",
       "</table>\n",
       "<p>398 rows × 7 columns</p>\n",
       "</div>"
      ],
      "text/plain": [
       "      mpg  cylinders  displacement  weight  acceleration  year  origin\n",
       "0    18.0          8         307.0    3504          12.0    70       1\n",
       "1    15.0          8         350.0    3693          11.5    70       1\n",
       "2    18.0          8         318.0    3436          11.0    70       1\n",
       "3    16.0          8         304.0    3433          12.0    70       1\n",
       "4    17.0          8         302.0    3449          10.5    70       1\n",
       "..    ...        ...           ...     ...           ...   ...     ...\n",
       "393  27.0          4         140.0    2790          15.6    82       1\n",
       "394  44.0          4          97.0    2130          24.6    82       2\n",
       "395  32.0          4         135.0    2295          11.6    82       1\n",
       "396  28.0          4         120.0    2625          18.6    82       1\n",
       "397  31.0          4         119.0    2720          19.4    82       1\n",
       "\n",
       "[398 rows x 7 columns]"
      ]
     },
     "execution_count": 6,
     "metadata": {},
     "output_type": "execute_result"
    }
   ],
   "source": [
    "df.select_dtypes(include=[\"int\", \"float\"])\n"
   ]
  },
  {
   "cell_type": "code",
   "execution_count": 7,
   "metadata": {},
   "outputs": [
    {
     "data": {
      "text/html": [
       "<div>\n",
       "<style scoped>\n",
       "    .dataframe tbody tr th:only-of-type {\n",
       "        vertical-align: middle;\n",
       "    }\n",
       "\n",
       "    .dataframe tbody tr th {\n",
       "        vertical-align: top;\n",
       "    }\n",
       "\n",
       "    .dataframe thead th {\n",
       "        text-align: right;\n",
       "    }\n",
       "</style>\n",
       "<table border=\"1\" class=\"dataframe\">\n",
       "  <thead>\n",
       "    <tr style=\"text-align: right;\">\n",
       "      <th></th>\n",
       "      <th>mpg</th>\n",
       "      <th>cylinders</th>\n",
       "      <th>displacement</th>\n",
       "      <th>weight</th>\n",
       "      <th>acceleration</th>\n",
       "      <th>year</th>\n",
       "      <th>origin</th>\n",
       "    </tr>\n",
       "  </thead>\n",
       "  <tbody>\n",
       "    <tr>\n",
       "      <th>count</th>\n",
       "      <td>398.000000</td>\n",
       "      <td>398.000000</td>\n",
       "      <td>398.000000</td>\n",
       "      <td>398.000000</td>\n",
       "      <td>398.000000</td>\n",
       "      <td>398.000000</td>\n",
       "      <td>398.000000</td>\n",
       "    </tr>\n",
       "    <tr>\n",
       "      <th>mean</th>\n",
       "      <td>23.514573</td>\n",
       "      <td>5.454774</td>\n",
       "      <td>193.425879</td>\n",
       "      <td>2970.424623</td>\n",
       "      <td>15.568090</td>\n",
       "      <td>76.010050</td>\n",
       "      <td>1.572864</td>\n",
       "    </tr>\n",
       "    <tr>\n",
       "      <th>std</th>\n",
       "      <td>7.815984</td>\n",
       "      <td>1.701004</td>\n",
       "      <td>104.269838</td>\n",
       "      <td>846.841774</td>\n",
       "      <td>2.757689</td>\n",
       "      <td>3.697627</td>\n",
       "      <td>0.802055</td>\n",
       "    </tr>\n",
       "    <tr>\n",
       "      <th>min</th>\n",
       "      <td>9.000000</td>\n",
       "      <td>3.000000</td>\n",
       "      <td>68.000000</td>\n",
       "      <td>1613.000000</td>\n",
       "      <td>8.000000</td>\n",
       "      <td>70.000000</td>\n",
       "      <td>1.000000</td>\n",
       "    </tr>\n",
       "    <tr>\n",
       "      <th>25%</th>\n",
       "      <td>17.500000</td>\n",
       "      <td>4.000000</td>\n",
       "      <td>104.250000</td>\n",
       "      <td>2223.750000</td>\n",
       "      <td>13.825000</td>\n",
       "      <td>73.000000</td>\n",
       "      <td>1.000000</td>\n",
       "    </tr>\n",
       "    <tr>\n",
       "      <th>50%</th>\n",
       "      <td>23.000000</td>\n",
       "      <td>4.000000</td>\n",
       "      <td>148.500000</td>\n",
       "      <td>2803.500000</td>\n",
       "      <td>15.500000</td>\n",
       "      <td>76.000000</td>\n",
       "      <td>1.000000</td>\n",
       "    </tr>\n",
       "    <tr>\n",
       "      <th>75%</th>\n",
       "      <td>29.000000</td>\n",
       "      <td>8.000000</td>\n",
       "      <td>262.000000</td>\n",
       "      <td>3608.000000</td>\n",
       "      <td>17.175000</td>\n",
       "      <td>79.000000</td>\n",
       "      <td>2.000000</td>\n",
       "    </tr>\n",
       "    <tr>\n",
       "      <th>max</th>\n",
       "      <td>46.600000</td>\n",
       "      <td>8.000000</td>\n",
       "      <td>455.000000</td>\n",
       "      <td>5140.000000</td>\n",
       "      <td>24.800000</td>\n",
       "      <td>82.000000</td>\n",
       "      <td>3.000000</td>\n",
       "    </tr>\n",
       "  </tbody>\n",
       "</table>\n",
       "</div>"
      ],
      "text/plain": [
       "              mpg   cylinders  displacement       weight  acceleration  \\\n",
       "count  398.000000  398.000000    398.000000   398.000000    398.000000   \n",
       "mean    23.514573    5.454774    193.425879  2970.424623     15.568090   \n",
       "std      7.815984    1.701004    104.269838   846.841774      2.757689   \n",
       "min      9.000000    3.000000     68.000000  1613.000000      8.000000   \n",
       "25%     17.500000    4.000000    104.250000  2223.750000     13.825000   \n",
       "50%     23.000000    4.000000    148.500000  2803.500000     15.500000   \n",
       "75%     29.000000    8.000000    262.000000  3608.000000     17.175000   \n",
       "max     46.600000    8.000000    455.000000  5140.000000     24.800000   \n",
       "\n",
       "             year      origin  \n",
       "count  398.000000  398.000000  \n",
       "mean    76.010050    1.572864  \n",
       "std      3.697627    0.802055  \n",
       "min     70.000000    1.000000  \n",
       "25%     73.000000    1.000000  \n",
       "50%     76.000000    1.000000  \n",
       "75%     79.000000    2.000000  \n",
       "max     82.000000    3.000000  "
      ]
     },
     "execution_count": 7,
     "metadata": {},
     "output_type": "execute_result"
    }
   ],
   "source": [
    "df.describe()"
   ]
  },
  {
   "cell_type": "code",
   "execution_count": 8,
   "metadata": {},
   "outputs": [
    {
     "data": {
      "text/plain": [
       "mpg                         46.6\n",
       "cylinders                      8\n",
       "displacement               455.0\n",
       "horsepower                     ?\n",
       "weight                      5140\n",
       "acceleration                24.8\n",
       "year                          82\n",
       "origin                         3\n",
       "name            vw rabbit custom\n",
       "dtype: object"
      ]
     },
     "execution_count": 8,
     "metadata": {},
     "output_type": "execute_result"
    }
   ],
   "source": [
    "# # Accessing columns in df\n",
    "# df[\"mpg\"]\n",
    "\n",
    "# # access rows which have mpg value = 9\n",
    "# df[df[\"mpg\"] == 9]\n",
    "\n",
    "# access rows with values greater than 10\n",
    "df[df[\"mpg\"] >= 10]\n",
    "\n",
    "# find number of rows that have mpg values greater than 30\n",
    "df[df[\"mpg\"] >= 40][\"name\"]\n",
    "\n",
    "# display mpg and name columns that have mpg > 40\n",
    "df[df[\"mpg\"] >= 40][[\"name\", \"mpg\"]]\n",
    "\n",
    "# display max values in each column\n",
    "df.max(axis=0)\n",
    "\n",
    "# display max values in each row\n",
    "# df.max(axis=1) # Not working\n",
    "\n"
   ]
  },
  {
   "cell_type": "markdown",
   "metadata": {},
   "source": [
    "# Handling Missing Values"
   ]
  },
  {
   "cell_type": "code",
   "execution_count": 9,
   "metadata": {},
   "outputs": [],
   "source": [
    "\n",
    "df = pd.read_csv(\n",
    "    \"https://data.heatonresearch.com/data/t81-558/auto-mpg.csv\", na_values=[\"NA\", \"?\"]\n",
    ")"
   ]
  },
  {
   "cell_type": "code",
   "execution_count": 10,
   "metadata": {},
   "outputs": [
    {
     "name": "stdout",
     "output_type": "stream",
     "text": [
      "mpg             0\n",
      "cylinders       0\n",
      "displacement    0\n",
      "horsepower      6\n",
      "weight          0\n",
      "acceleration    0\n",
      "year            0\n",
      "origin          0\n",
      "name            0\n",
      "dtype: int64\n"
     ]
    }
   ],
   "source": [
    "missing_values = df.isnull().sum()\n",
    "print(missing_values)"
   ]
  },
  {
   "cell_type": "code",
   "execution_count": 11,
   "metadata": {},
   "outputs": [
    {
     "name": "stdout",
     "output_type": "stream",
     "text": [
      "[32, 126, 330, 336, 354, 374]\n"
     ]
    }
   ],
   "source": [
    "# find indexes where values are null\n",
    "null_indices = df[df[\"horsepower\"].isna()].index.to_list()\n",
    "print(null_indices)"
   ]
  },
  {
   "cell_type": "markdown",
   "metadata": {},
   "source": [
    "# Replacing Missing Values "
   ]
  },
  {
   "cell_type": "code",
   "execution_count": 12,
   "metadata": {},
   "outputs": [
    {
     "data": {
      "text/html": [
       "<div>\n",
       "<style scoped>\n",
       "    .dataframe tbody tr th:only-of-type {\n",
       "        vertical-align: middle;\n",
       "    }\n",
       "\n",
       "    .dataframe tbody tr th {\n",
       "        vertical-align: top;\n",
       "    }\n",
       "\n",
       "    .dataframe thead th {\n",
       "        text-align: right;\n",
       "    }\n",
       "</style>\n",
       "<table border=\"1\" class=\"dataframe\">\n",
       "  <thead>\n",
       "    <tr style=\"text-align: right;\">\n",
       "      <th></th>\n",
       "      <th>mpg</th>\n",
       "      <th>cylinders</th>\n",
       "      <th>displacement</th>\n",
       "      <th>...</th>\n",
       "      <th>year</th>\n",
       "      <th>origin</th>\n",
       "      <th>name</th>\n",
       "    </tr>\n",
       "  </thead>\n",
       "  <tbody>\n",
       "    <tr>\n",
       "      <th>0</th>\n",
       "      <td>18.0</td>\n",
       "      <td>8</td>\n",
       "      <td>307.0</td>\n",
       "      <td>...</td>\n",
       "      <td>70</td>\n",
       "      <td>1</td>\n",
       "      <td>chevrolet chevelle malibu</td>\n",
       "    </tr>\n",
       "    <tr>\n",
       "      <th>1</th>\n",
       "      <td>15.0</td>\n",
       "      <td>8</td>\n",
       "      <td>350.0</td>\n",
       "      <td>...</td>\n",
       "      <td>70</td>\n",
       "      <td>1</td>\n",
       "      <td>buick skylark 320</td>\n",
       "    </tr>\n",
       "    <tr>\n",
       "      <th>2</th>\n",
       "      <td>18.0</td>\n",
       "      <td>8</td>\n",
       "      <td>318.0</td>\n",
       "      <td>...</td>\n",
       "      <td>70</td>\n",
       "      <td>1</td>\n",
       "      <td>plymouth satellite</td>\n",
       "    </tr>\n",
       "    <tr>\n",
       "      <th>3</th>\n",
       "      <td>16.0</td>\n",
       "      <td>8</td>\n",
       "      <td>304.0</td>\n",
       "      <td>...</td>\n",
       "      <td>70</td>\n",
       "      <td>1</td>\n",
       "      <td>amc rebel sst</td>\n",
       "    </tr>\n",
       "    <tr>\n",
       "      <th>4</th>\n",
       "      <td>17.0</td>\n",
       "      <td>8</td>\n",
       "      <td>302.0</td>\n",
       "      <td>...</td>\n",
       "      <td>70</td>\n",
       "      <td>1</td>\n",
       "      <td>ford torino</td>\n",
       "    </tr>\n",
       "  </tbody>\n",
       "</table>\n",
       "<p>5 rows × 9 columns</p>\n",
       "</div>"
      ],
      "text/plain": [
       "    mpg  cylinders  displacement  ...  year  origin                       name\n",
       "0  18.0          8         307.0  ...    70       1  chevrolet chevelle malibu\n",
       "1  15.0          8         350.0  ...    70       1          buick skylark 320\n",
       "2  18.0          8         318.0  ...    70       1         plymouth satellite\n",
       "3  16.0          8         304.0  ...    70       1              amc rebel sst\n",
       "4  17.0          8         302.0  ...    70       1                ford torino\n",
       "\n",
       "[5 rows x 9 columns]"
      ]
     },
     "execution_count": 12,
     "metadata": {},
     "output_type": "execute_result"
    }
   ],
   "source": [
    "df = pd.read_csv(\n",
    "    \"https://data.heatonresearch.com/data/t81-558/auto-mpg.csv\", na_values=[\"NA\", \"?\"]\n",
    ")\n",
    "df.head()"
   ]
  },
  {
   "cell_type": "code",
   "execution_count": 13,
   "metadata": {},
   "outputs": [
    {
     "data": {
      "text/plain": [
       "True"
      ]
     },
     "execution_count": 13,
     "metadata": {},
     "output_type": "execute_result"
    }
   ],
   "source": [
    "pd.isna(df['horsepower']).values.any()"
   ]
  },
  {
   "cell_type": "code",
   "execution_count": 14,
   "metadata": {},
   "outputs": [
    {
     "name": "stdout",
     "output_type": "stream",
     "text": [
      "Filling missing values\n",
      "93.5\n"
     ]
    }
   ],
   "source": [
    "print(\"Filling missing values\")\n",
    "# filling with either median \n",
    "fill_median = df[\"horsepower\"].median()\n",
    "print(fill_median)"
   ]
  },
  {
   "cell_type": "code",
   "execution_count": 15,
   "metadata": {},
   "outputs": [
    {
     "data": {
      "text/plain": [
       "False"
      ]
     },
     "execution_count": 15,
     "metadata": {},
     "output_type": "execute_result"
    }
   ],
   "source": [
    "df[\"horsepower\"] = df[\"horsepower\"].fillna(fill_median)\n",
    "pd.isna(df[\"horsepower\"].values.any())"
   ]
  },
  {
   "cell_type": "code",
   "execution_count": 16,
   "metadata": {},
   "outputs": [],
   "source": [
    "df[\"horsepower\"] = df[\"horsepower\"].fillna(fill_median)\n"
   ]
  },
  {
   "cell_type": "code",
   "execution_count": 17,
   "metadata": {},
   "outputs": [
    {
     "data": {
      "text/plain": [
       "mpg             0\n",
       "cylinders       0\n",
       "displacement    0\n",
       "horsepower      0\n",
       "weight          0\n",
       "acceleration    0\n",
       "year            0\n",
       "origin          0\n",
       "name            0\n",
       "dtype: int64"
      ]
     },
     "execution_count": 17,
     "metadata": {},
     "output_type": "execute_result"
    }
   ],
   "source": [
    "df.isna().sum()"
   ]
  },
  {
   "cell_type": "code",
   "execution_count": 18,
   "metadata": {},
   "outputs": [],
   "source": [
    "# for ind in null_indices:\n",
    "#     print(df.iloc[ind])"
   ]
  },
  {
   "cell_type": "markdown",
   "metadata": {},
   "source": [
    "# Dealing with outliers"
   ]
  },
  {
   "cell_type": "code",
   "execution_count": 19,
   "metadata": {},
   "outputs": [
    {
     "data": {
      "application/vnd.plotly.v1+json": {
       "config": {
        "plotlyServerURL": "https://plot.ly"
       },
       "data": [
        {
         "hovertemplate": "displacement=%{x}<br>horsepower=%{y}<br>cylinders=%{marker.color}<extra></extra>",
         "legendgroup": "",
         "marker": {
          "color": [
           8,
           8,
           8,
           8,
           8,
           8,
           8,
           8,
           8,
           8,
           8,
           8,
           8,
           8,
           4,
           6,
           6,
           6,
           4,
           4,
           4,
           4,
           4,
           4,
           6,
           8,
           8,
           8,
           8,
           4,
           4,
           4,
           4,
           6,
           6,
           6,
           6,
           6,
           8,
           8,
           8,
           8,
           8,
           8,
           8,
           6,
           4,
           6,
           6,
           4,
           4,
           4,
           4,
           4,
           4,
           4,
           4,
           4,
           4,
           4,
           4,
           4,
           8,
           8,
           8,
           8,
           8,
           8,
           8,
           8,
           8,
           3,
           8,
           8,
           8,
           8,
           4,
           4,
           4,
           4,
           4,
           4,
           4,
           4,
           4,
           8,
           8,
           8,
           8,
           8,
           8,
           8,
           8,
           8,
           8,
           8,
           8,
           6,
           6,
           6,
           6,
           6,
           4,
           8,
           8,
           8,
           8,
           6,
           4,
           4,
           4,
           3,
           4,
           6,
           4,
           8,
           8,
           4,
           4,
           4,
           4,
           8,
           4,
           6,
           8,
           6,
           6,
           6,
           6,
           4,
           4,
           4,
           4,
           6,
           6,
           6,
           8,
           8,
           8,
           8,
           8,
           4,
           4,
           4,
           4,
           4,
           4,
           4,
           4,
           4,
           4,
           4,
           6,
           6,
           6,
           6,
           8,
           8,
           8,
           8,
           6,
           6,
           6,
           6,
           6,
           8,
           8,
           4,
           4,
           6,
           4,
           4,
           4,
           4,
           6,
           4,
           6,
           4,
           4,
           4,
           4,
           4,
           4,
           4,
           4,
           4,
           4,
           8,
           8,
           8,
           8,
           6,
           6,
           6,
           6,
           4,
           4,
           4,
           4,
           6,
           6,
           6,
           6,
           4,
           4,
           4,
           4,
           4,
           8,
           4,
           6,
           6,
           8,
           8,
           8,
           8,
           4,
           4,
           4,
           4,
           4,
           8,
           8,
           8,
           8,
           6,
           6,
           6,
           6,
           8,
           8,
           8,
           8,
           4,
           4,
           4,
           4,
           4,
           4,
           4,
           4,
           6,
           4,
           3,
           4,
           4,
           4,
           4,
           4,
           8,
           8,
           8,
           6,
           6,
           6,
           4,
           6,
           6,
           6,
           6,
           6,
           6,
           8,
           6,
           8,
           8,
           4,
           4,
           4,
           4,
           4,
           4,
           4,
           4,
           5,
           6,
           4,
           6,
           4,
           4,
           6,
           6,
           4,
           6,
           6,
           8,
           8,
           8,
           8,
           8,
           8,
           8,
           8,
           4,
           4,
           4,
           4,
           5,
           8,
           4,
           8,
           4,
           4,
           4,
           4,
           4,
           6,
           6,
           4,
           4,
           4,
           4,
           4,
           4,
           4,
           4,
           6,
           4,
           4,
           4,
           4,
           4,
           4,
           4,
           4,
           4,
           4,
           5,
           4,
           4,
           4,
           4,
           4,
           6,
           3,
           4,
           4,
           4,
           4,
           4,
           4,
           6,
           4,
           4,
           4,
           4,
           4,
           4,
           4,
           4,
           4,
           4,
           4,
           4,
           4,
           4,
           4,
           4,
           4,
           4,
           6,
           6,
           6,
           6,
           8,
           6,
           6,
           4,
           4,
           4,
           4,
           4,
           4,
           4,
           4,
           4,
           4,
           4,
           4,
           4,
           4,
           4,
           4,
           4,
           4,
           4,
           6,
           6,
           4,
           6,
           4,
           4,
           4,
           4,
           4,
           4,
           4,
           4
          ],
          "coloraxis": "coloraxis",
          "symbol": "circle"
         },
         "mode": "markers",
         "name": "",
         "orientation": "v",
         "showlegend": false,
         "type": "scatter",
         "x": [
          307,
          350,
          318,
          304,
          302,
          429,
          454,
          440,
          455,
          390,
          383,
          340,
          400,
          455,
          113,
          198,
          199,
          200,
          97,
          97,
          110,
          107,
          104,
          121,
          199,
          360,
          307,
          318,
          304,
          97,
          140,
          113,
          98,
          232,
          225,
          250,
          250,
          232,
          350,
          400,
          351,
          318,
          383,
          400,
          400,
          258,
          140,
          250,
          250,
          122,
          116,
          79,
          88,
          71,
          72,
          97,
          91,
          113,
          97.5,
          97,
          140,
          122,
          350,
          400,
          318,
          351,
          304,
          429,
          350,
          350,
          400,
          70,
          304,
          307,
          302,
          318,
          121,
          121,
          120,
          96,
          122,
          97,
          120,
          98,
          97,
          350,
          304,
          350,
          302,
          318,
          429,
          400,
          351,
          318,
          440,
          455,
          360,
          225,
          250,
          232,
          250,
          198,
          97,
          400,
          400,
          360,
          350,
          232,
          97,
          140,
          108,
          70,
          122,
          155,
          98,
          350,
          400,
          68,
          116,
          114,
          121,
          318,
          121,
          156,
          350,
          198,
          200,
          232,
          250,
          79,
          122,
          71,
          140,
          250,
          258,
          225,
          302,
          350,
          318,
          302,
          304,
          98,
          79,
          97,
          76,
          83,
          90,
          90,
          116,
          120,
          108,
          79,
          225,
          250,
          250,
          250,
          400,
          350,
          318,
          351,
          231,
          250,
          258,
          225,
          231,
          262,
          302,
          97,
          140,
          232,
          140,
          134,
          90,
          119,
          171,
          90,
          232,
          115,
          120,
          121,
          121,
          91,
          107,
          116,
          140,
          98,
          101,
          305,
          318,
          304,
          351,
          225,
          250,
          200,
          232,
          85,
          98,
          90,
          91,
          225,
          250,
          250,
          258,
          97,
          85,
          97,
          140,
          130,
          318,
          120,
          156,
          168,
          350,
          350,
          302,
          318,
          98,
          111,
          79,
          122,
          85,
          305,
          260,
          318,
          302,
          250,
          231,
          225,
          250,
          400,
          350,
          400,
          351,
          97,
          151,
          97,
          140,
          98,
          98,
          97,
          97,
          146,
          121,
          80,
          90,
          98,
          78,
          85,
          91,
          260,
          318,
          302,
          231,
          200,
          200,
          140,
          225,
          232,
          231,
          200,
          225,
          258,
          305,
          231,
          302,
          318,
          98,
          134,
          119,
          105,
          134,
          156,
          151,
          119,
          131,
          163,
          121,
          163,
          89,
          98,
          231,
          200,
          140,
          232,
          225,
          305,
          302,
          351,
          318,
          350,
          351,
          267,
          360,
          89,
          86,
          98,
          121,
          183,
          350,
          141,
          260,
          105,
          105,
          85,
          91,
          151,
          173,
          173,
          151,
          98,
          89,
          98,
          86,
          151,
          140,
          151,
          225,
          97,
          134,
          120,
          119,
          108,
          86,
          156,
          85,
          90,
          90,
          121,
          146,
          91,
          85,
          97,
          89,
          168,
          70,
          122,
          140,
          107,
          135,
          151,
          156,
          173,
          135,
          79,
          86,
          81,
          97,
          85,
          89,
          91,
          105,
          98,
          98,
          105,
          100,
          107,
          108,
          119,
          120,
          141,
          145,
          168,
          146,
          231,
          350,
          200,
          225,
          112,
          112,
          112,
          112,
          135,
          151,
          140,
          151,
          105,
          91,
          91,
          105,
          98,
          120,
          107,
          108,
          91,
          91,
          91,
          181,
          262,
          156,
          232,
          144,
          135,
          151,
          140,
          97,
          135,
          120,
          119
         ],
         "xaxis": "x",
         "y": [
          130,
          165,
          150,
          150,
          140,
          198,
          220,
          215,
          225,
          190,
          170,
          160,
          150,
          225,
          95,
          95,
          97,
          85,
          88,
          46,
          87,
          90,
          95,
          113,
          90,
          215,
          200,
          210,
          193,
          88,
          90,
          95,
          93.5,
          100,
          105,
          100,
          88,
          100,
          165,
          175,
          153,
          150,
          180,
          170,
          175,
          110,
          72,
          100,
          88,
          86,
          90,
          70,
          76,
          65,
          69,
          60,
          70,
          95,
          80,
          54,
          90,
          86,
          165,
          175,
          150,
          153,
          150,
          208,
          155,
          160,
          190,
          97,
          150,
          130,
          140,
          150,
          112,
          76,
          87,
          69,
          86,
          92,
          97,
          80,
          88,
          175,
          150,
          145,
          137,
          150,
          198,
          150,
          158,
          150,
          215,
          225,
          175,
          105,
          100,
          100,
          88,
          95,
          46,
          150,
          167,
          170,
          180,
          100,
          88,
          72,
          94,
          90,
          85,
          107,
          90,
          145,
          230,
          49,
          75,
          91,
          112,
          150,
          110,
          122,
          180,
          95,
          93.5,
          100,
          100,
          67,
          80,
          65,
          75,
          100,
          110,
          105,
          140,
          150,
          150,
          140,
          150,
          83,
          67,
          78,
          52,
          61,
          75,
          75,
          75,
          97,
          93,
          67,
          95,
          105,
          72,
          72,
          170,
          145,
          150,
          148,
          110,
          105,
          110,
          95,
          110,
          110,
          129,
          75,
          83,
          100,
          78,
          96,
          71,
          97,
          97,
          70,
          90,
          95,
          88,
          98,
          115,
          53,
          86,
          81,
          92,
          79,
          83,
          140,
          150,
          120,
          152,
          100,
          105,
          81,
          90,
          52,
          60,
          70,
          53,
          100,
          78,
          110,
          95,
          71,
          70,
          75,
          72,
          102,
          150,
          88,
          108,
          120,
          180,
          145,
          130,
          150,
          68,
          80,
          58,
          96,
          70,
          145,
          110,
          145,
          130,
          110,
          105,
          100,
          98,
          180,
          170,
          190,
          149,
          78,
          88,
          75,
          89,
          63,
          83,
          67,
          78,
          97,
          110,
          110,
          48,
          66,
          52,
          70,
          60,
          110,
          140,
          139,
          105,
          95,
          85,
          88,
          100,
          90,
          105,
          85,
          110,
          120,
          145,
          165,
          139,
          140,
          68,
          95,
          97,
          75,
          95,
          105,
          85,
          97,
          103,
          125,
          115,
          133,
          71,
          68,
          115,
          85,
          88,
          90,
          110,
          130,
          129,
          138,
          135,
          155,
          142,
          125,
          150,
          71,
          65,
          80,
          80,
          77,
          125,
          71,
          90,
          70,
          70,
          65,
          69,
          90,
          115,
          115,
          90,
          76,
          60,
          70,
          65,
          90,
          88,
          90,
          90,
          78,
          90,
          75,
          92,
          75,
          65,
          105,
          65,
          48,
          48,
          67,
          67,
          67,
          93.5,
          67,
          62,
          132,
          100,
          88,
          93.5,
          72,
          84,
          84,
          92,
          110,
          84,
          58,
          64,
          60,
          67,
          65,
          62,
          68,
          63,
          65,
          65,
          74,
          93.5,
          75,
          75,
          100,
          74,
          80,
          76,
          116,
          120,
          110,
          105,
          88,
          85,
          88,
          88,
          88,
          85,
          84,
          90,
          92,
          93.5,
          74,
          68,
          68,
          63,
          70,
          88,
          75,
          70,
          67,
          67,
          67,
          110,
          85,
          92,
          112,
          96,
          84,
          90,
          86,
          52,
          84,
          79,
          82
         ],
         "yaxis": "y"
        }
       ],
       "layout": {
        "coloraxis": {
         "colorbar": {
          "title": {
           "text": "cylinders"
          }
         },
         "colorscale": [
          [
           0,
           "#0d0887"
          ],
          [
           0.1111111111111111,
           "#46039f"
          ],
          [
           0.2222222222222222,
           "#7201a8"
          ],
          [
           0.3333333333333333,
           "#9c179e"
          ],
          [
           0.4444444444444444,
           "#bd3786"
          ],
          [
           0.5555555555555556,
           "#d8576b"
          ],
          [
           0.6666666666666666,
           "#ed7953"
          ],
          [
           0.7777777777777778,
           "#fb9f3a"
          ],
          [
           0.8888888888888888,
           "#fdca26"
          ],
          [
           1,
           "#f0f921"
          ]
         ]
        },
        "legend": {
         "tracegroupgap": 0
        },
        "margin": {
         "t": 60
        },
        "template": {
         "data": {
          "bar": [
           {
            "error_x": {
             "color": "#2a3f5f"
            },
            "error_y": {
             "color": "#2a3f5f"
            },
            "marker": {
             "line": {
              "color": "#E5ECF6",
              "width": 0.5
             },
             "pattern": {
              "fillmode": "overlay",
              "size": 10,
              "solidity": 0.2
             }
            },
            "type": "bar"
           }
          ],
          "barpolar": [
           {
            "marker": {
             "line": {
              "color": "#E5ECF6",
              "width": 0.5
             },
             "pattern": {
              "fillmode": "overlay",
              "size": 10,
              "solidity": 0.2
             }
            },
            "type": "barpolar"
           }
          ],
          "carpet": [
           {
            "aaxis": {
             "endlinecolor": "#2a3f5f",
             "gridcolor": "white",
             "linecolor": "white",
             "minorgridcolor": "white",
             "startlinecolor": "#2a3f5f"
            },
            "baxis": {
             "endlinecolor": "#2a3f5f",
             "gridcolor": "white",
             "linecolor": "white",
             "minorgridcolor": "white",
             "startlinecolor": "#2a3f5f"
            },
            "type": "carpet"
           }
          ],
          "choropleth": [
           {
            "colorbar": {
             "outlinewidth": 0,
             "ticks": ""
            },
            "type": "choropleth"
           }
          ],
          "contour": [
           {
            "colorbar": {
             "outlinewidth": 0,
             "ticks": ""
            },
            "colorscale": [
             [
              0,
              "#0d0887"
             ],
             [
              0.1111111111111111,
              "#46039f"
             ],
             [
              0.2222222222222222,
              "#7201a8"
             ],
             [
              0.3333333333333333,
              "#9c179e"
             ],
             [
              0.4444444444444444,
              "#bd3786"
             ],
             [
              0.5555555555555556,
              "#d8576b"
             ],
             [
              0.6666666666666666,
              "#ed7953"
             ],
             [
              0.7777777777777778,
              "#fb9f3a"
             ],
             [
              0.8888888888888888,
              "#fdca26"
             ],
             [
              1,
              "#f0f921"
             ]
            ],
            "type": "contour"
           }
          ],
          "contourcarpet": [
           {
            "colorbar": {
             "outlinewidth": 0,
             "ticks": ""
            },
            "type": "contourcarpet"
           }
          ],
          "heatmap": [
           {
            "colorbar": {
             "outlinewidth": 0,
             "ticks": ""
            },
            "colorscale": [
             [
              0,
              "#0d0887"
             ],
             [
              0.1111111111111111,
              "#46039f"
             ],
             [
              0.2222222222222222,
              "#7201a8"
             ],
             [
              0.3333333333333333,
              "#9c179e"
             ],
             [
              0.4444444444444444,
              "#bd3786"
             ],
             [
              0.5555555555555556,
              "#d8576b"
             ],
             [
              0.6666666666666666,
              "#ed7953"
             ],
             [
              0.7777777777777778,
              "#fb9f3a"
             ],
             [
              0.8888888888888888,
              "#fdca26"
             ],
             [
              1,
              "#f0f921"
             ]
            ],
            "type": "heatmap"
           }
          ],
          "heatmapgl": [
           {
            "colorbar": {
             "outlinewidth": 0,
             "ticks": ""
            },
            "colorscale": [
             [
              0,
              "#0d0887"
             ],
             [
              0.1111111111111111,
              "#46039f"
             ],
             [
              0.2222222222222222,
              "#7201a8"
             ],
             [
              0.3333333333333333,
              "#9c179e"
             ],
             [
              0.4444444444444444,
              "#bd3786"
             ],
             [
              0.5555555555555556,
              "#d8576b"
             ],
             [
              0.6666666666666666,
              "#ed7953"
             ],
             [
              0.7777777777777778,
              "#fb9f3a"
             ],
             [
              0.8888888888888888,
              "#fdca26"
             ],
             [
              1,
              "#f0f921"
             ]
            ],
            "type": "heatmapgl"
           }
          ],
          "histogram": [
           {
            "marker": {
             "pattern": {
              "fillmode": "overlay",
              "size": 10,
              "solidity": 0.2
             }
            },
            "type": "histogram"
           }
          ],
          "histogram2d": [
           {
            "colorbar": {
             "outlinewidth": 0,
             "ticks": ""
            },
            "colorscale": [
             [
              0,
              "#0d0887"
             ],
             [
              0.1111111111111111,
              "#46039f"
             ],
             [
              0.2222222222222222,
              "#7201a8"
             ],
             [
              0.3333333333333333,
              "#9c179e"
             ],
             [
              0.4444444444444444,
              "#bd3786"
             ],
             [
              0.5555555555555556,
              "#d8576b"
             ],
             [
              0.6666666666666666,
              "#ed7953"
             ],
             [
              0.7777777777777778,
              "#fb9f3a"
             ],
             [
              0.8888888888888888,
              "#fdca26"
             ],
             [
              1,
              "#f0f921"
             ]
            ],
            "type": "histogram2d"
           }
          ],
          "histogram2dcontour": [
           {
            "colorbar": {
             "outlinewidth": 0,
             "ticks": ""
            },
            "colorscale": [
             [
              0,
              "#0d0887"
             ],
             [
              0.1111111111111111,
              "#46039f"
             ],
             [
              0.2222222222222222,
              "#7201a8"
             ],
             [
              0.3333333333333333,
              "#9c179e"
             ],
             [
              0.4444444444444444,
              "#bd3786"
             ],
             [
              0.5555555555555556,
              "#d8576b"
             ],
             [
              0.6666666666666666,
              "#ed7953"
             ],
             [
              0.7777777777777778,
              "#fb9f3a"
             ],
             [
              0.8888888888888888,
              "#fdca26"
             ],
             [
              1,
              "#f0f921"
             ]
            ],
            "type": "histogram2dcontour"
           }
          ],
          "mesh3d": [
           {
            "colorbar": {
             "outlinewidth": 0,
             "ticks": ""
            },
            "type": "mesh3d"
           }
          ],
          "parcoords": [
           {
            "line": {
             "colorbar": {
              "outlinewidth": 0,
              "ticks": ""
             }
            },
            "type": "parcoords"
           }
          ],
          "pie": [
           {
            "automargin": true,
            "type": "pie"
           }
          ],
          "scatter": [
           {
            "fillpattern": {
             "fillmode": "overlay",
             "size": 10,
             "solidity": 0.2
            },
            "type": "scatter"
           }
          ],
          "scatter3d": [
           {
            "line": {
             "colorbar": {
              "outlinewidth": 0,
              "ticks": ""
             }
            },
            "marker": {
             "colorbar": {
              "outlinewidth": 0,
              "ticks": ""
             }
            },
            "type": "scatter3d"
           }
          ],
          "scattercarpet": [
           {
            "marker": {
             "colorbar": {
              "outlinewidth": 0,
              "ticks": ""
             }
            },
            "type": "scattercarpet"
           }
          ],
          "scattergeo": [
           {
            "marker": {
             "colorbar": {
              "outlinewidth": 0,
              "ticks": ""
             }
            },
            "type": "scattergeo"
           }
          ],
          "scattergl": [
           {
            "marker": {
             "colorbar": {
              "outlinewidth": 0,
              "ticks": ""
             }
            },
            "type": "scattergl"
           }
          ],
          "scattermapbox": [
           {
            "marker": {
             "colorbar": {
              "outlinewidth": 0,
              "ticks": ""
             }
            },
            "type": "scattermapbox"
           }
          ],
          "scatterpolar": [
           {
            "marker": {
             "colorbar": {
              "outlinewidth": 0,
              "ticks": ""
             }
            },
            "type": "scatterpolar"
           }
          ],
          "scatterpolargl": [
           {
            "marker": {
             "colorbar": {
              "outlinewidth": 0,
              "ticks": ""
             }
            },
            "type": "scatterpolargl"
           }
          ],
          "scatterternary": [
           {
            "marker": {
             "colorbar": {
              "outlinewidth": 0,
              "ticks": ""
             }
            },
            "type": "scatterternary"
           }
          ],
          "surface": [
           {
            "colorbar": {
             "outlinewidth": 0,
             "ticks": ""
            },
            "colorscale": [
             [
              0,
              "#0d0887"
             ],
             [
              0.1111111111111111,
              "#46039f"
             ],
             [
              0.2222222222222222,
              "#7201a8"
             ],
             [
              0.3333333333333333,
              "#9c179e"
             ],
             [
              0.4444444444444444,
              "#bd3786"
             ],
             [
              0.5555555555555556,
              "#d8576b"
             ],
             [
              0.6666666666666666,
              "#ed7953"
             ],
             [
              0.7777777777777778,
              "#fb9f3a"
             ],
             [
              0.8888888888888888,
              "#fdca26"
             ],
             [
              1,
              "#f0f921"
             ]
            ],
            "type": "surface"
           }
          ],
          "table": [
           {
            "cells": {
             "fill": {
              "color": "#EBF0F8"
             },
             "line": {
              "color": "white"
             }
            },
            "header": {
             "fill": {
              "color": "#C8D4E3"
             },
             "line": {
              "color": "white"
             }
            },
            "type": "table"
           }
          ]
         },
         "layout": {
          "annotationdefaults": {
           "arrowcolor": "#2a3f5f",
           "arrowhead": 0,
           "arrowwidth": 1
          },
          "autotypenumbers": "strict",
          "coloraxis": {
           "colorbar": {
            "outlinewidth": 0,
            "ticks": ""
           }
          },
          "colorscale": {
           "diverging": [
            [
             0,
             "#8e0152"
            ],
            [
             0.1,
             "#c51b7d"
            ],
            [
             0.2,
             "#de77ae"
            ],
            [
             0.3,
             "#f1b6da"
            ],
            [
             0.4,
             "#fde0ef"
            ],
            [
             0.5,
             "#f7f7f7"
            ],
            [
             0.6,
             "#e6f5d0"
            ],
            [
             0.7,
             "#b8e186"
            ],
            [
             0.8,
             "#7fbc41"
            ],
            [
             0.9,
             "#4d9221"
            ],
            [
             1,
             "#276419"
            ]
           ],
           "sequential": [
            [
             0,
             "#0d0887"
            ],
            [
             0.1111111111111111,
             "#46039f"
            ],
            [
             0.2222222222222222,
             "#7201a8"
            ],
            [
             0.3333333333333333,
             "#9c179e"
            ],
            [
             0.4444444444444444,
             "#bd3786"
            ],
            [
             0.5555555555555556,
             "#d8576b"
            ],
            [
             0.6666666666666666,
             "#ed7953"
            ],
            [
             0.7777777777777778,
             "#fb9f3a"
            ],
            [
             0.8888888888888888,
             "#fdca26"
            ],
            [
             1,
             "#f0f921"
            ]
           ],
           "sequentialminus": [
            [
             0,
             "#0d0887"
            ],
            [
             0.1111111111111111,
             "#46039f"
            ],
            [
             0.2222222222222222,
             "#7201a8"
            ],
            [
             0.3333333333333333,
             "#9c179e"
            ],
            [
             0.4444444444444444,
             "#bd3786"
            ],
            [
             0.5555555555555556,
             "#d8576b"
            ],
            [
             0.6666666666666666,
             "#ed7953"
            ],
            [
             0.7777777777777778,
             "#fb9f3a"
            ],
            [
             0.8888888888888888,
             "#fdca26"
            ],
            [
             1,
             "#f0f921"
            ]
           ]
          },
          "colorway": [
           "#636efa",
           "#EF553B",
           "#00cc96",
           "#ab63fa",
           "#FFA15A",
           "#19d3f3",
           "#FF6692",
           "#B6E880",
           "#FF97FF",
           "#FECB52"
          ],
          "font": {
           "color": "#2a3f5f"
          },
          "geo": {
           "bgcolor": "white",
           "lakecolor": "white",
           "landcolor": "#E5ECF6",
           "showlakes": true,
           "showland": true,
           "subunitcolor": "white"
          },
          "hoverlabel": {
           "align": "left"
          },
          "hovermode": "closest",
          "mapbox": {
           "style": "light"
          },
          "paper_bgcolor": "white",
          "plot_bgcolor": "#E5ECF6",
          "polar": {
           "angularaxis": {
            "gridcolor": "white",
            "linecolor": "white",
            "ticks": ""
           },
           "bgcolor": "#E5ECF6",
           "radialaxis": {
            "gridcolor": "white",
            "linecolor": "white",
            "ticks": ""
           }
          },
          "scene": {
           "xaxis": {
            "backgroundcolor": "#E5ECF6",
            "gridcolor": "white",
            "gridwidth": 2,
            "linecolor": "white",
            "showbackground": true,
            "ticks": "",
            "zerolinecolor": "white"
           },
           "yaxis": {
            "backgroundcolor": "#E5ECF6",
            "gridcolor": "white",
            "gridwidth": 2,
            "linecolor": "white",
            "showbackground": true,
            "ticks": "",
            "zerolinecolor": "white"
           },
           "zaxis": {
            "backgroundcolor": "#E5ECF6",
            "gridcolor": "white",
            "gridwidth": 2,
            "linecolor": "white",
            "showbackground": true,
            "ticks": "",
            "zerolinecolor": "white"
           }
          },
          "shapedefaults": {
           "line": {
            "color": "#2a3f5f"
           }
          },
          "ternary": {
           "aaxis": {
            "gridcolor": "white",
            "linecolor": "white",
            "ticks": ""
           },
           "baxis": {
            "gridcolor": "white",
            "linecolor": "white",
            "ticks": ""
           },
           "bgcolor": "#E5ECF6",
           "caxis": {
            "gridcolor": "white",
            "linecolor": "white",
            "ticks": ""
           }
          },
          "title": {
           "x": 0.05
          },
          "xaxis": {
           "automargin": true,
           "gridcolor": "white",
           "linecolor": "white",
           "ticks": "",
           "title": {
            "standoff": 15
           },
           "zerolinecolor": "white",
           "zerolinewidth": 2
          },
          "yaxis": {
           "automargin": true,
           "gridcolor": "white",
           "linecolor": "white",
           "ticks": "",
           "title": {
            "standoff": 15
           },
           "zerolinecolor": "white",
           "zerolinewidth": 2
          }
         }
        },
        "xaxis": {
         "anchor": "y",
         "domain": [
          0,
          1
         ],
         "title": {
          "text": "displacement"
         }
        },
        "yaxis": {
         "anchor": "x",
         "domain": [
          0,
          1
         ],
         "title": {
          "text": "horsepower"
         }
        }
       }
      }
     },
     "metadata": {},
     "output_type": "display_data"
    }
   ],
   "source": [
    "# displacement vs outlier plots \n",
    "x = df[\"displacement\"]\n",
    "y = df[\"horsepower\"]\n",
    "\n",
    "# plt.scatter(x,y)\n",
    "# plt.show()\n",
    "\n",
    "fig = px.scatter(df, x=\"displacement\", y=\"horsepower\", color=\"cylinders\")\n",
    "\n",
    "fig.show()"
   ]
  },
  {
   "cell_type": "code",
   "execution_count": 20,
   "metadata": {},
   "outputs": [
    {
     "data": {
      "image/png": "[encoded data removed]",
      "text/plain": [
       "<Figure size 640x480 with 1 Axes>"
      ]
     },
     "metadata": {},
     "output_type": "display_data"
    }
   ],
   "source": [
    "# fitting a line to scatter plot\n",
    "\n",
    "from sklearn.linear_model import LinearRegression\n",
    "\n",
    "x = df[\"displacement\"].values\n",
    "y = df[\"horsepower\"].values\n",
    "\n",
    "\n",
    "X,Y = x.reshape(-1,1), y.reshape(-1,1)\n",
    "plt.plot(x, LinearRegression().fit(X,Y).predict(X))\n",
    "plt.scatter(x,y)\n",
    "plt.show()"
   ]
  },
  {
   "cell_type": "code",
   "execution_count": 21,
   "metadata": {},
   "outputs": [],
   "source": [
    "# df.columns"
   ]
  },
  {
   "cell_type": "code",
   "execution_count": 22,
   "metadata": {},
   "outputs": [
    {
     "data": {
      "image/png": "[encoded data removed]",
      "text/plain": [
       "<Figure size 640x480 with 1 Axes>"
      ]
     },
     "metadata": {},
     "output_type": "display_data"
    }
   ],
   "source": [
    "# Box plots with matplotlib\n",
    "\n",
    "fig, ax = plt.subplots()\n",
    "df.boxplot(ax = ax,  notch = True, bootstrap=5000)\n",
    "ax.set_xticks(range(10))\n",
    "ax.set_xticklabels(range(10))\n",
    "\n",
    "plt.show()"
   ]
  },
  {
   "cell_type": "code",
   "execution_count": 23,
   "metadata": {},
   "outputs": [],
   "source": [
    "# data = [df[col].values for col in df.columns]\n",
    "# print(data[:8])"
   ]
  },
  {
   "cell_type": "code",
   "execution_count": 24,
   "metadata": {},
   "outputs": [],
   "source": [
    "# # individual boxplots for columns \n",
    "\n",
    "# data = [df[col].values for col in df.columns][:8]\n",
    "# # data = df[\"acceleration\"].values\n",
    "# # fig = plt.figure(figsize=(10, 10))\n",
    "\n",
    "# plt.boxplot(data)\n",
    "# plt.show()"
   ]
  },
  {
   "cell_type": "code",
   "execution_count": 25,
   "metadata": {},
   "outputs": [
    {
     "data": {
      "application/vnd.plotly.v1+json": {
       "config": {
        "plotlyServerURL": "https://plot.ly"
       },
       "data": [
        {
         "alignmentgroup": "True",
         "hovertemplate": "variable=%{x}<br>value=%{y}<extra></extra>",
         "legendgroup": "",
         "marker": {
          "color": "#636efa"
         },
         "name": "",
         "notched": false,
         "offsetgroup": "",
         "orientation": "v",
         "showlegend": false,
         "type": "box",
         "x": [
          "acceleration",
          "acceleration",
          "acceleration",
          "acceleration",
          "acceleration",
          "acceleration",
          "acceleration",
          "acceleration",
          "acceleration",
          "acceleration",
          "acceleration",
          "acceleration",
          "acceleration",
          "acceleration",
          "acceleration",
          "acceleration",
          "acceleration",
          "acceleration",
          "acceleration",
          "acceleration",
          "acceleration",
          "acceleration",
          "acceleration",
          "acceleration",
          "acceleration",
          "acceleration",
          "acceleration",
          "acceleration",
          "acceleration",
          "acceleration",
          "acceleration",
          "acceleration",
          "acceleration",
          "acceleration",
          "acceleration",
          "acceleration",
          "acceleration",
          "acceleration",
          "acceleration",
          "acceleration",
          "acceleration",
          "acceleration",
          "acceleration",
          "acceleration",
          "acceleration",
          "acceleration",
          "acceleration",
          "acceleration",
          "acceleration",
          "acceleration",
          "acceleration",
          "acceleration",
          "acceleration",
          "acceleration",
          "acceleration",
          "acceleration",
          "acceleration",
          "acceleration",
          "acceleration",
          "acceleration",
          "acceleration",
          "acceleration",
          "acceleration",
          "acceleration",
          "acceleration",
          "acceleration",
          "acceleration",
          "acceleration",
          "acceleration",
          "acceleration",
          "acceleration",
          "acceleration",
          "acceleration",
          "acceleration",
          "acceleration",
          "acceleration",
          "acceleration",
          "acceleration",
          "acceleration",
          "acceleration",
          "acceleration",
          "acceleration",
          "acceleration",
          "acceleration",
          "acceleration",
          "acceleration",
          "acceleration",
          "acceleration",
          "acceleration",
          "acceleration",
          "acceleration",
          "acceleration",
          "acceleration",
          "acceleration",
          "acceleration",
          "acceleration",
          "acceleration",
          "acceleration",
          "acceleration",
          "acceleration",
          "acceleration",
          "acceleration",
          "acceleration",
          "acceleration",
          "acceleration",
          "acceleration",
          "acceleration",
          "acceleration",
          "acceleration",
          "acceleration",
          "acceleration",
          "acceleration",
          "acceleration",
          "acceleration",
          "acceleration",
          "acceleration",
          "acceleration",
          "acceleration",
          "acceleration",
          "acceleration",
          "acceleration",
          "acceleration",
          "acceleration",
          "acceleration",
          "acceleration",
          "acceleration",
          "acceleration",
          "acceleration",
          "acceleration",
          "acceleration",
          "acceleration",
          "acceleration",
          "acceleration",
          "acceleration",
          "acceleration",
          "acceleration",
          "acceleration",
          "acceleration",
          "acceleration",
          "acceleration",
          "acceleration",
          "acceleration",
          "acceleration",
          "acceleration",
          "acceleration",
          "acceleration",
          "acceleration",
          "acceleration",
          "acceleration",
          "acceleration",
          "acceleration",
          "acceleration",
          "acceleration",
          "acceleration",
          "acceleration",
          "acceleration",
          "acceleration",
          "acceleration",
          "acceleration",
          "acceleration",
          "acceleration",
          "acceleration",
          "acceleration",
          "acceleration",
          "acceleration",
          "acceleration",
          "acceleration",
          "acceleration",
          "acceleration",
          "acceleration",
          "acceleration",
          "acceleration",
          "acceleration",
          "acceleration",
          "acceleration",
          "acceleration",
          "acceleration",
          "acceleration",
          "acceleration",
          "acceleration",
          "acceleration",
          "acceleration",
          "acceleration",
          "acceleration",
          "acceleration",
          "acceleration",
          "acceleration",
          "acceleration",
          "acceleration",
          "acceleration",
          "acceleration",
          "acceleration",
          "acceleration",
          "acceleration",
          "acceleration",
          "acceleration",
          "acceleration",
          "acceleration",
          "acceleration",
          "acceleration",
          "acceleration",
          "acceleration",
          "acceleration",
          "acceleration",
          "acceleration",
          "acceleration",
          "acceleration",
          "acceleration",
          "acceleration",
          "acceleration",
          "acceleration",
          "acceleration",
          "acceleration",
          "acceleration",
          "acceleration",
          "acceleration",
          "acceleration",
          "acceleration",
          "acceleration",
          "acceleration",
          "acceleration",
          "acceleration",
          "acceleration",
          "acceleration",
          "acceleration",
          "acceleration",
          "acceleration",
          "acceleration",
          "acceleration",
          "acceleration",
          "acceleration",
          "acceleration",
          "acceleration",
          "acceleration",
          "acceleration",
          "acceleration",
          "acceleration",
          "acceleration",
          "acceleration",
          "acceleration",
          "acceleration",
          "acceleration",
          "acceleration",
          "acceleration",
          "acceleration",
          "acceleration",
          "acceleration",
          "acceleration",
          "acceleration",
          "acceleration",
          "acceleration",
          "acceleration",
          "acceleration",
          "acceleration",
          "acceleration",
          "acceleration",
          "acceleration",
          "acceleration",
          "acceleration",
          "acceleration",
          "acceleration",
          "acceleration",
          "acceleration",
          "acceleration",
          "acceleration",
          "acceleration",
          "acceleration",
          "acceleration",
          "acceleration",
          "acceleration",
          "acceleration",
          "acceleration",
          "acceleration",
          "acceleration",
          "acceleration",
          "acceleration",
          "acceleration",
          "acceleration",
          "acceleration",
          "acceleration",
          "acceleration",
          "acceleration",
          "acceleration",
          "acceleration",
          "acceleration",
          "acceleration",
          "acceleration",
          "acceleration",
          "acceleration",
          "acceleration",
          "acceleration",
          "acceleration",
          "acceleration",
          "acceleration",
          "acceleration",
          "acceleration",
          "acceleration",
          "acceleration",
          "acceleration",
          "acceleration",
          "acceleration",
          "acceleration",
          "acceleration",
          "acceleration",
          "acceleration",
          "acceleration",
          "acceleration",
          "acceleration",
          "acceleration",
          "acceleration",
          "acceleration",
          "acceleration",
          "acceleration",
          "acceleration",
          "acceleration",
          "acceleration",
          "acceleration",
          "acceleration",
          "acceleration",
          "acceleration",
          "acceleration",
          "acceleration",
          "acceleration",
          "acceleration",
          "acceleration",
          "acceleration",
          "acceleration",
          "acceleration",
          "acceleration",
          "acceleration",
          "acceleration",
          "acceleration",
          "acceleration",
          "acceleration",
          "acceleration",
          "acceleration",
          "acceleration",
          "acceleration",
          "acceleration",
          "acceleration",
          "acceleration",
          "acceleration",
          "acceleration",
          "acceleration",
          "acceleration",
          "acceleration",
          "acceleration",
          "acceleration",
          "acceleration",
          "acceleration",
          "acceleration",
          "acceleration",
          "acceleration",
          "acceleration",
          "acceleration",
          "acceleration",
          "acceleration",
          "acceleration",
          "acceleration",
          "acceleration",
          "acceleration",
          "acceleration",
          "acceleration",
          "acceleration",
          "acceleration",
          "acceleration",
          "acceleration",
          "acceleration",
          "acceleration",
          "acceleration",
          "acceleration",
          "acceleration",
          "acceleration",
          "acceleration",
          "acceleration",
          "acceleration",
          "acceleration",
          "acceleration",
          "acceleration",
          "acceleration",
          "acceleration",
          "acceleration",
          "acceleration",
          "acceleration",
          "acceleration",
          "acceleration",
          "acceleration",
          "acceleration",
          "acceleration",
          "acceleration",
          "acceleration",
          "acceleration",
          "acceleration",
          "acceleration",
          "acceleration",
          "acceleration",
          "acceleration",
          "acceleration"
         ],
         "x0": " ",
         "xaxis": "x",
         "y": [
          12,
          11.5,
          11,
          12,
          10.5,
          10,
          9,
          8.5,
          10,
          8.5,
          10,
          8,
          9.5,
          10,
          15,
          15.5,
          15.5,
          16,
          14.5,
          20.5,
          17.5,
          14.5,
          17.5,
          12.5,
          15,
          14,
          15,
          13.5,
          18.5,
          14.5,
          15.5,
          14,
          19,
          13,
          15.5,
          15.5,
          15.5,
          15.5,
          12,
          11.5,
          13.5,
          13,
          11.5,
          12,
          12,
          13.5,
          19,
          15,
          14.5,
          14,
          14,
          19.5,
          14.5,
          19,
          18,
          19,
          20.5,
          15.5,
          17,
          23.5,
          19.5,
          16.5,
          12,
          12,
          13.5,
          13,
          11.5,
          11,
          13.5,
          13.5,
          12.5,
          13.5,
          12.5,
          14,
          16,
          14,
          14.5,
          18,
          19.5,
          18,
          16,
          17,
          14.5,
          15,
          16.5,
          13,
          11.5,
          13,
          14.5,
          12.5,
          11.5,
          12,
          13,
          14.5,
          11,
          11,
          11,
          16.5,
          18,
          16,
          16.5,
          16,
          21,
          14,
          12.5,
          13,
          12.5,
          15,
          19,
          19.5,
          16.5,
          13.5,
          18.5,
          14,
          15.5,
          13,
          9.5,
          19.5,
          15.5,
          14,
          15.5,
          11,
          14,
          13.5,
          11,
          16.5,
          17,
          16,
          17,
          19,
          16.5,
          21,
          17,
          17,
          18,
          16.5,
          14,
          14.5,
          13.5,
          16,
          15.5,
          16.5,
          15.5,
          14.5,
          16.5,
          19,
          14.5,
          15.5,
          14,
          15,
          15.5,
          16,
          16,
          16,
          21,
          19.5,
          11.5,
          14,
          14.5,
          13.5,
          21,
          18.5,
          19,
          19,
          15,
          13.5,
          12,
          16,
          17,
          16,
          18.5,
          13.5,
          16.5,
          17,
          14.5,
          14,
          17,
          15,
          17,
          14.5,
          13.5,
          17.5,
          15.5,
          16.9,
          14.9,
          17.7,
          15.3,
          13,
          13,
          13.9,
          12.8,
          15.4,
          14.5,
          17.6,
          17.6,
          22.2,
          22.1,
          14.2,
          17.4,
          17.7,
          21,
          16.2,
          17.8,
          12.2,
          17,
          16.4,
          13.6,
          15.7,
          13.2,
          21.9,
          15.5,
          16.7,
          12.1,
          12,
          15,
          14,
          18.5,
          14.8,
          18.6,
          15.5,
          16.8,
          12.5,
          19,
          13.7,
          14.9,
          16.4,
          16.9,
          17.7,
          19,
          11.1,
          11.4,
          12.2,
          14.5,
          14.5,
          16,
          18.2,
          15.8,
          17,
          15.9,
          16.4,
          14.1,
          14.5,
          12.8,
          13.5,
          21.5,
          14.4,
          19.4,
          18.6,
          16.4,
          15.5,
          13.2,
          12.8,
          19.2,
          18.2,
          15.8,
          15.4,
          17.2,
          17.2,
          15.8,
          16.7,
          18.7,
          15.1,
          13.2,
          13.4,
          11.2,
          13.7,
          16.5,
          14.2,
          14.7,
          14.5,
          14.8,
          16.7,
          17.6,
          14.9,
          15.9,
          13.6,
          15.7,
          15.8,
          14.9,
          16.6,
          15.4,
          18.2,
          17.3,
          18.2,
          16.6,
          15.4,
          13.4,
          13.2,
          15.2,
          14.9,
          14.3,
          15,
          13,
          14,
          15.2,
          14.4,
          15,
          20.1,
          17.4,
          24.8,
          22.2,
          13.2,
          14.9,
          19.2,
          14.7,
          16,
          11.3,
          12.9,
          13.2,
          14.7,
          18.8,
          15.5,
          16.4,
          16.5,
          18.1,
          20.1,
          18.7,
          15.8,
          15.5,
          17.5,
          15,
          15.2,
          17.9,
          14.4,
          19.2,
          21.7,
          23.7,
          19.9,
          21.8,
          13.8,
          17.3,
          18,
          15.3,
          11.4,
          12.5,
          15.1,
          14.3,
          17,
          15.7,
          16.4,
          14.4,
          12.6,
          12.9,
          16.9,
          16.4,
          16.1,
          17.8,
          19.4,
          17.3,
          16,
          14.9,
          16.2,
          20.7,
          14.2,
          15.8,
          14.4,
          16.8,
          14.8,
          18.3,
          20.4,
          19.6,
          12.6,
          13.8,
          15.8,
          19,
          17.1,
          16.6,
          19.6,
          18.6,
          18,
          16.2,
          16,
          18,
          16.4,
          20.5,
          15.3,
          18.2,
          17.6,
          14.7,
          17.3,
          14.5,
          14.5,
          16.9,
          15,
          15.7,
          16.2,
          16.4,
          17,
          14.5,
          14.7,
          13.9,
          13,
          17.3,
          15.6,
          24.6,
          11.6,
          18.6,
          19.4
         ],
         "y0": " ",
         "yaxis": "y"
        }
       ],
       "layout": {
        "boxmode": "group",
        "legend": {
         "tracegroupgap": 0
        },
        "margin": {
         "t": 60
        },
        "template": {
         "data": {
          "bar": [
           {
            "error_x": {
             "color": "#2a3f5f"
            },
            "error_y": {
             "color": "#2a3f5f"
            },
            "marker": {
             "line": {
              "color": "#E5ECF6",
              "width": 0.5
             },
             "pattern": {
              "fillmode": "overlay",
              "size": 10,
              "solidity": 0.2
             }
            },
            "type": "bar"
           }
          ],
          "barpolar": [
           {
            "marker": {
             "line": {
              "color": "#E5ECF6",
              "width": 0.5
             },
             "pattern": {
              "fillmode": "overlay",
              "size": 10,
              "solidity": 0.2
             }
            },
            "type": "barpolar"
           }
          ],
          "carpet": [
           {
            "aaxis": {
             "endlinecolor": "#2a3f5f",
             "gridcolor": "white",
             "linecolor": "white",
             "minorgridcolor": "white",
             "startlinecolor": "#2a3f5f"
            },
            "baxis": {
             "endlinecolor": "#2a3f5f",
             "gridcolor": "white",
             "linecolor": "white",
             "minorgridcolor": "white",
             "startlinecolor": "#2a3f5f"
            },
            "type": "carpet"
           }
          ],
          "choropleth": [
           {
            "colorbar": {
             "outlinewidth": 0,
             "ticks": ""
            },
            "type": "choropleth"
           }
          ],
          "contour": [
           {
            "colorbar": {
             "outlinewidth": 0,
             "ticks": ""
            },
            "colorscale": [
             [
              0,
              "#0d0887"
             ],
             [
              0.1111111111111111,
              "#46039f"
             ],
             [
              0.2222222222222222,
              "#7201a8"
             ],
             [
              0.3333333333333333,
              "#9c179e"
             ],
             [
              0.4444444444444444,
              "#bd3786"
             ],
             [
              0.5555555555555556,
              "#d8576b"
             ],
             [
              0.6666666666666666,
              "#ed7953"
             ],
             [
              0.7777777777777778,
              "#fb9f3a"
             ],
             [
              0.8888888888888888,
              "#fdca26"
             ],
             [
              1,
              "#f0f921"
             ]
            ],
            "type": "contour"
           }
          ],
          "contourcarpet": [
           {
            "colorbar": {
             "outlinewidth": 0,
             "ticks": ""
            },
            "type": "contourcarpet"
           }
          ],
          "heatmap": [
           {
            "colorbar": {
             "outlinewidth": 0,
             "ticks": ""
            },
            "colorscale": [
             [
              0,
              "#0d0887"
             ],
             [
              0.1111111111111111,
              "#46039f"
             ],
             [
              0.2222222222222222,
              "#7201a8"
             ],
             [
              0.3333333333333333,
              "#9c179e"
             ],
             [
              0.4444444444444444,
              "#bd3786"
             ],
             [
              0.5555555555555556,
              "#d8576b"
             ],
             [
              0.6666666666666666,
              "#ed7953"
             ],
             [
              0.7777777777777778,
              "#fb9f3a"
             ],
             [
              0.8888888888888888,
              "#fdca26"
             ],
             [
              1,
              "#f0f921"
             ]
            ],
            "type": "heatmap"
           }
          ],
          "heatmapgl": [
           {
            "colorbar": {
             "outlinewidth": 0,
             "ticks": ""
            },
            "colorscale": [
             [
              0,
              "#0d0887"
             ],
             [
              0.1111111111111111,
              "#46039f"
             ],
             [
              0.2222222222222222,
              "#7201a8"
             ],
             [
              0.3333333333333333,
              "#9c179e"
             ],
             [
              0.4444444444444444,
              "#bd3786"
             ],
             [
              0.5555555555555556,
              "#d8576b"
             ],
             [
              0.6666666666666666,
              "#ed7953"
             ],
             [
              0.7777777777777778,
              "#fb9f3a"
             ],
             [
              0.8888888888888888,
              "#fdca26"
             ],
             [
              1,
              "#f0f921"
             ]
            ],
            "type": "heatmapgl"
           }
          ],
          "histogram": [
           {
            "marker": {
             "pattern": {
              "fillmode": "overlay",
              "size": 10,
              "solidity": 0.2
             }
            },
            "type": "histogram"
           }
          ],
          "histogram2d": [
           {
            "colorbar": {
             "outlinewidth": 0,
             "ticks": ""
            },
            "colorscale": [
             [
              0,
              "#0d0887"
             ],
             [
              0.1111111111111111,
              "#46039f"
             ],
             [
              0.2222222222222222,
              "#7201a8"
             ],
             [
              0.3333333333333333,
              "#9c179e"
             ],
             [
              0.4444444444444444,
              "#bd3786"
             ],
             [
              0.5555555555555556,
              "#d8576b"
             ],
             [
              0.6666666666666666,
              "#ed7953"
             ],
             [
              0.7777777777777778,
              "#fb9f3a"
             ],
             [
              0.8888888888888888,
              "#fdca26"
             ],
             [
              1,
              "#f0f921"
             ]
            ],
            "type": "histogram2d"
           }
          ],
          "histogram2dcontour": [
           {
            "colorbar": {
             "outlinewidth": 0,
             "ticks": ""
            },
            "colorscale": [
             [
              0,
              "#0d0887"
             ],
             [
              0.1111111111111111,
              "#46039f"
             ],
             [
              0.2222222222222222,
              "#7201a8"
             ],
             [
              0.3333333333333333,
              "#9c179e"
             ],
             [
              0.4444444444444444,
              "#bd3786"
             ],
             [
              0.5555555555555556,
              "#d8576b"
             ],
             [
              0.6666666666666666,
              "#ed7953"
             ],
             [
              0.7777777777777778,
              "#fb9f3a"
             ],
             [
              0.8888888888888888,
              "#fdca26"
             ],
             [
              1,
              "#f0f921"
             ]
            ],
            "type": "histogram2dcontour"
           }
          ],
          "mesh3d": [
           {
            "colorbar": {
             "outlinewidth": 0,
             "ticks": ""
            },
            "type": "mesh3d"
           }
          ],
          "parcoords": [
           {
            "line": {
             "colorbar": {
              "outlinewidth": 0,
              "ticks": ""
             }
            },
            "type": "parcoords"
           }
          ],
          "pie": [
           {
            "automargin": true,
            "type": "pie"
           }
          ],
          "scatter": [
           {
            "fillpattern": {
             "fillmode": "overlay",
             "size": 10,
             "solidity": 0.2
            },
            "type": "scatter"
           }
          ],
          "scatter3d": [
           {
            "line": {
             "colorbar": {
              "outlinewidth": 0,
              "ticks": ""
             }
            },
            "marker": {
             "colorbar": {
              "outlinewidth": 0,
              "ticks": ""
             }
            },
            "type": "scatter3d"
           }
          ],
          "scattercarpet": [
           {
            "marker": {
             "colorbar": {
              "outlinewidth": 0,
              "ticks": ""
             }
            },
            "type": "scattercarpet"
           }
          ],
          "scattergeo": [
           {
            "marker": {
             "colorbar": {
              "outlinewidth": 0,
              "ticks": ""
             }
            },
            "type": "scattergeo"
           }
          ],
          "scattergl": [
           {
            "marker": {
             "colorbar": {
              "outlinewidth": 0,
              "ticks": ""
             }
            },
            "type": "scattergl"
           }
          ],
          "scattermapbox": [
           {
            "marker": {
             "colorbar": {
              "outlinewidth": 0,
              "ticks": ""
             }
            },
            "type": "scattermapbox"
           }
          ],
          "scatterpolar": [
           {
            "marker": {
             "colorbar": {
              "outlinewidth": 0,
              "ticks": ""
             }
            },
            "type": "scatterpolar"
           }
          ],
          "scatterpolargl": [
           {
            "marker": {
             "colorbar": {
              "outlinewidth": 0,
              "ticks": ""
             }
            },
            "type": "scatterpolargl"
           }
          ],
          "scatterternary": [
           {
            "marker": {
             "colorbar": {
              "outlinewidth": 0,
              "ticks": ""
             }
            },
            "type": "scatterternary"
           }
          ],
          "surface": [
           {
            "colorbar": {
             "outlinewidth": 0,
             "ticks": ""
            },
            "colorscale": [
             [
              0,
              "#0d0887"
             ],
             [
              0.1111111111111111,
              "#46039f"
             ],
             [
              0.2222222222222222,
              "#7201a8"
             ],
             [
              0.3333333333333333,
              "#9c179e"
             ],
             [
              0.4444444444444444,
              "#bd3786"
             ],
             [
              0.5555555555555556,
              "#d8576b"
             ],
             [
              0.6666666666666666,
              "#ed7953"
             ],
             [
              0.7777777777777778,
              "#fb9f3a"
             ],
             [
              0.8888888888888888,
              "#fdca26"
             ],
             [
              1,
              "#f0f921"
             ]
            ],
            "type": "surface"
           }
          ],
          "table": [
           {
            "cells": {
             "fill": {
              "color": "#EBF0F8"
             },
             "line": {
              "color": "white"
             }
            },
            "header": {
             "fill": {
              "color": "#C8D4E3"
             },
             "line": {
              "color": "white"
             }
            },
            "type": "table"
           }
          ]
         },
         "layout": {
          "annotationdefaults": {
           "arrowcolor": "#2a3f5f",
           "arrowhead": 0,
           "arrowwidth": 1
          },
          "autotypenumbers": "strict",
          "coloraxis": {
           "colorbar": {
            "outlinewidth": 0,
            "ticks": ""
           }
          },
          "colorscale": {
           "diverging": [
            [
             0,
             "#8e0152"
            ],
            [
             0.1,
             "#c51b7d"
            ],
            [
             0.2,
             "#de77ae"
            ],
            [
             0.3,
             "#f1b6da"
            ],
            [
             0.4,
             "#fde0ef"
            ],
            [
             0.5,
             "#f7f7f7"
            ],
            [
             0.6,
             "#e6f5d0"
            ],
            [
             0.7,
             "#b8e186"
            ],
            [
             0.8,
             "#7fbc41"
            ],
            [
             0.9,
             "#4d9221"
            ],
            [
             1,
             "#276419"
            ]
           ],
           "sequential": [
            [
             0,
             "#0d0887"
            ],
            [
             0.1111111111111111,
             "#46039f"
            ],
            [
             0.2222222222222222,
             "#7201a8"
            ],
            [
             0.3333333333333333,
             "#9c179e"
            ],
            [
             0.4444444444444444,
             "#bd3786"
            ],
            [
             0.5555555555555556,
             "#d8576b"
            ],
            [
             0.6666666666666666,
             "#ed7953"
            ],
            [
             0.7777777777777778,
             "#fb9f3a"
            ],
            [
             0.8888888888888888,
             "#fdca26"
            ],
            [
             1,
             "#f0f921"
            ]
           ],
           "sequentialminus": [
            [
             0,
             "#0d0887"
            ],
            [
             0.1111111111111111,
             "#46039f"
            ],
            [
             0.2222222222222222,
             "#7201a8"
            ],
            [
             0.3333333333333333,
             "#9c179e"
            ],
            [
             0.4444444444444444,
             "#bd3786"
            ],
            [
             0.5555555555555556,
             "#d8576b"
            ],
            [
             0.6666666666666666,
             "#ed7953"
            ],
            [
             0.7777777777777778,
             "#fb9f3a"
            ],
            [
             0.8888888888888888,
             "#fdca26"
            ],
            [
             1,
             "#f0f921"
            ]
           ]
          },
          "colorway": [
           "#636efa",
           "#EF553B",
           "#00cc96",
           "#ab63fa",
           "#FFA15A",
           "#19d3f3",
           "#FF6692",
           "#B6E880",
           "#FF97FF",
           "#FECB52"
          ],
          "font": {
           "color": "#2a3f5f"
          },
          "geo": {
           "bgcolor": "white",
           "lakecolor": "white",
           "landcolor": "#E5ECF6",
           "showlakes": true,
           "showland": true,
           "subunitcolor": "white"
          },
          "hoverlabel": {
           "align": "left"
          },
          "hovermode": "closest",
          "mapbox": {
           "style": "light"
          },
          "paper_bgcolor": "white",
          "plot_bgcolor": "#E5ECF6",
          "polar": {
           "angularaxis": {
            "gridcolor": "white",
            "linecolor": "white",
            "ticks": ""
           },
           "bgcolor": "#E5ECF6",
           "radialaxis": {
            "gridcolor": "white",
            "linecolor": "white",
            "ticks": ""
           }
          },
          "scene": {
           "xaxis": {
            "backgroundcolor": "#E5ECF6",
            "gridcolor": "white",
            "gridwidth": 2,
            "linecolor": "white",
            "showbackground": true,
            "ticks": "",
            "zerolinecolor": "white"
           },
           "yaxis": {
            "backgroundcolor": "#E5ECF6",
            "gridcolor": "white",
            "gridwidth": 2,
            "linecolor": "white",
            "showbackground": true,
            "ticks": "",
            "zerolinecolor": "white"
           },
           "zaxis": {
            "backgroundcolor": "#E5ECF6",
            "gridcolor": "white",
            "gridwidth": 2,
            "linecolor": "white",
            "showbackground": true,
            "ticks": "",
            "zerolinecolor": "white"
           }
          },
          "shapedefaults": {
           "line": {
            "color": "#2a3f5f"
           }
          },
          "ternary": {
           "aaxis": {
            "gridcolor": "white",
            "linecolor": "white",
            "ticks": ""
           },
           "baxis": {
            "gridcolor": "white",
            "linecolor": "white",
            "ticks": ""
           },
           "bgcolor": "#E5ECF6",
           "caxis": {
            "gridcolor": "white",
            "linecolor": "white",
            "ticks": ""
           }
          },
          "title": {
           "x": 0.05
          },
          "xaxis": {
           "automargin": true,
           "gridcolor": "white",
           "linecolor": "white",
           "ticks": "",
           "title": {
            "standoff": 15
           },
           "zerolinecolor": "white",
           "zerolinewidth": 2
          },
          "yaxis": {
           "automargin": true,
           "gridcolor": "white",
           "linecolor": "white",
           "ticks": "",
           "title": {
            "standoff": 15
           },
           "zerolinecolor": "white",
           "zerolinewidth": 2
          }
         }
        },
        "xaxis": {
         "anchor": "y",
         "domain": [
          0,
          1
         ],
         "title": {
          "text": "variable"
         }
        },
        "yaxis": {
         "anchor": "x",
         "domain": [
          0,
          1
         ],
         "title": {
          "text": "value"
         }
        }
       }
      }
     },
     "metadata": {},
     "output_type": "display_data"
    }
   ],
   "source": [
    "# box plot using plotly\n",
    "def box_whisker_plot(column_name):\n",
    "\n",
    "    fig = px.box(df[column_name])\n",
    "    fig.show()\n",
    "\n",
    "box_whisker_plot(\"acceleration\")"
   ]
  },
  {
   "cell_type": "markdown",
   "metadata": {},
   "source": [
    "# Ways to deal with outliers\n"
   ]
  },
  {
   "cell_type": "markdown",
   "metadata": {},
   "source": [
    "#### Five ways to deal with outliers\n",
    "\n",
    "- Sorting data to find outliers (extreme values)\n",
    "- Making box whisker plots to find outliers in data\n",
    "- Histograms can also help where lowest height bars can be identified as outliers\n",
    "- Fitted line plots\n",
    "- Using Z-Scores in the Normal Distribution to detect outliers \n",
    "- Leverage interqurtile range to fence the outliers \n",
    "- Use hypothesis tests to find outliers (Challenges : Masking and Swamping)\n"
   ]
  },
  {
   "cell_type": "markdown",
   "metadata": {},
   "source": [
    "# Remove outliers"
   ]
  },
  {
   "cell_type": "code",
   "execution_count": 26,
   "metadata": {},
   "outputs": [],
   "source": [
    "# Remove all rows where the specified column is greater than or less than standard deviation. \n",
    "\n",
    "def remove_outliers(df, name, sd):\n",
    "    drop_rows = df.index[(np.abs(df[name] - df[name].mean()) >= (sd*df[name].std()))]\n",
    "    df.drop(drop_rows, axis=0, inplace=True)\n",
    "\n",
    "    "
   ]
  },
  {
   "cell_type": "code",
   "execution_count": 27,
   "metadata": {},
   "outputs": [],
   "source": [
    "# distribution plot\n",
    "\n",
    "def dist_plot_df(column_name):\n",
    "#     # fig = px.histogram(df[column_name])\n",
    "    fig = ff.create_distplot(hist_data=[df[column_name]], group_labels=[column_name])\n",
    "    fig.show()"
   ]
  },
  {
   "cell_type": "code",
   "execution_count": 28,
   "metadata": {},
   "outputs": [
    {
     "data": {
      "text/plain": [
       "[32, 126, 330, 336, 354, 374]"
      ]
     },
     "execution_count": 28,
     "metadata": {},
     "output_type": "execute_result"
    }
   ],
   "source": [
    "#To deal with outliers one way to achieve is to measure standard devaiation for each column and remove any columns that donot fall into the range. \n",
    "\n",
    "df[df[\"horsepower\"] == 93.5][\"horsepower\"].index.tolist()\n"
   ]
  },
  {
   "cell_type": "code",
   "execution_count": 39,
   "metadata": {},
   "outputs": [],
   "source": [
    "def max_value_in_col(column_name):\n",
    "    return df.loc[df[df[column_name] == df[column_name].max()].index].values"
   ]
  },
  {
   "cell_type": "code",
   "execution_count": 40,
   "metadata": {},
   "outputs": [],
   "source": [
    "def total_analysys(subject_variable):\n",
    "    print(\"standard Deviation:\", df[subject_variable].std())\n",
    "    print(\"maximum mpg is delivered by: \\n \", max_value_in_col(subject_variable))\n",
    "    print(\"Number of records: \", len(df))\n",
    "\n",
    "    box_whisker_plot(subject_variable)\n",
    "    dist_plot_df(subject_variable)\n",
    "\n"
   ]
  },
  {
   "cell_type": "code",
   "execution_count": 45,
   "metadata": {},
   "outputs": [
    {
     "name": "stdout",
     "output_type": "stream",
     "text": [
      "Index(['mpg', 'cylinders', 'displacement', 'horsepower', 'weight',\n",
      "       'acceleration', 'year', 'origin', 'name'],\n",
      "      dtype='object')\n",
      "standard Deviation: 0.7447666015851231\n",
      "maximum mpg is delivered by: \n",
      "  [[24.0 4 113.0 95.0 2372 15.0 70 3 'toyota corona mark ii']\n",
      " [27.0 4 97.0 88.0 2130 14.5 70 3 'datsun pl510']\n",
      " [27.0 4 97.0 88.0 2130 14.5 71 3 'datsun pl510']\n",
      " [25.0 4 113.0 95.0 2228 14.0 71 3 'toyota corona']\n",
      " [31.0 4 71.0 65.0 1773 19.0 71 3 'toyota corolla 1200']\n",
      " [24.0 4 113.0 95.0 2278 15.5 72 3 'toyota corona hardtop']\n",
      " [19.0 3 70.0 97.0 2330 13.5 72 3 'mazda rx2 coupe']\n",
      " [28.0 4 97.0 92.0 2288 17.0 72 3 'datsun 510 (sw)']\n",
      " [23.0 4 120.0 97.0 2506 14.5 72 3 'toyouta corona mark ii (sw)']\n",
      " [27.0 4 97.0 88.0 2100 16.5 72 3 'toyota corolla 1600 (sw)']\n",
      " [20.0 4 97.0 88.0 2279 19.0 73 3 'toyota carina']\n",
      " [22.0 4 108.0 94.0 2379 16.5 73 3 'datsun 610']\n",
      " [18.0 3 70.0 90.0 2124 13.5 73 3 'maxda rx3']\n",
      " [20.0 6 156.0 122.0 2807 13.5 73 3 'toyota mark ii']\n",
      " [31.0 4 79.0 67.0 1950 19.0 74 3 'datsun b210']\n",
      " [31.0 4 76.0 52.0 1649 16.5 74 3 'toyota corona']\n",
      " [24.0 4 120.0 97.0 2489 15.0 74 3 'honda civic']\n",
      " [26.0 4 108.0 93.0 2391 15.5 74 3 'subaru']\n",
      " [29.0 4 97.0 75.0 2171 16.0 75 3 'toyota corolla']\n",
      " [24.0 4 134.0 96.0 2702 13.5 75 3 'toyota corona']\n",
      " [24.0 4 119.0 97.0 2545 17.0 75 3 'datsun 710']\n",
      " [28.0 4 97.0 75.0 2155 16.4 76 3 'toyota corolla']\n",
      " [19.0 6 156.0 108.0 2930 15.5 76 3 'toyota mark ii']\n",
      " [26.0 4 97.0 75.0 2265 18.2 77 3 'toyota corolla liftback']\n",
      " [30.0 4 97.0 67.0 1985 16.4 77 3 'subaru dl']\n",
      " [22.0 6 146.0 97.0 2815 14.5 77 3 'datsun 810']\n",
      " [21.5 3 80.0 110.0 2720 13.5 77 3 'mazda rx-4']\n",
      " [27.5 4 134.0 95.0 2560 14.2 78 3 'toyota corona']\n",
      " [27.2 4 119.0 97.0 2300 14.7 78 3 'datsun 510']\n",
      " [21.1 4 134.0 95.0 2515 14.8 78 3 'toyota celica gt liftback']\n",
      " [23.9 4 119.0 97.0 2405 14.9 78 3 'datsun 200-sx']\n",
      " [29.5 4 98.0 68.0 2135 16.6 78 3 'honda accord lx']\n",
      " [29.8 4 134.0 90.0 2711 15.5 80 3 'toyota corona liftback']\n",
      " [31.3 4 120.0 75.0 2542 17.5 80 3 'mazda 626']\n",
      " [23.7 3 70.0 100.0 2420 12.5 80 3 'mazda rx-7 gs']\n",
      " [25.4 6 168.0 116.0 2900 12.6 81 3 'toyota cressida']\n",
      " [24.2 6 146.0 120.0 2930 13.8 81 3 'datsun 810 maxima']\n",
      " [31.0 4 91.0 68.0 1970 17.6 82 3 'mazda glc custom']]\n",
      "Number of records:  251\n"
     ]
    },
    {
     "data": {
      "application/vnd.plotly.v1+json": {
       "config": {
        "plotlyServerURL": "https://plot.ly"
       },
       "data": [
        {
         "alignmentgroup": "True",
         "hovertemplate": "variable=%{x}<br>value=%{y}<extra></extra>",
         "legendgroup": "",
         "marker": {
          "color": "#636efa"
         },
         "name": "",
         "notched": false,
         "offsetgroup": "",
         "orientation": "v",
         "showlegend": false,
         "type": "box",
         "x": [
          "origin",
          "origin",
          "origin",
          "origin",
          "origin",
          "origin",
          "origin",
          "origin",
          "origin",
          "origin",
          "origin",
          "origin",
          "origin",
          "origin",
          "origin",
          "origin",
          "origin",
          "origin",
          "origin",
          "origin",
          "origin",
          "origin",
          "origin",
          "origin",
          "origin",
          "origin",
          "origin",
          "origin",
          "origin",
          "origin",
          "origin",
          "origin",
          "origin",
          "origin",
          "origin",
          "origin",
          "origin",
          "origin",
          "origin",
          "origin",
          "origin",
          "origin",
          "origin",
          "origin",
          "origin",
          "origin",
          "origin",
          "origin",
          "origin",
          "origin",
          "origin",
          "origin",
          "origin",
          "origin",
          "origin",
          "origin",
          "origin",
          "origin",
          "origin",
          "origin",
          "origin",
          "origin",
          "origin",
          "origin",
          "origin",
          "origin",
          "origin",
          "origin",
          "origin",
          "origin",
          "origin",
          "origin",
          "origin",
          "origin",
          "origin",
          "origin",
          "origin",
          "origin",
          "origin",
          "origin",
          "origin",
          "origin",
          "origin",
          "origin",
          "origin",
          "origin",
          "origin",
          "origin",
          "origin",
          "origin",
          "origin",
          "origin",
          "origin",
          "origin",
          "origin",
          "origin",
          "origin",
          "origin",
          "origin",
          "origin",
          "origin",
          "origin",
          "origin",
          "origin",
          "origin",
          "origin",
          "origin",
          "origin",
          "origin",
          "origin",
          "origin",
          "origin",
          "origin",
          "origin",
          "origin",
          "origin",
          "origin",
          "origin",
          "origin",
          "origin",
          "origin",
          "origin",
          "origin",
          "origin",
          "origin",
          "origin",
          "origin",
          "origin",
          "origin",
          "origin",
          "origin",
          "origin",
          "origin",
          "origin",
          "origin",
          "origin",
          "origin",
          "origin",
          "origin",
          "origin",
          "origin",
          "origin",
          "origin",
          "origin",
          "origin",
          "origin",
          "origin",
          "origin",
          "origin",
          "origin",
          "origin",
          "origin",
          "origin",
          "origin",
          "origin",
          "origin",
          "origin",
          "origin",
          "origin",
          "origin",
          "origin",
          "origin",
          "origin",
          "origin",
          "origin",
          "origin",
          "origin",
          "origin",
          "origin",
          "origin",
          "origin",
          "origin",
          "origin",
          "origin",
          "origin",
          "origin",
          "origin",
          "origin",
          "origin",
          "origin",
          "origin",
          "origin",
          "origin",
          "origin",
          "origin",
          "origin",
          "origin",
          "origin",
          "origin",
          "origin",
          "origin",
          "origin",
          "origin",
          "origin",
          "origin",
          "origin",
          "origin",
          "origin",
          "origin",
          "origin",
          "origin",
          "origin",
          "origin",
          "origin",
          "origin",
          "origin",
          "origin",
          "origin",
          "origin",
          "origin",
          "origin",
          "origin",
          "origin",
          "origin",
          "origin",
          "origin",
          "origin",
          "origin",
          "origin",
          "origin",
          "origin",
          "origin",
          "origin",
          "origin",
          "origin",
          "origin",
          "origin",
          "origin",
          "origin",
          "origin",
          "origin",
          "origin",
          "origin",
          "origin",
          "origin",
          "origin",
          "origin",
          "origin",
          "origin",
          "origin",
          "origin",
          "origin",
          "origin",
          "origin",
          "origin",
          "origin",
          "origin",
          "origin",
          "origin",
          "origin",
          "origin"
         ],
         "x0": " ",
         "xaxis": "x",
         "y": [
          1,
          1,
          1,
          1,
          3,
          1,
          1,
          1,
          3,
          2,
          2,
          2,
          2,
          2,
          1,
          3,
          1,
          3,
          1,
          1,
          1,
          1,
          1,
          1,
          1,
          1,
          1,
          1,
          1,
          2,
          2,
          2,
          3,
          2,
          1,
          3,
          1,
          2,
          1,
          1,
          1,
          3,
          2,
          2,
          2,
          2,
          1,
          3,
          3,
          1,
          3,
          1,
          1,
          1,
          1,
          1,
          2,
          1,
          3,
          1,
          3,
          3,
          1,
          1,
          2,
          1,
          2,
          2,
          2,
          2,
          2,
          3,
          1,
          1,
          1,
          3,
          1,
          1,
          1,
          1,
          1,
          1,
          2,
          2,
          2,
          3,
          1,
          2,
          2,
          3,
          3,
          2,
          1,
          1,
          1,
          1,
          1,
          1,
          1,
          1,
          1,
          3,
          1,
          1,
          1,
          3,
          2,
          3,
          1,
          2,
          1,
          2,
          2,
          2,
          2,
          2,
          2,
          1,
          1,
          2,
          1,
          1,
          1,
          1,
          1,
          1,
          1,
          1,
          2,
          1,
          1,
          1,
          1,
          2,
          3,
          1,
          2,
          2,
          3,
          2,
          1,
          1,
          1,
          1,
          1,
          1,
          1,
          1,
          1,
          1,
          1,
          2,
          1,
          3,
          1,
          1,
          3,
          2,
          3,
          2,
          3,
          1,
          1,
          1,
          1,
          1,
          1,
          1,
          1,
          1,
          1,
          1,
          1,
          1,
          1,
          1,
          1,
          1,
          1,
          3,
          3,
          1,
          3,
          1,
          1,
          3,
          2,
          2,
          2,
          2,
          3,
          1,
          1,
          1,
          1,
          1,
          1,
          1,
          1,
          1,
          1,
          1,
          1,
          1,
          2,
          1,
          2,
          1,
          1,
          1,
          1,
          1,
          1,
          1,
          1,
          3,
          3,
          1,
          2,
          2,
          3,
          1,
          1,
          1,
          1,
          1,
          1,
          1,
          2,
          2,
          3,
          3,
          1,
          1,
          1,
          1,
          1,
          1,
          1,
          1,
          1,
          1,
          1,
          3,
          1,
          1,
          1,
          1,
          1,
          1,
          1
         ],
         "y0": " ",
         "yaxis": "y"
        }
       ],
       "layout": {
        "boxmode": "group",
        "legend": {
         "tracegroupgap": 0
        },
        "margin": {
         "t": 60
        },
        "template": {
         "data": {
          "bar": [
           {
            "error_x": {
             "color": "#2a3f5f"
            },
            "error_y": {
             "color": "#2a3f5f"
            },
            "marker": {
             "line": {
              "color": "#E5ECF6",
              "width": 0.5
             },
             "pattern": {
              "fillmode": "overlay",
              "size": 10,
              "solidity": 0.2
             }
            },
            "type": "bar"
           }
          ],
          "barpolar": [
           {
            "marker": {
             "line": {
              "color": "#E5ECF6",
              "width": 0.5
             },
             "pattern": {
              "fillmode": "overlay",
              "size": 10,
              "solidity": 0.2
             }
            },
            "type": "barpolar"
           }
          ],
          "carpet": [
           {
            "aaxis": {
             "endlinecolor": "#2a3f5f",
             "gridcolor": "white",
             "linecolor": "white",
             "minorgridcolor": "white",
             "startlinecolor": "#2a3f5f"
            },
            "baxis": {
             "endlinecolor": "#2a3f5f",
             "gridcolor": "white",
             "linecolor": "white",
             "minorgridcolor": "white",
             "startlinecolor": "#2a3f5f"
            },
            "type": "carpet"
           }
          ],
          "choropleth": [
           {
            "colorbar": {
             "outlinewidth": 0,
             "ticks": ""
            },
            "type": "choropleth"
           }
          ],
          "contour": [
           {
            "colorbar": {
             "outlinewidth": 0,
             "ticks": ""
            },
            "colorscale": [
             [
              0,
              "#0d0887"
             ],
             [
              0.1111111111111111,
              "#46039f"
             ],
             [
              0.2222222222222222,
              "#7201a8"
             ],
             [
              0.3333333333333333,
              "#9c179e"
             ],
             [
              0.4444444444444444,
              "#bd3786"
             ],
             [
              0.5555555555555556,
              "#d8576b"
             ],
             [
              0.6666666666666666,
              "#ed7953"
             ],
             [
              0.7777777777777778,
              "#fb9f3a"
             ],
             [
              0.8888888888888888,
              "#fdca26"
             ],
             [
              1,
              "#f0f921"
             ]
            ],
            "type": "contour"
           }
          ],
          "contourcarpet": [
           {
            "colorbar": {
             "outlinewidth": 0,
             "ticks": ""
            },
            "type": "contourcarpet"
           }
          ],
          "heatmap": [
           {
            "colorbar": {
             "outlinewidth": 0,
             "ticks": ""
            },
            "colorscale": [
             [
              0,
              "#0d0887"
             ],
             [
              0.1111111111111111,
              "#46039f"
             ],
             [
              0.2222222222222222,
              "#7201a8"
             ],
             [
              0.3333333333333333,
              "#9c179e"
             ],
             [
              0.4444444444444444,
              "#bd3786"
             ],
             [
              0.5555555555555556,
              "#d8576b"
             ],
             [
              0.6666666666666666,
              "#ed7953"
             ],
             [
              0.7777777777777778,
              "#fb9f3a"
             ],
             [
              0.8888888888888888,
              "#fdca26"
             ],
             [
              1,
              "#f0f921"
             ]
            ],
            "type": "heatmap"
           }
          ],
          "heatmapgl": [
           {
            "colorbar": {
             "outlinewidth": 0,
             "ticks": ""
            },
            "colorscale": [
             [
              0,
              "#0d0887"
             ],
             [
              0.1111111111111111,
              "#46039f"
             ],
             [
              0.2222222222222222,
              "#7201a8"
             ],
             [
              0.3333333333333333,
              "#9c179e"
             ],
             [
              0.4444444444444444,
              "#bd3786"
             ],
             [
              0.5555555555555556,
              "#d8576b"
             ],
             [
              0.6666666666666666,
              "#ed7953"
             ],
             [
              0.7777777777777778,
              "#fb9f3a"
             ],
             [
              0.8888888888888888,
              "#fdca26"
             ],
             [
              1,
              "#f0f921"
             ]
            ],
            "type": "heatmapgl"
           }
          ],
          "histogram": [
           {
            "marker": {
             "pattern": {
              "fillmode": "overlay",
              "size": 10,
              "solidity": 0.2
             }
            },
            "type": "histogram"
           }
          ],
          "histogram2d": [
           {
            "colorbar": {
             "outlinewidth": 0,
             "ticks": ""
            },
            "colorscale": [
             [
              0,
              "#0d0887"
             ],
             [
              0.1111111111111111,
              "#46039f"
             ],
             [
              0.2222222222222222,
              "#7201a8"
             ],
             [
              0.3333333333333333,
              "#9c179e"
             ],
             [
              0.4444444444444444,
              "#bd3786"
             ],
             [
              0.5555555555555556,
              "#d8576b"
             ],
             [
              0.6666666666666666,
              "#ed7953"
             ],
             [
              0.7777777777777778,
              "#fb9f3a"
             ],
             [
              0.8888888888888888,
              "#fdca26"
             ],
             [
              1,
              "#f0f921"
             ]
            ],
            "type": "histogram2d"
           }
          ],
          "histogram2dcontour": [
           {
            "colorbar": {
             "outlinewidth": 0,
             "ticks": ""
            },
            "colorscale": [
             [
              0,
              "#0d0887"
             ],
             [
              0.1111111111111111,
              "#46039f"
             ],
             [
              0.2222222222222222,
              "#7201a8"
             ],
             [
              0.3333333333333333,
              "#9c179e"
             ],
             [
              0.4444444444444444,
              "#bd3786"
             ],
             [
              0.5555555555555556,
              "#d8576b"
             ],
             [
              0.6666666666666666,
              "#ed7953"
             ],
             [
              0.7777777777777778,
              "#fb9f3a"
             ],
             [
              0.8888888888888888,
              "#fdca26"
             ],
             [
              1,
              "#f0f921"
             ]
            ],
            "type": "histogram2dcontour"
           }
          ],
          "mesh3d": [
           {
            "colorbar": {
             "outlinewidth": 0,
             "ticks": ""
            },
            "type": "mesh3d"
           }
          ],
          "parcoords": [
           {
            "line": {
             "colorbar": {
              "outlinewidth": 0,
              "ticks": ""
             }
            },
            "type": "parcoords"
           }
          ],
          "pie": [
           {
            "automargin": true,
            "type": "pie"
           }
          ],
          "scatter": [
           {
            "fillpattern": {
             "fillmode": "overlay",
             "size": 10,
             "solidity": 0.2
            },
            "type": "scatter"
           }
          ],
          "scatter3d": [
           {
            "line": {
             "colorbar": {
              "outlinewidth": 0,
              "ticks": ""
             }
            },
            "marker": {
             "colorbar": {
              "outlinewidth": 0,
              "ticks": ""
             }
            },
            "type": "scatter3d"
           }
          ],
          "scattercarpet": [
           {
            "marker": {
             "colorbar": {
              "outlinewidth": 0,
              "ticks": ""
             }
            },
            "type": "scattercarpet"
           }
          ],
          "scattergeo": [
           {
            "marker": {
             "colorbar": {
              "outlinewidth": 0,
              "ticks": ""
             }
            },
            "type": "scattergeo"
           }
          ],
          "scattergl": [
           {
            "marker": {
             "colorbar": {
              "outlinewidth": 0,
              "ticks": ""
             }
            },
            "type": "scattergl"
           }
          ],
          "scattermapbox": [
           {
            "marker": {
             "colorbar": {
              "outlinewidth": 0,
              "ticks": ""
             }
            },
            "type": "scattermapbox"
           }
          ],
          "scatterpolar": [
           {
            "marker": {
             "colorbar": {
              "outlinewidth": 0,
              "ticks": ""
             }
            },
            "type": "scatterpolar"
           }
          ],
          "scatterpolargl": [
           {
            "marker": {
             "colorbar": {
              "outlinewidth": 0,
              "ticks": ""
             }
            },
            "type": "scatterpolargl"
           }
          ],
          "scatterternary": [
           {
            "marker": {
             "colorbar": {
              "outlinewidth": 0,
              "ticks": ""
             }
            },
            "type": "scatterternary"
           }
          ],
          "surface": [
           {
            "colorbar": {
             "outlinewidth": 0,
             "ticks": ""
            },
            "colorscale": [
             [
              0,
              "#0d0887"
             ],
             [
              0.1111111111111111,
              "#46039f"
             ],
             [
              0.2222222222222222,
              "#7201a8"
             ],
             [
              0.3333333333333333,
              "#9c179e"
             ],
             [
              0.4444444444444444,
              "#bd3786"
             ],
             [
              0.5555555555555556,
              "#d8576b"
             ],
             [
              0.6666666666666666,
              "#ed7953"
             ],
             [
              0.7777777777777778,
              "#fb9f3a"
             ],
             [
              0.8888888888888888,
              "#fdca26"
             ],
             [
              1,
              "#f0f921"
             ]
            ],
            "type": "surface"
           }
          ],
          "table": [
           {
            "cells": {
             "fill": {
              "color": "#EBF0F8"
             },
             "line": {
              "color": "white"
             }
            },
            "header": {
             "fill": {
              "color": "#C8D4E3"
             },
             "line": {
              "color": "white"
             }
            },
            "type": "table"
           }
          ]
         },
         "layout": {
          "annotationdefaults": {
           "arrowcolor": "#2a3f5f",
           "arrowhead": 0,
           "arrowwidth": 1
          },
          "autotypenumbers": "strict",
          "coloraxis": {
           "colorbar": {
            "outlinewidth": 0,
            "ticks": ""
           }
          },
          "colorscale": {
           "diverging": [
            [
             0,
             "#8e0152"
            ],
            [
             0.1,
             "#c51b7d"
            ],
            [
             0.2,
             "#de77ae"
            ],
            [
             0.3,
             "#f1b6da"
            ],
            [
             0.4,
             "#fde0ef"
            ],
            [
             0.5,
             "#f7f7f7"
            ],
            [
             0.6,
             "#e6f5d0"
            ],
            [
             0.7,
             "#b8e186"
            ],
            [
             0.8,
             "#7fbc41"
            ],
            [
             0.9,
             "#4d9221"
            ],
            [
             1,
             "#276419"
            ]
           ],
           "sequential": [
            [
             0,
             "#0d0887"
            ],
            [
             0.1111111111111111,
             "#46039f"
            ],
            [
             0.2222222222222222,
             "#7201a8"
            ],
            [
             0.3333333333333333,
             "#9c179e"
            ],
            [
             0.4444444444444444,
             "#bd3786"
            ],
            [
             0.5555555555555556,
             "#d8576b"
            ],
            [
             0.6666666666666666,
             "#ed7953"
            ],
            [
             0.7777777777777778,
             "#fb9f3a"
            ],
            [
             0.8888888888888888,
             "#fdca26"
            ],
            [
             1,
             "#f0f921"
            ]
           ],
           "sequentialminus": [
            [
             0,
             "#0d0887"
            ],
            [
             0.1111111111111111,
             "#46039f"
            ],
            [
             0.2222222222222222,
             "#7201a8"
            ],
            [
             0.3333333333333333,
             "#9c179e"
            ],
            [
             0.4444444444444444,
             "#bd3786"
            ],
            [
             0.5555555555555556,
             "#d8576b"
            ],
            [
             0.6666666666666666,
             "#ed7953"
            ],
            [
             0.7777777777777778,
             "#fb9f3a"
            ],
            [
             0.8888888888888888,
             "#fdca26"
            ],
            [
             1,
             "#f0f921"
            ]
           ]
          },
          "colorway": [
           "#636efa",
           "#EF553B",
           "#00cc96",
           "#ab63fa",
           "#FFA15A",
           "#19d3f3",
           "#FF6692",
           "#B6E880",
           "#FF97FF",
           "#FECB52"
          ],
          "font": {
           "color": "#2a3f5f"
          },
          "geo": {
           "bgcolor": "white",
           "lakecolor": "white",
           "landcolor": "#E5ECF6",
           "showlakes": true,
           "showland": true,
           "subunitcolor": "white"
          },
          "hoverlabel": {
           "align": "left"
          },
          "hovermode": "closest",
          "mapbox": {
           "style": "light"
          },
          "paper_bgcolor": "white",
          "plot_bgcolor": "#E5ECF6",
          "polar": {
           "angularaxis": {
            "gridcolor": "white",
            "linecolor": "white",
            "ticks": ""
           },
           "bgcolor": "#E5ECF6",
           "radialaxis": {
            "gridcolor": "white",
            "linecolor": "white",
            "ticks": ""
           }
          },
          "scene": {
           "xaxis": {
            "backgroundcolor": "#E5ECF6",
            "gridcolor": "white",
            "gridwidth": 2,
            "linecolor": "white",
            "showbackground": true,
            "ticks": "",
            "zerolinecolor": "white"
           },
           "yaxis": {
            "backgroundcolor": "#E5ECF6",
            "gridcolor": "white",
            "gridwidth": 2,
            "linecolor": "white",
            "showbackground": true,
            "ticks": "",
            "zerolinecolor": "white"
           },
           "zaxis": {
            "backgroundcolor": "#E5ECF6",
            "gridcolor": "white",
            "gridwidth": 2,
            "linecolor": "white",
            "showbackground": true,
            "ticks": "",
            "zerolinecolor": "white"
           }
          },
          "shapedefaults": {
           "line": {
            "color": "#2a3f5f"
           }
          },
          "ternary": {
           "aaxis": {
            "gridcolor": "white",
            "linecolor": "white",
            "ticks": ""
           },
           "baxis": {
            "gridcolor": "white",
            "linecolor": "white",
            "ticks": ""
           },
           "bgcolor": "#E5ECF6",
           "caxis": {
            "gridcolor": "white",
            "linecolor": "white",
            "ticks": ""
           }
          },
          "title": {
           "x": 0.05
          },
          "xaxis": {
           "automargin": true,
           "gridcolor": "white",
           "linecolor": "white",
           "ticks": "",
           "title": {
            "standoff": 15
           },
           "zerolinecolor": "white",
           "zerolinewidth": 2
          },
          "yaxis": {
           "automargin": true,
           "gridcolor": "white",
           "linecolor": "white",
           "ticks": "",
           "title": {
            "standoff": 15
           },
           "zerolinecolor": "white",
           "zerolinewidth": 2
          }
         }
        },
        "xaxis": {
         "anchor": "y",
         "domain": [
          0,
          1
         ],
         "title": {
          "text": "variable"
         }
        },
        "yaxis": {
         "anchor": "x",
         "domain": [
          0,
          1
         ],
         "title": {
          "text": "value"
         }
        }
       }
      }
     },
     "metadata": {},
     "output_type": "display_data"
    },
    {
     "data": {
      "application/vnd.plotly.v1+json": {
       "config": {
        "plotlyServerURL": "https://plot.ly"
       },
       "data": [
        {
         "autobinx": false,
         "histnorm": "probability density",
         "legendgroup": "origin",
         "marker": {
          "color": "rgb(31, 119, 180)"
         },
         "name": "origin",
         "opacity": 0.7,
         "type": "histogram",
         "x": [
          1,
          1,
          1,
          1,
          3,
          1,
          1,
          1,
          3,
          2,
          2,
          2,
          2,
          2,
          1,
          3,
          1,
          3,
          1,
          1,
          1,
          1,
          1,
          1,
          1,
          1,
          1,
          1,
          1,
          2,
          2,
          2,
          3,
          2,
          1,
          3,
          1,
          2,
          1,
          1,
          1,
          3,
          2,
          2,
          2,
          2,
          1,
          3,
          3,
          1,
          3,
          1,
          1,
          1,
          1,
          1,
          2,
          1,
          3,
          1,
          3,
          3,
          1,
          1,
          2,
          1,
          2,
          2,
          2,
          2,
          2,
          3,
          1,
          1,
          1,
          3,
          1,
          1,
          1,
          1,
          1,
          1,
          2,
          2,
          2,
          3,
          1,
          2,
          2,
          3,
          3,
          2,
          1,
          1,
          1,
          1,
          1,
          1,
          1,
          1,
          1,
          3,
          1,
          1,
          1,
          3,
          2,
          3,
          1,
          2,
          1,
          2,
          2,
          2,
          2,
          2,
          2,
          1,
          1,
          2,
          1,
          1,
          1,
          1,
          1,
          1,
          1,
          1,
          2,
          1,
          1,
          1,
          1,
          2,
          3,
          1,
          2,
          2,
          3,
          2,
          1,
          1,
          1,
          1,
          1,
          1,
          1,
          1,
          1,
          1,
          1,
          2,
          1,
          3,
          1,
          1,
          3,
          2,
          3,
          2,
          3,
          1,
          1,
          1,
          1,
          1,
          1,
          1,
          1,
          1,
          1,
          1,
          1,
          1,
          1,
          1,
          1,
          1,
          1,
          3,
          3,
          1,
          3,
          1,
          1,
          3,
          2,
          2,
          2,
          2,
          3,
          1,
          1,
          1,
          1,
          1,
          1,
          1,
          1,
          1,
          1,
          1,
          1,
          1,
          2,
          1,
          2,
          1,
          1,
          1,
          1,
          1,
          1,
          1,
          1,
          3,
          3,
          1,
          2,
          2,
          3,
          1,
          1,
          1,
          1,
          1,
          1,
          1,
          2,
          2,
          3,
          3,
          1,
          1,
          1,
          1,
          1,
          1,
          1,
          1,
          1,
          1,
          1,
          3,
          1,
          1,
          1,
          1,
          1,
          1,
          1
         ],
         "xaxis": "x",
         "xbins": {
          "end": 3,
          "size": 1,
          "start": 1
         },
         "yaxis": "y"
        },
        {
         "legendgroup": "origin",
         "marker": {
          "color": "rgb(31, 119, 180)"
         },
         "mode": "lines",
         "name": "origin",
         "showlegend": false,
         "type": "scatter",
         "x": [
          1,
          1.004,
          1.008,
          1.012,
          1.016,
          1.02,
          1.024,
          1.028,
          1.032,
          1.036,
          1.04,
          1.044,
          1.048,
          1.052,
          1.056,
          1.06,
          1.064,
          1.068,
          1.072,
          1.076,
          1.08,
          1.084,
          1.088,
          1.092,
          1.096,
          1.1,
          1.104,
          1.108,
          1.112,
          1.116,
          1.12,
          1.124,
          1.1280000000000001,
          1.1320000000000001,
          1.1360000000000001,
          1.1400000000000001,
          1.144,
          1.148,
          1.152,
          1.156,
          1.16,
          1.164,
          1.168,
          1.172,
          1.176,
          1.18,
          1.184,
          1.188,
          1.192,
          1.196,
          1.2,
          1.204,
          1.208,
          1.212,
          1.216,
          1.22,
          1.224,
          1.228,
          1.232,
          1.236,
          1.24,
          1.244,
          1.248,
          1.252,
          1.256,
          1.26,
          1.264,
          1.268,
          1.272,
          1.276,
          1.28,
          1.284,
          1.288,
          1.292,
          1.296,
          1.3,
          1.304,
          1.308,
          1.312,
          1.316,
          1.32,
          1.324,
          1.328,
          1.332,
          1.336,
          1.34,
          1.3439999999999999,
          1.3479999999999999,
          1.3519999999999999,
          1.3559999999999999,
          1.3599999999999999,
          1.3639999999999999,
          1.3679999999999999,
          1.3719999999999999,
          1.376,
          1.38,
          1.384,
          1.388,
          1.392,
          1.396,
          1.4,
          1.404,
          1.408,
          1.412,
          1.416,
          1.42,
          1.424,
          1.428,
          1.432,
          1.436,
          1.44,
          1.444,
          1.448,
          1.452,
          1.456,
          1.46,
          1.464,
          1.468,
          1.472,
          1.476,
          1.48,
          1.484,
          1.488,
          1.492,
          1.496,
          1.5,
          1.504,
          1.508,
          1.512,
          1.516,
          1.52,
          1.524,
          1.528,
          1.532,
          1.536,
          1.54,
          1.544,
          1.548,
          1.552,
          1.556,
          1.56,
          1.564,
          1.568,
          1.572,
          1.576,
          1.58,
          1.584,
          1.588,
          1.592,
          1.596,
          1.6,
          1.604,
          1.608,
          1.612,
          1.616,
          1.62,
          1.624,
          1.6280000000000001,
          1.6320000000000001,
          1.6360000000000001,
          1.6400000000000001,
          1.6440000000000001,
          1.6480000000000001,
          1.6520000000000001,
          1.6560000000000001,
          1.6600000000000001,
          1.6640000000000001,
          1.6680000000000001,
          1.6720000000000002,
          1.6760000000000002,
          1.6800000000000002,
          1.6840000000000002,
          1.688,
          1.692,
          1.696,
          1.7,
          1.704,
          1.708,
          1.712,
          1.716,
          1.72,
          1.724,
          1.728,
          1.732,
          1.736,
          1.74,
          1.744,
          1.748,
          1.752,
          1.756,
          1.76,
          1.764,
          1.768,
          1.772,
          1.776,
          1.78,
          1.784,
          1.788,
          1.792,
          1.796,
          1.8,
          1.804,
          1.808,
          1.812,
          1.8159999999999998,
          1.8199999999999998,
          1.8239999999999998,
          1.8279999999999998,
          1.8319999999999999,
          1.8359999999999999,
          1.8399999999999999,
          1.8439999999999999,
          1.8479999999999999,
          1.8519999999999999,
          1.8559999999999999,
          1.8599999999999999,
          1.8639999999999999,
          1.8679999999999999,
          1.8719999999999999,
          1.876,
          1.88,
          1.884,
          1.888,
          1.892,
          1.896,
          1.9,
          1.904,
          1.908,
          1.912,
          1.916,
          1.92,
          1.924,
          1.928,
          1.932,
          1.936,
          1.94,
          1.944,
          1.948,
          1.952,
          1.956,
          1.96,
          1.964,
          1.968,
          1.972,
          1.976,
          1.98,
          1.984,
          1.988,
          1.992,
          1.996,
          2,
          2.004,
          2.008,
          2.012,
          2.016,
          2.02,
          2.024,
          2.028,
          2.032,
          2.036,
          2.04,
          2.044,
          2.048,
          2.052,
          2.056,
          2.06,
          2.064,
          2.068,
          2.072,
          2.076,
          2.08,
          2.084,
          2.088,
          2.092,
          2.096,
          2.1,
          2.104,
          2.108,
          2.112,
          2.116,
          2.12,
          2.124,
          2.128,
          2.1319999999999997,
          2.136,
          2.1399999999999997,
          2.144,
          2.1479999999999997,
          2.152,
          2.1559999999999997,
          2.16,
          2.1639999999999997,
          2.168,
          2.1719999999999997,
          2.176,
          2.1799999999999997,
          2.184,
          2.1879999999999997,
          2.192,
          2.1959999999999997,
          2.2,
          2.2039999999999997,
          2.208,
          2.2119999999999997,
          2.216,
          2.2199999999999998,
          2.224,
          2.2279999999999998,
          2.232,
          2.2359999999999998,
          2.24,
          2.2439999999999998,
          2.248,
          2.252,
          2.2560000000000002,
          2.26,
          2.2640000000000002,
          2.268,
          2.2720000000000002,
          2.276,
          2.2800000000000002,
          2.284,
          2.2880000000000003,
          2.292,
          2.2960000000000003,
          2.3,
          2.3040000000000003,
          2.308,
          2.3120000000000003,
          2.316,
          2.3200000000000003,
          2.324,
          2.3280000000000003,
          2.332,
          2.3360000000000003,
          2.34,
          2.3440000000000003,
          2.348,
          2.3520000000000003,
          2.356,
          2.3600000000000003,
          2.364,
          2.3680000000000003,
          2.372,
          2.376,
          2.38,
          2.384,
          2.388,
          2.392,
          2.396,
          2.4,
          2.404,
          2.408,
          2.412,
          2.416,
          2.42,
          2.424,
          2.428,
          2.432,
          2.436,
          2.44,
          2.444,
          2.448,
          2.452,
          2.456,
          2.46,
          2.464,
          2.468,
          2.472,
          2.476,
          2.48,
          2.484,
          2.488,
          2.492,
          2.496,
          2.5,
          2.504,
          2.508,
          2.512,
          2.516,
          2.52,
          2.524,
          2.528,
          2.532,
          2.536,
          2.54,
          2.544,
          2.548,
          2.552,
          2.556,
          2.56,
          2.564,
          2.568,
          2.572,
          2.576,
          2.58,
          2.584,
          2.588,
          2.592,
          2.596,
          2.6,
          2.604,
          2.608,
          2.612,
          2.616,
          2.62,
          2.624,
          2.628,
          2.6319999999999997,
          2.636,
          2.6399999999999997,
          2.644,
          2.6479999999999997,
          2.652,
          2.6559999999999997,
          2.66,
          2.6639999999999997,
          2.668,
          2.6719999999999997,
          2.676,
          2.6799999999999997,
          2.684,
          2.6879999999999997,
          2.692,
          2.6959999999999997,
          2.7,
          2.7039999999999997,
          2.708,
          2.7119999999999997,
          2.716,
          2.7199999999999998,
          2.724,
          2.7279999999999998,
          2.732,
          2.7359999999999998,
          2.74,
          2.7439999999999998,
          2.748,
          2.752,
          2.7560000000000002,
          2.76,
          2.7640000000000002,
          2.768,
          2.7720000000000002,
          2.776,
          2.7800000000000002,
          2.784,
          2.7880000000000003,
          2.792,
          2.7960000000000003,
          2.8,
          2.8040000000000003,
          2.808,
          2.8120000000000003,
          2.816,
          2.8200000000000003,
          2.824,
          2.8280000000000003,
          2.832,
          2.8360000000000003,
          2.84,
          2.8440000000000003,
          2.848,
          2.8520000000000003,
          2.856,
          2.8600000000000003,
          2.864,
          2.8680000000000003,
          2.872,
          2.876,
          2.88,
          2.884,
          2.888,
          2.892,
          2.896,
          2.9,
          2.904,
          2.908,
          2.912,
          2.916,
          2.92,
          2.924,
          2.928,
          2.932,
          2.936,
          2.94,
          2.944,
          2.948,
          2.952,
          2.956,
          2.96,
          2.964,
          2.968,
          2.972,
          2.976,
          2.98,
          2.984,
          2.988,
          2.992,
          2.996
         ],
         "xaxis": "x",
         "y": [
          1.0246788711924115,
          1.0245505110965105,
          1.0241532165832283,
          1.0234873299075105,
          1.0225534065609994,
          1.021352214631199,
          1.019884733885465,
          1.0181521545817471,
          1.0161558760084233,
          1.0138975047559904,
          1.0113788527239898,
          1.0086019348669777,
          1.0055689666837992,
          1.0022823614548917,
          0.9987447272328736,
          0.9949588635920219,
          0.9909277581426662,
          0.9866545828170515,
          0.9821426899334958,
          0.9773956080460856,
          0.9724170375875839,
          0.9672108463134613,
          0.9617810645553897,
          0.9561318802927218,
          0.9502676340509709,
          0.9441928136363107,
          0.9379120487156347,
          0.931430105251686,
          0.9247518798031653,
          0.9178823936998152,
          0.9108267871026384,
          0.9035903129595886,
          0.8961783308670993,
          0.8885963008480645,
          0.880849777056692,
          0.8729444014210553,
          0.8648858972337485,
          0.8566800627015003,
          0.8483327644642024,
          0.8398499310939862,
          0.8312375465848366,
          0.8225016438431301,
          0.8136482981893407,
          0.804683620881172,
          0.7956137526679647,
          0.786444857386356,
          0.7771831156066429,
          0.7678347183393978,
          0.7584058608114618,
          0.7489027363202037,
          0.7393315301748101,
          0.7296984137328295,
          0.7200095385402482,
          0.7102710305826877,
          0.7004889846553296,
          0.6906694588585792,
          0.6808184692262695,
          0.6709419844928534,
          0.6610459210055945,
          0.651136137787443,
          0.6412184317558768,
          0.6312985331026523,
          0.621382100838918,
          0.6114747185099032,
          0.6015818900827462,
          0.5917090360109772,
          0.5818614894783499,
          0.5720444928247466,
          0.5622631941560521,
          0.5525226441398815,
          0.5428277929883474,
          0.5331834876288339,
          0.523594469063278,
          0.514065369916109,
          0.5046007121705891,
          0.49520490509294024,
          0.485882243343324,
          0.47663690527225117,
          0.46747295140083633,
          0.45839432308284744,
          0.44940484134617986,
          0.44050820591116385,
          0.43170799438270613,
          0.42300766161302944,
          0.4144105392315057,
          0.4059198353377945,
          0.39753863435424225,
          0.38926989703327464,
          0.3811164606153267,
          0.3730810391325632,
          0.3651662238535513,
          0.3573744838638037,
          0.34970816677695354,
          0.34216949957124676,
          0.334760589545806,
          0.32748342539107134,
          0.32033987836774086,
          0.3133317035883756,
          0.30646054139586015,
          0.29972791883277144,
          0.2931352511957476,
          0.28668384366888017,
          0.28037489303014873,
          0.27420948942496326,
          0.2681886182008605,
          0.26231316179744657,
          0.2565839016857697,
          0.25100152035128814,
          0.24556660331477462,
          0.24027964118549475,
          0.23514103174116843,
          0.23015108202930856,
          0.2253100104846229,
          0.2206179490573817,
          0.2160749453477106,
          0.21168096474095738,
          0.2074358925394904,
          0.203339536086346,
          0.19939162687646156,
          0.19559182265127617,
          0.19193970947279995,
          0.18843480377334315,
          0.1850765543773894,
          0.1818643444922511,
          0.17879749366436432,
          0.17587525969833345,
          0.17309684053599844,
          0.17046137609307266,
          0.16796795005110088,
          0.16561559160268877,
          0.16340327714822603,
          0.1613299319425251,
          0.15939443169001036,
          0.1575956040873446,
          0.15593223031259024,
          0.15440304646019765,
          0.1530067449213901,
          0.15174197570965173,
          0.15060734773129447,
          0.1496014300012699,
          0.14872275280456612,
          0.14796980880377067,
          0.14734105409353218,
          0.1468349092028579,
          0.14644976004634888,
          0.14618395882567833,
          0.14603582488272002,
          0.14600364550595374,
          0.1460856766919057,
          0.14628014386347377,
          0.1465852425472127,
          0.1469991390116873,
          0.14751997086917068,
          0.14814584764306168,
          0.14887485130347689,
          0.14970503677357258,
          0.1506344324092408,
          0.15166104045486387,
          0.15278283747790247,
          0.15399777478512336,
          0.15530377882331525,
          0.15669875156738558,
          0.15818057089872953,
          0.15974709097679549,
          0.16139614260675833,
          0.1631255336062216,
          0.16493304917381796,
          0.1668164522626087,
          0.1687734839610829,
          0.17080186388456944,
          0.17289929057976874,
          0.1750634419451146,
          0.17729197566954855,
          0.1795825296922256,
          0.18193272268562,
          0.1843401545643613,
          0.18680240702205606,
          0.189317044098236,
          0.1918816127774689,
          0.1944936436225248,
          0.19715065144340527,
          0.19985013600385998,
          0.20258958276694472,
          0.2053664636809493,
          0.20817823800696933,
          0.21102235318917725,
          0.21389624576872612,
          0.21679734234206607,
          0.21972306056427493,
          0.22267081019786633,
          0.22563799420736935,
          0.22862200989977513,
          0.2316202501108726,
          0.23463010443719948,
          0.23764896051329565,
          0.24067420533369208,
          0.24370322661896032,
          0.2467334142249486,
          0.24976216159417158,
          0.2527868672482234,
          0.25580493631981294,
          0.25881378212299083,
          0.2618108277598814,
          0.26479350776219135,
          0.26775926976550524,
          0.2707055762143793,
          0.27362990609595733,
          0.27652975669989094,
          0.27940264540201204,
          0.2822461114693039,
          0.2850577178834418,
          0.2878350531801617,
          0.2905757333016078,
          0.293277403458707,
          0.29593774000052353,
          0.2985544522875154,
          0.30112528456554843,
          0.3036480178374022,
          0.3061204717285272,
          0.30854050634375196,
          0.31090602411157436,
          0.3132149716127142,
          0.3154653413895014,
          0.31765517373274393,
          0.31978255844272474,
          0.3218456365608636,
          0.3238426020688327,
          0.3257717035516776,
          0.32763124582174113,
          0.3294195915001109,
          0.33113516255246983,
          0.33277644177610916,
          0.3343419742352248,
          0.3358303686413609,
          0.3372402986762074,
          0.33857050425396484,
          0.33981979272054474,
          0.3409870399870212,
          0.3420711915949149,
          0.3430712637109127,
          0.34398634404882156,
          0.3448155927166699,
          0.3455582429869991,
          0.3462136019885433,
          0.3467810513176408,
          0.347260047567853,
          0.34765012277646745,
          0.3479508847866704,
          0.34816201752436876,
          0.3482832811887994,
          0.3483145123562366,
          0.3482556239962292,
          0.3481066054001028,
          0.34786752202143656,
          0.3475385152285677,
          0.34711980196928305,
          0.3466116743480125,
          0.3460144991160092,
          0.3453287170752649,
          0.34455484239690937,
          0.3436934618551636,
          0.34274523397802603,
          0.34171088811596684,
          0.34059122343017734,
          0.3393871078020151,
          0.3380994766653977,
          0.336729331764132,
          0.33527773983623704,
          0.3337458312274896,
          0.3321347984365246,
          0.33044589459394774,
          0.3286804318781232,
          0.3268397798702381,
          0.32492536385149995,
          0.3229386630453971,
          0.32088120880797294,
          0.31875458276919955,
          0.31656041492864917,
          0.3143003817086422,
          0.3119762039682005,
          0.3095896449811106,
          0.30714250838152823,
          0.30463663608050995,
          0.30207390615698065,
          0.29945623072655797,
          0.2967855537917748,
          0.2940638490771711,
          0.29129311785279344,
          0.28847538674953077,
          0.28561270556982055,
          0.2827071450971291,
          0.2797607949076602,
          0.2767757611876017,
          0.273754164559331,
          0.2706981379197508,
          0.2676098242940638,
          0.2644913747080282,
          0.2613449460818765,
          0.2581726991487588,
          0.2549767964007427,
          0.2517594000650534,
          0.24852267011337847,
          0.245268762306741,
          0.24199982627853664,
          0.23871800365803275,
          0.23542542623668516,
          0.23212421417933862,
          0.2288164742824162,
          0.22550429828094293,
          0.22218976120618922,
          0.21887491979557447,
          0.21556181095634097,
          0.2122524502843419,
          0.20894883063918612,
          0.20565292077682787,
          0.20236666404056877,
          0.19909197711122828,
          0.19583074881722765,
          0.19258483900506965,
          0.18935607747059904,
          0.18614626295135528,
          0.1829571621800743,
          0.1797905089993596,
          0.17664800353736826,
          0.17353131144422423,
          0.17044206318877417,
          0.16738185341512676,
          0.16435224035835816,
          0.16135474531858202,
          0.15839085219253593,
          0.1554620070616423,
          0.15256961783550416,
          0.14971505394958992,
          0.1468996461158169,
          0.14412468612466892,
          0.14139142669733382,
          0.1387010813863316,
          0.13605482452297998,
          0.13345379120999581,
          0.13089907735746292,
          0.12839173976031365,
          0.12593279621546816,
          0.12352322567666134,
          0.12116396844499355,
          0.11885592639319746,
          0.116599963221537,
          0.1143969047433163,
          0.11224753919785138,
          0.11015261758884128,
          0.1081128540459937,
          0.10612892620780669,
          0.1042014756233853,
          0.1023311081711897,
          0.10051839449262945,
          0.09876387043843875,
          0.09706803752577203,
          0.09543136340404319,
          0.09385428232749363,
          0.09233719563258339,
          0.09088047221831044,
          0.08948444902761071,
          0.08814943152806909,
          0.08687569419020845,
          0.08566348096170731,
          0.08451300573593505,
          0.08342445281330368,
          0.08239797735397038,
          0.08143370582053225,
          0.08053173640941436,
          0.07969213946975241,
          0.07891495790863816,
          0.07820020758170243,
          0.07754787766809586,
          0.07695793102899827,
          0.07643030454892003,
          0.0759649094591151,
          0.07556163164254887,
          0.07522033191994021,
          0.07494084631650952,
          0.07472298630914935,
          0.07456653905384411,
          0.07447126759325047,
          0.07443691104444476,
          0.07446318476696269,
          0.07454978051131915,
          0.07469636654830568,
          0.07490258777946893,
          0.07516806582922371,
          0.07549239911918984,
          0.07587516292539749,
          0.07631590941908685,
          0.07681416769194499,
          0.07736944376664343,
          0.07798122059368143,
          0.07864895803554801,
          0.07937209283933885,
          0.08015003859899004,
          0.08098218570837347,
          0.08186790130655125,
          0.08280652921653754,
          0.08379738987896752,
          0.08483978028211643,
          0.08593297388975778,
          0.08707622056838263,
          0.08826874651532472,
          0.08950975418938732,
          0.09079842224555364,
          0.09213390547542169,
          0.0935153347549785,
          0.09494181700136481,
          0.0964124351402625,
          0.09792624808555443,
          0.0994822907328764,
          0.10107957396869309,
          0.10271708469648928,
          0.10439378588166803,
          0.10610861661668729,
          0.10786049220798387,
          0.10964830428614039,
          0.1114709209407522,
          0.11332718688138897,
          0.11521592362598518,
          0.11713592971796341,
          0.11908598097330733,
          0.12106483075875582,
          0.12307121030221845,
          0.12510382903644002,
          0.12716137497686122,
          0.12924251513454593,
          0.1313458959649871,
          0.13347014385346817,
          0.13561386563762276,
          0.13777564916770516,
          0.13995406390501985,
          0.14214766155882771,
          0.14435497676200384,
          0.14657452778555013,
          0.1488048172920446,
          0.1510443331279251,
          0.15329154915448845,
          0.1555449261173015,
          0.15780291255366444,
          0.1600639457376699,
          0.16232645266223672,
          0.16458885105747212,
          0.16684955044455693,
          0.16910695322424757,
          0.1713594557990421,
          0.1736054497278713,
          0.17584332291215082,
          0.1780714608118987,
          0.18028824769052576,
          0.1824920678868451,
          0.18468130711270517,
          0.18685435377461632,
          0.18900960031763192,
          0.19114544458966176,
          0.19326029122433103,
          0.1953525530404239,
          0.19742065245587567,
          0.19946302291419887,
          0.20147811032124135,
          0.2034643744899872,
          0.20542029059120792,
          0.20734435060761688,
          0.20923506478919474,
          0.2110909631073012,
          0.21291059670515228,
          0.21469253934224933,
          0.21643538883027286,
          0.21813776845800562,
          0.21979832840279404,
          0.22141574712605597,
          0.22298873275040157,
          0.22451602441586216,
          0.22599639361281287,
          0.22742864548914063,
          0.22881162012926645,
          0.2301441938026688,
          0.2314252801795609,
          0.23265383151145483,
          0.23382883977435953,
          0.23494933777246713,
          0.23601440020016298,
          0.2370231446603687,
          0.23797473263715832,
          0.23886837042081271,
          0.23970330998343767,
          0.24047884980341636,
          0.24119433563705084,
          0.2418491612358083,
          0.24244276900771755,
          0.24297465062156567,
          0.2434443475525941,
          0.24385145156855842,
          0.2441956051551186,
          0.24447650187959835,
          0.24469388669229136,
          0.24484755616463552,
          0.24493735866363864
         ],
         "yaxis": "y"
        },
        {
         "legendgroup": "origin",
         "marker": {
          "color": "rgb(31, 119, 180)",
          "symbol": "line-ns-open"
         },
         "mode": "markers",
         "name": "origin",
         "showlegend": false,
         "type": "scatter",
         "x": [
          1,
          1,
          1,
          1,
          3,
          1,
          1,
          1,
          3,
          2,
          2,
          2,
          2,
          2,
          1,
          3,
          1,
          3,
          1,
          1,
          1,
          1,
          1,
          1,
          1,
          1,
          1,
          1,
          1,
          2,
          2,
          2,
          3,
          2,
          1,
          3,
          1,
          2,
          1,
          1,
          1,
          3,
          2,
          2,
          2,
          2,
          1,
          3,
          3,
          1,
          3,
          1,
          1,
          1,
          1,
          1,
          2,
          1,
          3,
          1,
          3,
          3,
          1,
          1,
          2,
          1,
          2,
          2,
          2,
          2,
          2,
          3,
          1,
          1,
          1,
          3,
          1,
          1,
          1,
          1,
          1,
          1,
          2,
          2,
          2,
          3,
          1,
          2,
          2,
          3,
          3,
          2,
          1,
          1,
          1,
          1,
          1,
          1,
          1,
          1,
          1,
          3,
          1,
          1,
          1,
          3,
          2,
          3,
          1,
          2,
          1,
          2,
          2,
          2,
          2,
          2,
          2,
          1,
          1,
          2,
          1,
          1,
          1,
          1,
          1,
          1,
          1,
          1,
          2,
          1,
          1,
          1,
          1,
          2,
          3,
          1,
          2,
          2,
          3,
          2,
          1,
          1,
          1,
          1,
          1,
          1,
          1,
          1,
          1,
          1,
          1,
          2,
          1,
          3,
          1,
          1,
          3,
          2,
          3,
          2,
          3,
          1,
          1,
          1,
          1,
          1,
          1,
          1,
          1,
          1,
          1,
          1,
          1,
          1,
          1,
          1,
          1,
          1,
          1,
          3,
          3,
          1,
          3,
          1,
          1,
          3,
          2,
          2,
          2,
          2,
          3,
          1,
          1,
          1,
          1,
          1,
          1,
          1,
          1,
          1,
          1,
          1,
          1,
          1,
          2,
          1,
          2,
          1,
          1,
          1,
          1,
          1,
          1,
          1,
          1,
          3,
          3,
          1,
          2,
          2,
          3,
          1,
          1,
          1,
          1,
          1,
          1,
          1,
          2,
          2,
          3,
          3,
          1,
          1,
          1,
          1,
          1,
          1,
          1,
          1,
          1,
          1,
          1,
          3,
          1,
          1,
          1,
          1,
          1,
          1,
          1
         ],
         "xaxis": "x",
         "y": [
          "origin",
          "origin",
          "origin",
          "origin",
          "origin",
          "origin",
          "origin",
          "origin",
          "origin",
          "origin",
          "origin",
          "origin",
          "origin",
          "origin",
          "origin",
          "origin",
          "origin",
          "origin",
          "origin",
          "origin",
          "origin",
          "origin",
          "origin",
          "origin",
          "origin",
          "origin",
          "origin",
          "origin",
          "origin",
          "origin",
          "origin",
          "origin",
          "origin",
          "origin",
          "origin",
          "origin",
          "origin",
          "origin",
          "origin",
          "origin",
          "origin",
          "origin",
          "origin",
          "origin",
          "origin",
          "origin",
          "origin",
          "origin",
          "origin",
          "origin",
          "origin",
          "origin",
          "origin",
          "origin",
          "origin",
          "origin",
          "origin",
          "origin",
          "origin",
          "origin",
          "origin",
          "origin",
          "origin",
          "origin",
          "origin",
          "origin",
          "origin",
          "origin",
          "origin",
          "origin",
          "origin",
          "origin",
          "origin",
          "origin",
          "origin",
          "origin",
          "origin",
          "origin",
          "origin",
          "origin",
          "origin",
          "origin",
          "origin",
          "origin",
          "origin",
          "origin",
          "origin",
          "origin",
          "origin",
          "origin",
          "origin",
          "origin",
          "origin",
          "origin",
          "origin",
          "origin",
          "origin",
          "origin",
          "origin",
          "origin",
          "origin",
          "origin",
          "origin",
          "origin",
          "origin",
          "origin",
          "origin",
          "origin",
          "origin",
          "origin",
          "origin",
          "origin",
          "origin",
          "origin",
          "origin",
          "origin",
          "origin",
          "origin",
          "origin",
          "origin",
          "origin",
          "origin",
          "origin",
          "origin",
          "origin",
          "origin",
          "origin",
          "origin",
          "origin",
          "origin",
          "origin",
          "origin",
          "origin",
          "origin",
          "origin",
          "origin",
          "origin",
          "origin",
          "origin",
          "origin",
          "origin",
          "origin",
          "origin",
          "origin",
          "origin",
          "origin",
          "origin",
          "origin",
          "origin",
          "origin",
          "origin",
          "origin",
          "origin",
          "origin",
          "origin",
          "origin",
          "origin",
          "origin",
          "origin",
          "origin",
          "origin",
          "origin",
          "origin",
          "origin",
          "origin",
          "origin",
          "origin",
          "origin",
          "origin",
          "origin",
          "origin",
          "origin",
          "origin",
          "origin",
          "origin",
          "origin",
          "origin",
          "origin",
          "origin",
          "origin",
          "origin",
          "origin",
          "origin",
          "origin",
          "origin",
          "origin",
          "origin",
          "origin",
          "origin",
          "origin",
          "origin",
          "origin",
          "origin",
          "origin",
          "origin",
          "origin",
          "origin",
          "origin",
          "origin",
          "origin",
          "origin",
          "origin",
          "origin",
          "origin",
          "origin",
          "origin",
          "origin",
          "origin",
          "origin",
          "origin",
          "origin",
          "origin",
          "origin",
          "origin",
          "origin",
          "origin",
          "origin",
          "origin",
          "origin",
          "origin",
          "origin",
          "origin",
          "origin",
          "origin",
          "origin",
          "origin",
          "origin",
          "origin",
          "origin",
          "origin",
          "origin",
          "origin",
          "origin",
          "origin",
          "origin",
          "origin",
          "origin",
          "origin",
          "origin",
          "origin",
          "origin",
          "origin",
          "origin",
          "origin",
          "origin",
          "origin",
          "origin",
          "origin",
          "origin",
          "origin",
          "origin"
         ],
         "yaxis": "y2"
        }
       ],
       "layout": {
        "barmode": "overlay",
        "hovermode": "closest",
        "legend": {
         "traceorder": "reversed"
        },
        "template": {
         "data": {
          "bar": [
           {
            "error_x": {
             "color": "#2a3f5f"
            },
            "error_y": {
             "color": "#2a3f5f"
            },
            "marker": {
             "line": {
              "color": "#E5ECF6",
              "width": 0.5
             },
             "pattern": {
              "fillmode": "overlay",
              "size": 10,
              "solidity": 0.2
             }
            },
            "type": "bar"
           }
          ],
          "barpolar": [
           {
            "marker": {
             "line": {
              "color": "#E5ECF6",
              "width": 0.5
             },
             "pattern": {
              "fillmode": "overlay",
              "size": 10,
              "solidity": 0.2
             }
            },
            "type": "barpolar"
           }
          ],
          "carpet": [
           {
            "aaxis": {
             "endlinecolor": "#2a3f5f",
             "gridcolor": "white",
             "linecolor": "white",
             "minorgridcolor": "white",
             "startlinecolor": "#2a3f5f"
            },
            "baxis": {
             "endlinecolor": "#2a3f5f",
             "gridcolor": "white",
             "linecolor": "white",
             "minorgridcolor": "white",
             "startlinecolor": "#2a3f5f"
            },
            "type": "carpet"
           }
          ],
          "choropleth": [
           {
            "colorbar": {
             "outlinewidth": 0,
             "ticks": ""
            },
            "type": "choropleth"
           }
          ],
          "contour": [
           {
            "colorbar": {
             "outlinewidth": 0,
             "ticks": ""
            },
            "colorscale": [
             [
              0,
              "#0d0887"
             ],
             [
              0.1111111111111111,
              "#46039f"
             ],
             [
              0.2222222222222222,
              "#7201a8"
             ],
             [
              0.3333333333333333,
              "#9c179e"
             ],
             [
              0.4444444444444444,
              "#bd3786"
             ],
             [
              0.5555555555555556,
              "#d8576b"
             ],
             [
              0.6666666666666666,
              "#ed7953"
             ],
             [
              0.7777777777777778,
              "#fb9f3a"
             ],
             [
              0.8888888888888888,
              "#fdca26"
             ],
             [
              1,
              "#f0f921"
             ]
            ],
            "type": "contour"
           }
          ],
          "contourcarpet": [
           {
            "colorbar": {
             "outlinewidth": 0,
             "ticks": ""
            },
            "type": "contourcarpet"
           }
          ],
          "heatmap": [
           {
            "colorbar": {
             "outlinewidth": 0,
             "ticks": ""
            },
            "colorscale": [
             [
              0,
              "#0d0887"
             ],
             [
              0.1111111111111111,
              "#46039f"
             ],
             [
              0.2222222222222222,
              "#7201a8"
             ],
             [
              0.3333333333333333,
              "#9c179e"
             ],
             [
              0.4444444444444444,
              "#bd3786"
             ],
             [
              0.5555555555555556,
              "#d8576b"
             ],
             [
              0.6666666666666666,
              "#ed7953"
             ],
             [
              0.7777777777777778,
              "#fb9f3a"
             ],
             [
              0.8888888888888888,
              "#fdca26"
             ],
             [
              1,
              "#f0f921"
             ]
            ],
            "type": "heatmap"
           }
          ],
          "heatmapgl": [
           {
            "colorbar": {
             "outlinewidth": 0,
             "ticks": ""
            },
            "colorscale": [
             [
              0,
              "#0d0887"
             ],
             [
              0.1111111111111111,
              "#46039f"
             ],
             [
              0.2222222222222222,
              "#7201a8"
             ],
             [
              0.3333333333333333,
              "#9c179e"
             ],
             [
              0.4444444444444444,
              "#bd3786"
             ],
             [
              0.5555555555555556,
              "#d8576b"
             ],
             [
              0.6666666666666666,
              "#ed7953"
             ],
             [
              0.7777777777777778,
              "#fb9f3a"
             ],
             [
              0.8888888888888888,
              "#fdca26"
             ],
             [
              1,
              "#f0f921"
             ]
            ],
            "type": "heatmapgl"
           }
          ],
          "histogram": [
           {
            "marker": {
             "pattern": {
              "fillmode": "overlay",
              "size": 10,
              "solidity": 0.2
             }
            },
            "type": "histogram"
           }
          ],
          "histogram2d": [
           {
            "colorbar": {
             "outlinewidth": 0,
             "ticks": ""
            },
            "colorscale": [
             [
              0,
              "#0d0887"
             ],
             [
              0.1111111111111111,
              "#46039f"
             ],
             [
              0.2222222222222222,
              "#7201a8"
             ],
             [
              0.3333333333333333,
              "#9c179e"
             ],
             [
              0.4444444444444444,
              "#bd3786"
             ],
             [
              0.5555555555555556,
              "#d8576b"
             ],
             [
              0.6666666666666666,
              "#ed7953"
             ],
             [
              0.7777777777777778,
              "#fb9f3a"
             ],
             [
              0.8888888888888888,
              "#fdca26"
             ],
             [
              1,
              "#f0f921"
             ]
            ],
            "type": "histogram2d"
           }
          ],
          "histogram2dcontour": [
           {
            "colorbar": {
             "outlinewidth": 0,
             "ticks": ""
            },
            "colorscale": [
             [
              0,
              "#0d0887"
             ],
             [
              0.1111111111111111,
              "#46039f"
             ],
             [
              0.2222222222222222,
              "#7201a8"
             ],
             [
              0.3333333333333333,
              "#9c179e"
             ],
             [
              0.4444444444444444,
              "#bd3786"
             ],
             [
              0.5555555555555556,
              "#d8576b"
             ],
             [
              0.6666666666666666,
              "#ed7953"
             ],
             [
              0.7777777777777778,
              "#fb9f3a"
             ],
             [
              0.8888888888888888,
              "#fdca26"
             ],
             [
              1,
              "#f0f921"
             ]
            ],
            "type": "histogram2dcontour"
           }
          ],
          "mesh3d": [
           {
            "colorbar": {
             "outlinewidth": 0,
             "ticks": ""
            },
            "type": "mesh3d"
           }
          ],
          "parcoords": [
           {
            "line": {
             "colorbar": {
              "outlinewidth": 0,
              "ticks": ""
             }
            },
            "type": "parcoords"
           }
          ],
          "pie": [
           {
            "automargin": true,
            "type": "pie"
           }
          ],
          "scatter": [
           {
            "fillpattern": {
             "fillmode": "overlay",
             "size": 10,
             "solidity": 0.2
            },
            "type": "scatter"
           }
          ],
          "scatter3d": [
           {
            "line": {
             "colorbar": {
              "outlinewidth": 0,
              "ticks": ""
             }
            },
            "marker": {
             "colorbar": {
              "outlinewidth": 0,
              "ticks": ""
             }
            },
            "type": "scatter3d"
           }
          ],
          "scattercarpet": [
           {
            "marker": {
             "colorbar": {
              "outlinewidth": 0,
              "ticks": ""
             }
            },
            "type": "scattercarpet"
           }
          ],
          "scattergeo": [
           {
            "marker": {
             "colorbar": {
              "outlinewidth": 0,
              "ticks": ""
             }
            },
            "type": "scattergeo"
           }
          ],
          "scattergl": [
           {
            "marker": {
             "colorbar": {
              "outlinewidth": 0,
              "ticks": ""
             }
            },
            "type": "scattergl"
           }
          ],
          "scattermapbox": [
           {
            "marker": {
             "colorbar": {
              "outlinewidth": 0,
              "ticks": ""
             }
            },
            "type": "scattermapbox"
           }
          ],
          "scatterpolar": [
           {
            "marker": {
             "colorbar": {
              "outlinewidth": 0,
              "ticks": ""
             }
            },
            "type": "scatterpolar"
           }
          ],
          "scatterpolargl": [
           {
            "marker": {
             "colorbar": {
              "outlinewidth": 0,
              "ticks": ""
             }
            },
            "type": "scatterpolargl"
           }
          ],
          "scatterternary": [
           {
            "marker": {
             "colorbar": {
              "outlinewidth": 0,
              "ticks": ""
             }
            },
            "type": "scatterternary"
           }
          ],
          "surface": [
           {
            "colorbar": {
             "outlinewidth": 0,
             "ticks": ""
            },
            "colorscale": [
             [
              0,
              "#0d0887"
             ],
             [
              0.1111111111111111,
              "#46039f"
             ],
             [
              0.2222222222222222,
              "#7201a8"
             ],
             [
              0.3333333333333333,
              "#9c179e"
             ],
             [
              0.4444444444444444,
              "#bd3786"
             ],
             [
              0.5555555555555556,
              "#d8576b"
             ],
             [
              0.6666666666666666,
              "#ed7953"
             ],
             [
              0.7777777777777778,
              "#fb9f3a"
             ],
             [
              0.8888888888888888,
              "#fdca26"
             ],
             [
              1,
              "#f0f921"
             ]
            ],
            "type": "surface"
           }
          ],
          "table": [
           {
            "cells": {
             "fill": {
              "color": "#EBF0F8"
             },
             "line": {
              "color": "white"
             }
            },
            "header": {
             "fill": {
              "color": "#C8D4E3"
             },
             "line": {
              "color": "white"
             }
            },
            "type": "table"
           }
          ]
         },
         "layout": {
          "annotationdefaults": {
           "arrowcolor": "#2a3f5f",
           "arrowhead": 0,
           "arrowwidth": 1
          },
          "autotypenumbers": "strict",
          "coloraxis": {
           "colorbar": {
            "outlinewidth": 0,
            "ticks": ""
           }
          },
          "colorscale": {
           "diverging": [
            [
             0,
             "#8e0152"
            ],
            [
             0.1,
             "#c51b7d"
            ],
            [
             0.2,
             "#de77ae"
            ],
            [
             0.3,
             "#f1b6da"
            ],
            [
             0.4,
             "#fde0ef"
            ],
            [
             0.5,
             "#f7f7f7"
            ],
            [
             0.6,
             "#e6f5d0"
            ],
            [
             0.7,
             "#b8e186"
            ],
            [
             0.8,
             "#7fbc41"
            ],
            [
             0.9,
             "#4d9221"
            ],
            [
             1,
             "#276419"
            ]
           ],
           "sequential": [
            [
             0,
             "#0d0887"
            ],
            [
             0.1111111111111111,
             "#46039f"
            ],
            [
             0.2222222222222222,
             "#7201a8"
            ],
            [
             0.3333333333333333,
             "#9c179e"
            ],
            [
             0.4444444444444444,
             "#bd3786"
            ],
            [
             0.5555555555555556,
             "#d8576b"
            ],
            [
             0.6666666666666666,
             "#ed7953"
            ],
            [
             0.7777777777777778,
             "#fb9f3a"
            ],
            [
             0.8888888888888888,
             "#fdca26"
            ],
            [
             1,
             "#f0f921"
            ]
           ],
           "sequentialminus": [
            [
             0,
             "#0d0887"
            ],
            [
             0.1111111111111111,
             "#46039f"
            ],
            [
             0.2222222222222222,
             "#7201a8"
            ],
            [
             0.3333333333333333,
             "#9c179e"
            ],
            [
             0.4444444444444444,
             "#bd3786"
            ],
            [
             0.5555555555555556,
             "#d8576b"
            ],
            [
             0.6666666666666666,
             "#ed7953"
            ],
            [
             0.7777777777777778,
             "#fb9f3a"
            ],
            [
             0.8888888888888888,
             "#fdca26"
            ],
            [
             1,
             "#f0f921"
            ]
           ]
          },
          "colorway": [
           "#636efa",
           "#EF553B",
           "#00cc96",
           "#ab63fa",
           "#FFA15A",
           "#19d3f3",
           "#FF6692",
           "#B6E880",
           "#FF97FF",
           "#FECB52"
          ],
          "font": {
           "color": "#2a3f5f"
          },
          "geo": {
           "bgcolor": "white",
           "lakecolor": "white",
           "landcolor": "#E5ECF6",
           "showlakes": true,
           "showland": true,
           "subunitcolor": "white"
          },
          "hoverlabel": {
           "align": "left"
          },
          "hovermode": "closest",
          "mapbox": {
           "style": "light"
          },
          "paper_bgcolor": "white",
          "plot_bgcolor": "#E5ECF6",
          "polar": {
           "angularaxis": {
            "gridcolor": "white",
            "linecolor": "white",
            "ticks": ""
           },
           "bgcolor": "#E5ECF6",
           "radialaxis": {
            "gridcolor": "white",
            "linecolor": "white",
            "ticks": ""
           }
          },
          "scene": {
           "xaxis": {
            "backgroundcolor": "#E5ECF6",
            "gridcolor": "white",
            "gridwidth": 2,
            "linecolor": "white",
            "showbackground": true,
            "ticks": "",
            "zerolinecolor": "white"
           },
           "yaxis": {
            "backgroundcolor": "#E5ECF6",
            "gridcolor": "white",
            "gridwidth": 2,
            "linecolor": "white",
            "showbackground": true,
            "ticks": "",
            "zerolinecolor": "white"
           },
           "zaxis": {
            "backgroundcolor": "#E5ECF6",
            "gridcolor": "white",
            "gridwidth": 2,
            "linecolor": "white",
            "showbackground": true,
            "ticks": "",
            "zerolinecolor": "white"
           }
          },
          "shapedefaults": {
           "line": {
            "color": "#2a3f5f"
           }
          },
          "ternary": {
           "aaxis": {
            "gridcolor": "white",
            "linecolor": "white",
            "ticks": ""
           },
           "baxis": {
            "gridcolor": "white",
            "linecolor": "white",
            "ticks": ""
           },
           "bgcolor": "#E5ECF6",
           "caxis": {
            "gridcolor": "white",
            "linecolor": "white",
            "ticks": ""
           }
          },
          "title": {
           "x": 0.05
          },
          "xaxis": {
           "automargin": true,
           "gridcolor": "white",
           "linecolor": "white",
           "ticks": "",
           "title": {
            "standoff": 15
           },
           "zerolinecolor": "white",
           "zerolinewidth": 2
          },
          "yaxis": {
           "automargin": true,
           "gridcolor": "white",
           "linecolor": "white",
           "ticks": "",
           "title": {
            "standoff": 15
           },
           "zerolinecolor": "white",
           "zerolinewidth": 2
          }
         }
        },
        "xaxis": {
         "anchor": "y2",
         "domain": [
          0,
          1
         ],
         "zeroline": false
        },
        "yaxis": {
         "anchor": "free",
         "domain": [
          0.35,
          1
         ],
         "position": 0
        },
        "yaxis2": {
         "anchor": "x",
         "domain": [
          0,
          0.25
         ],
         "dtick": 1,
         "showticklabels": false
        }
       }
      }
     },
     "metadata": {},
     "output_type": "display_data"
    }
   ],
   "source": [
    "print(df.columns)\n",
    "subject_variable = \"origin\"\n",
    "total_analysys(subject_variable)"
   ]
  },
  {
   "cell_type": "code",
   "execution_count": 53,
   "metadata": {},
   "outputs": [
    {
     "name": "stdout",
     "output_type": "stream",
     "text": [
      "standard Deviation: 4.434407770031567\n",
      "maximum mpg is delivered by: \n",
      "  [[31.3 4 120.0 75.0 2542 17.5 80 3 'mazda 626']]\n",
      "Number of records:  251\n"
     ]
    },
    {
     "data": {
      "application/vnd.plotly.v1+json": {
       "config": {
        "plotlyServerURL": "https://plot.ly"
       },
       "data": [
        {
         "alignmentgroup": "True",
         "hovertemplate": "variable=%{x}<br>value=%{y}<extra></extra>",
         "legendgroup": "",
         "marker": {
          "color": "#636efa"
         },
         "name": "",
         "notched": false,
         "offsetgroup": "",
         "orientation": "v",
         "showlegend": false,
         "type": "box",
         "x": [
          "mpg",
          "mpg",
          "mpg",
          "mpg",
          "mpg",
          "mpg",
          "mpg",
          "mpg",
          "mpg",
          "mpg",
          "mpg",
          "mpg",
          "mpg",
          "mpg",
          "mpg",
          "mpg",
          "mpg",
          "mpg",
          "mpg",
          "mpg",
          "mpg",
          "mpg",
          "mpg",
          "mpg",
          "mpg",
          "mpg",
          "mpg",
          "mpg",
          "mpg",
          "mpg",
          "mpg",
          "mpg",
          "mpg",
          "mpg",
          "mpg",
          "mpg",
          "mpg",
          "mpg",
          "mpg",
          "mpg",
          "mpg",
          "mpg",
          "mpg",
          "mpg",
          "mpg",
          "mpg",
          "mpg",
          "mpg",
          "mpg",
          "mpg",
          "mpg",
          "mpg",
          "mpg",
          "mpg",
          "mpg",
          "mpg",
          "mpg",
          "mpg",
          "mpg",
          "mpg",
          "mpg",
          "mpg",
          "mpg",
          "mpg",
          "mpg",
          "mpg",
          "mpg",
          "mpg",
          "mpg",
          "mpg",
          "mpg",
          "mpg",
          "mpg",
          "mpg",
          "mpg",
          "mpg",
          "mpg",
          "mpg",
          "mpg",
          "mpg",
          "mpg",
          "mpg",
          "mpg",
          "mpg",
          "mpg",
          "mpg",
          "mpg",
          "mpg",
          "mpg",
          "mpg",
          "mpg",
          "mpg",
          "mpg",
          "mpg",
          "mpg",
          "mpg",
          "mpg",
          "mpg",
          "mpg",
          "mpg",
          "mpg",
          "mpg",
          "mpg",
          "mpg",
          "mpg",
          "mpg",
          "mpg",
          "mpg",
          "mpg",
          "mpg",
          "mpg",
          "mpg",
          "mpg",
          "mpg",
          "mpg",
          "mpg",
          "mpg",
          "mpg",
          "mpg",
          "mpg",
          "mpg",
          "mpg",
          "mpg",
          "mpg",
          "mpg",
          "mpg",
          "mpg",
          "mpg",
          "mpg",
          "mpg",
          "mpg",
          "mpg",
          "mpg",
          "mpg",
          "mpg",
          "mpg",
          "mpg",
          "mpg",
          "mpg",
          "mpg",
          "mpg",
          "mpg",
          "mpg",
          "mpg",
          "mpg",
          "mpg",
          "mpg",
          "mpg",
          "mpg",
          "mpg",
          "mpg",
          "mpg",
          "mpg",
          "mpg",
          "mpg",
          "mpg",
          "mpg",
          "mpg",
          "mpg",
          "mpg",
          "mpg",
          "mpg",
          "mpg",
          "mpg",
          "mpg",
          "mpg",
          "mpg",
          "mpg",
          "mpg",
          "mpg",
          "mpg",
          "mpg",
          "mpg",
          "mpg",
          "mpg",
          "mpg",
          "mpg",
          "mpg",
          "mpg",
          "mpg",
          "mpg",
          "mpg",
          "mpg",
          "mpg",
          "mpg",
          "mpg",
          "mpg",
          "mpg",
          "mpg",
          "mpg",
          "mpg",
          "mpg",
          "mpg",
          "mpg",
          "mpg",
          "mpg",
          "mpg",
          "mpg",
          "mpg",
          "mpg",
          "mpg",
          "mpg",
          "mpg",
          "mpg",
          "mpg",
          "mpg",
          "mpg",
          "mpg",
          "mpg",
          "mpg",
          "mpg",
          "mpg",
          "mpg",
          "mpg",
          "mpg",
          "mpg",
          "mpg",
          "mpg",
          "mpg",
          "mpg",
          "mpg",
          "mpg",
          "mpg",
          "mpg",
          "mpg",
          "mpg",
          "mpg",
          "mpg",
          "mpg",
          "mpg",
          "mpg",
          "mpg",
          "mpg",
          "mpg",
          "mpg",
          "mpg",
          "mpg",
          "mpg",
          "mpg",
          "mpg",
          "mpg",
          "mpg",
          "mpg",
          "mpg",
          "mpg",
          "mpg",
          "mpg",
          "mpg",
          "mpg",
          "mpg",
          "mpg"
         ],
         "x0": " ",
         "xaxis": "x",
         "y": [
          18,
          18,
          16,
          17,
          24,
          22,
          18,
          21,
          27,
          26,
          25,
          24,
          25,
          26,
          21,
          27,
          28,
          25,
          25,
          19,
          16,
          17,
          19,
          18,
          18,
          22,
          19,
          18,
          23,
          28,
          30,
          30,
          31,
          27,
          26,
          24,
          25,
          23,
          20,
          21,
          17,
          19,
          18,
          22,
          21,
          26,
          22,
          28,
          23,
          28,
          27,
          18,
          16,
          18,
          18,
          23,
          26,
          18,
          20,
          21,
          22,
          18,
          19,
          21,
          26,
          16,
          29,
          24,
          20,
          19,
          24,
          20,
          20,
          21,
          19,
          31,
          26,
          25,
          16,
          16,
          18,
          16,
          29,
          26,
          26,
          31,
          28,
          24,
          26,
          24,
          26,
          31,
          19,
          18,
          16,
          16,
          17,
          16,
          18,
          21,
          20,
          29,
          23,
          20,
          23,
          24,
          25,
          24,
          18,
          29,
          19,
          23,
          23,
          22,
          25,
          28,
          25,
          25,
          26,
          27,
          17.5,
          16,
          22,
          22,
          24,
          22.5,
          29,
          24.5,
          29,
          20,
          18,
          18.5,
          17.5,
          29.5,
          28,
          26.5,
          20,
          19,
          19,
          16.5,
          16.5,
          30,
          25.5,
          17.5,
          17,
          17.5,
          20.5,
          19,
          18.5,
          16,
          16,
          29,
          24.5,
          26,
          25.5,
          30.5,
          30,
          30.5,
          22,
          21.5,
          21.5,
          19.9,
          19.4,
          20.2,
          19.2,
          20.5,
          20.2,
          25.1,
          20.5,
          19.4,
          20.6,
          20.8,
          18.6,
          18.1,
          19.2,
          17.7,
          18.1,
          17.5,
          30,
          27.5,
          27.2,
          30.9,
          21.1,
          23.2,
          23.8,
          23.9,
          20.3,
          17,
          21.6,
          16.2,
          29.5,
          21.5,
          19.8,
          22.3,
          20.2,
          20.6,
          17,
          17.6,
          16.5,
          18.2,
          16.9,
          19.2,
          18.5,
          27.4,
          25.4,
          23,
          27.2,
          23.9,
          28.4,
          28.8,
          26.8,
          28,
          26.4,
          24.3,
          19.1,
          29.8,
          31.3,
          27.9,
          30,
          29.8,
          23.7,
          23.6,
          27.2,
          26.6,
          25.8,
          23.5,
          30,
          29.9,
          28.1,
          30.7,
          25.4,
          24.2,
          22.4,
          26.6,
          20.2,
          17.6,
          28,
          27,
          31,
          29,
          27,
          24,
          23,
          31,
          25,
          26,
          22,
          27,
          27,
          28,
          31
         ],
         "y0": " ",
         "yaxis": "y"
        }
       ],
       "layout": {
        "boxmode": "group",
        "legend": {
         "tracegroupgap": 0
        },
        "margin": {
         "t": 60
        },
        "template": {
         "data": {
          "bar": [
           {
            "error_x": {
             "color": "#2a3f5f"
            },
            "error_y": {
             "color": "#2a3f5f"
            },
            "marker": {
             "line": {
              "color": "#E5ECF6",
              "width": 0.5
             },
             "pattern": {
              "fillmode": "overlay",
              "size": 10,
              "solidity": 0.2
             }
            },
            "type": "bar"
           }
          ],
          "barpolar": [
           {
            "marker": {
             "line": {
              "color": "#E5ECF6",
              "width": 0.5
             },
             "pattern": {
              "fillmode": "overlay",
              "size": 10,
              "solidity": 0.2
             }
            },
            "type": "barpolar"
           }
          ],
          "carpet": [
           {
            "aaxis": {
             "endlinecolor": "#2a3f5f",
             "gridcolor": "white",
             "linecolor": "white",
             "minorgridcolor": "white",
             "startlinecolor": "#2a3f5f"
            },
            "baxis": {
             "endlinecolor": "#2a3f5f",
             "gridcolor": "white",
             "linecolor": "white",
             "minorgridcolor": "white",
             "startlinecolor": "#2a3f5f"
            },
            "type": "carpet"
           }
          ],
          "choropleth": [
           {
            "colorbar": {
             "outlinewidth": 0,
             "ticks": ""
            },
            "type": "choropleth"
           }
          ],
          "contour": [
           {
            "colorbar": {
             "outlinewidth": 0,
             "ticks": ""
            },
            "colorscale": [
             [
              0,
              "#0d0887"
             ],
             [
              0.1111111111111111,
              "#46039f"
             ],
             [
              0.2222222222222222,
              "#7201a8"
             ],
             [
              0.3333333333333333,
              "#9c179e"
             ],
             [
              0.4444444444444444,
              "#bd3786"
             ],
             [
              0.5555555555555556,
              "#d8576b"
             ],
             [
              0.6666666666666666,
              "#ed7953"
             ],
             [
              0.7777777777777778,
              "#fb9f3a"
             ],
             [
              0.8888888888888888,
              "#fdca26"
             ],
             [
              1,
              "#f0f921"
             ]
            ],
            "type": "contour"
           }
          ],
          "contourcarpet": [
           {
            "colorbar": {
             "outlinewidth": 0,
             "ticks": ""
            },
            "type": "contourcarpet"
           }
          ],
          "heatmap": [
           {
            "colorbar": {
             "outlinewidth": 0,
             "ticks": ""
            },
            "colorscale": [
             [
              0,
              "#0d0887"
             ],
             [
              0.1111111111111111,
              "#46039f"
             ],
             [
              0.2222222222222222,
              "#7201a8"
             ],
             [
              0.3333333333333333,
              "#9c179e"
             ],
             [
              0.4444444444444444,
              "#bd3786"
             ],
             [
              0.5555555555555556,
              "#d8576b"
             ],
             [
              0.6666666666666666,
              "#ed7953"
             ],
             [
              0.7777777777777778,
              "#fb9f3a"
             ],
             [
              0.8888888888888888,
              "#fdca26"
             ],
             [
              1,
              "#f0f921"
             ]
            ],
            "type": "heatmap"
           }
          ],
          "heatmapgl": [
           {
            "colorbar": {
             "outlinewidth": 0,
             "ticks": ""
            },
            "colorscale": [
             [
              0,
              "#0d0887"
             ],
             [
              0.1111111111111111,
              "#46039f"
             ],
             [
              0.2222222222222222,
              "#7201a8"
             ],
             [
              0.3333333333333333,
              "#9c179e"
             ],
             [
              0.4444444444444444,
              "#bd3786"
             ],
             [
              0.5555555555555556,
              "#d8576b"
             ],
             [
              0.6666666666666666,
              "#ed7953"
             ],
             [
              0.7777777777777778,
              "#fb9f3a"
             ],
             [
              0.8888888888888888,
              "#fdca26"
             ],
             [
              1,
              "#f0f921"
             ]
            ],
            "type": "heatmapgl"
           }
          ],
          "histogram": [
           {
            "marker": {
             "pattern": {
              "fillmode": "overlay",
              "size": 10,
              "solidity": 0.2
             }
            },
            "type": "histogram"
           }
          ],
          "histogram2d": [
           {
            "colorbar": {
             "outlinewidth": 0,
             "ticks": ""
            },
            "colorscale": [
             [
              0,
              "#0d0887"
             ],
             [
              0.1111111111111111,
              "#46039f"
             ],
             [
              0.2222222222222222,
              "#7201a8"
             ],
             [
              0.3333333333333333,
              "#9c179e"
             ],
             [
              0.4444444444444444,
              "#bd3786"
             ],
             [
              0.5555555555555556,
              "#d8576b"
             ],
             [
              0.6666666666666666,
              "#ed7953"
             ],
             [
              0.7777777777777778,
              "#fb9f3a"
             ],
             [
              0.8888888888888888,
              "#fdca26"
             ],
             [
              1,
              "#f0f921"
             ]
            ],
            "type": "histogram2d"
           }
          ],
          "histogram2dcontour": [
           {
            "colorbar": {
             "outlinewidth": 0,
             "ticks": ""
            },
            "colorscale": [
             [
              0,
              "#0d0887"
             ],
             [
              0.1111111111111111,
              "#46039f"
             ],
             [
              0.2222222222222222,
              "#7201a8"
             ],
             [
              0.3333333333333333,
              "#9c179e"
             ],
             [
              0.4444444444444444,
              "#bd3786"
             ],
             [
              0.5555555555555556,
              "#d8576b"
             ],
             [
              0.6666666666666666,
              "#ed7953"
             ],
             [
              0.7777777777777778,
              "#fb9f3a"
             ],
             [
              0.8888888888888888,
              "#fdca26"
             ],
             [
              1,
              "#f0f921"
             ]
            ],
            "type": "histogram2dcontour"
           }
          ],
          "mesh3d": [
           {
            "colorbar": {
             "outlinewidth": 0,
             "ticks": ""
            },
            "type": "mesh3d"
           }
          ],
          "parcoords": [
           {
            "line": {
             "colorbar": {
              "outlinewidth": 0,
              "ticks": ""
             }
            },
            "type": "parcoords"
           }
          ],
          "pie": [
           {
            "automargin": true,
            "type": "pie"
           }
          ],
          "scatter": [
           {
            "fillpattern": {
             "fillmode": "overlay",
             "size": 10,
             "solidity": 0.2
            },
            "type": "scatter"
           }
          ],
          "scatter3d": [
           {
            "line": {
             "colorbar": {
              "outlinewidth": 0,
              "ticks": ""
             }
            },
            "marker": {
             "colorbar": {
              "outlinewidth": 0,
              "ticks": ""
             }
            },
            "type": "scatter3d"
           }
          ],
          "scattercarpet": [
           {
            "marker": {
             "colorbar": {
              "outlinewidth": 0,
              "ticks": ""
             }
            },
            "type": "scattercarpet"
           }
          ],
          "scattergeo": [
           {
            "marker": {
             "colorbar": {
              "outlinewidth": 0,
              "ticks": ""
             }
            },
            "type": "scattergeo"
           }
          ],
          "scattergl": [
           {
            "marker": {
             "colorbar": {
              "outlinewidth": 0,
              "ticks": ""
             }
            },
            "type": "scattergl"
           }
          ],
          "scattermapbox": [
           {
            "marker": {
             "colorbar": {
              "outlinewidth": 0,
              "ticks": ""
             }
            },
            "type": "scattermapbox"
           }
          ],
          "scatterpolar": [
           {
            "marker": {
             "colorbar": {
              "outlinewidth": 0,
              "ticks": ""
             }
            },
            "type": "scatterpolar"
           }
          ],
          "scatterpolargl": [
           {
            "marker": {
             "colorbar": {
              "outlinewidth": 0,
              "ticks": ""
             }
            },
            "type": "scatterpolargl"
           }
          ],
          "scatterternary": [
           {
            "marker": {
             "colorbar": {
              "outlinewidth": 0,
              "ticks": ""
             }
            },
            "type": "scatterternary"
           }
          ],
          "surface": [
           {
            "colorbar": {
             "outlinewidth": 0,
             "ticks": ""
            },
            "colorscale": [
             [
              0,
              "#0d0887"
             ],
             [
              0.1111111111111111,
              "#46039f"
             ],
             [
              0.2222222222222222,
              "#7201a8"
             ],
             [
              0.3333333333333333,
              "#9c179e"
             ],
             [
              0.4444444444444444,
              "#bd3786"
             ],
             [
              0.5555555555555556,
              "#d8576b"
             ],
             [
              0.6666666666666666,
              "#ed7953"
             ],
             [
              0.7777777777777778,
              "#fb9f3a"
             ],
             [
              0.8888888888888888,
              "#fdca26"
             ],
             [
              1,
              "#f0f921"
             ]
            ],
            "type": "surface"
           }
          ],
          "table": [
           {
            "cells": {
             "fill": {
              "color": "#EBF0F8"
             },
             "line": {
              "color": "white"
             }
            },
            "header": {
             "fill": {
              "color": "#C8D4E3"
             },
             "line": {
              "color": "white"
             }
            },
            "type": "table"
           }
          ]
         },
         "layout": {
          "annotationdefaults": {
           "arrowcolor": "#2a3f5f",
           "arrowhead": 0,
           "arrowwidth": 1
          },
          "autotypenumbers": "strict",
          "coloraxis": {
           "colorbar": {
            "outlinewidth": 0,
            "ticks": ""
           }
          },
          "colorscale": {
           "diverging": [
            [
             0,
             "#8e0152"
            ],
            [
             0.1,
             "#c51b7d"
            ],
            [
             0.2,
             "#de77ae"
            ],
            [
             0.3,
             "#f1b6da"
            ],
            [
             0.4,
             "#fde0ef"
            ],
            [
             0.5,
             "#f7f7f7"
            ],
            [
             0.6,
             "#e6f5d0"
            ],
            [
             0.7,
             "#b8e186"
            ],
            [
             0.8,
             "#7fbc41"
            ],
            [
             0.9,
             "#4d9221"
            ],
            [
             1,
             "#276419"
            ]
           ],
           "sequential": [
            [
             0,
             "#0d0887"
            ],
            [
             0.1111111111111111,
             "#46039f"
            ],
            [
             0.2222222222222222,
             "#7201a8"
            ],
            [
             0.3333333333333333,
             "#9c179e"
            ],
            [
             0.4444444444444444,
             "#bd3786"
            ],
            [
             0.5555555555555556,
             "#d8576b"
            ],
            [
             0.6666666666666666,
             "#ed7953"
            ],
            [
             0.7777777777777778,
             "#fb9f3a"
            ],
            [
             0.8888888888888888,
             "#fdca26"
            ],
            [
             1,
             "#f0f921"
            ]
           ],
           "sequentialminus": [
            [
             0,
             "#0d0887"
            ],
            [
             0.1111111111111111,
             "#46039f"
            ],
            [
             0.2222222222222222,
             "#7201a8"
            ],
            [
             0.3333333333333333,
             "#9c179e"
            ],
            [
             0.4444444444444444,
             "#bd3786"
            ],
            [
             0.5555555555555556,
             "#d8576b"
            ],
            [
             0.6666666666666666,
             "#ed7953"
            ],
            [
             0.7777777777777778,
             "#fb9f3a"
            ],
            [
             0.8888888888888888,
             "#fdca26"
            ],
            [
             1,
             "#f0f921"
            ]
           ]
          },
          "colorway": [
           "#636efa",
           "#EF553B",
           "#00cc96",
           "#ab63fa",
           "#FFA15A",
           "#19d3f3",
           "#FF6692",
           "#B6E880",
           "#FF97FF",
           "#FECB52"
          ],
          "font": {
           "color": "#2a3f5f"
          },
          "geo": {
           "bgcolor": "white",
           "lakecolor": "white",
           "landcolor": "#E5ECF6",
           "showlakes": true,
           "showland": true,
           "subunitcolor": "white"
          },
          "hoverlabel": {
           "align": "left"
          },
          "hovermode": "closest",
          "mapbox": {
           "style": "light"
          },
          "paper_bgcolor": "white",
          "plot_bgcolor": "#E5ECF6",
          "polar": {
           "angularaxis": {
            "gridcolor": "white",
            "linecolor": "white",
            "ticks": ""
           },
           "bgcolor": "#E5ECF6",
           "radialaxis": {
            "gridcolor": "white",
            "linecolor": "white",
            "ticks": ""
           }
          },
          "scene": {
           "xaxis": {
            "backgroundcolor": "#E5ECF6",
            "gridcolor": "white",
            "gridwidth": 2,
            "linecolor": "white",
            "showbackground": true,
            "ticks": "",
            "zerolinecolor": "white"
           },
           "yaxis": {
            "backgroundcolor": "#E5ECF6",
            "gridcolor": "white",
            "gridwidth": 2,
            "linecolor": "white",
            "showbackground": true,
            "ticks": "",
            "zerolinecolor": "white"
           },
           "zaxis": {
            "backgroundcolor": "#E5ECF6",
            "gridcolor": "white",
            "gridwidth": 2,
            "linecolor": "white",
            "showbackground": true,
            "ticks": "",
            "zerolinecolor": "white"
           }
          },
          "shapedefaults": {
           "line": {
            "color": "#2a3f5f"
           }
          },
          "ternary": {
           "aaxis": {
            "gridcolor": "white",
            "linecolor": "white",
            "ticks": ""
           },
           "baxis": {
            "gridcolor": "white",
            "linecolor": "white",
            "ticks": ""
           },
           "bgcolor": "#E5ECF6",
           "caxis": {
            "gridcolor": "white",
            "linecolor": "white",
            "ticks": ""
           }
          },
          "title": {
           "x": 0.05
          },
          "xaxis": {
           "automargin": true,
           "gridcolor": "white",
           "linecolor": "white",
           "ticks": "",
           "title": {
            "standoff": 15
           },
           "zerolinecolor": "white",
           "zerolinewidth": 2
          },
          "yaxis": {
           "automargin": true,
           "gridcolor": "white",
           "linecolor": "white",
           "ticks": "",
           "title": {
            "standoff": 15
           },
           "zerolinecolor": "white",
           "zerolinewidth": 2
          }
         }
        },
        "xaxis": {
         "anchor": "y",
         "domain": [
          0,
          1
         ],
         "title": {
          "text": "variable"
         }
        },
        "yaxis": {
         "anchor": "x",
         "domain": [
          0,
          1
         ],
         "title": {
          "text": "value"
         }
        }
       }
      }
     },
     "metadata": {},
     "output_type": "display_data"
    },
    {
     "data": {
      "application/vnd.plotly.v1+json": {
       "config": {
        "plotlyServerURL": "https://plot.ly"
       },
       "data": [
        {
         "autobinx": false,
         "histnorm": "probability density",
         "legendgroup": "mpg",
         "marker": {
          "color": "rgb(31, 119, 180)"
         },
         "name": "mpg",
         "opacity": 0.7,
         "type": "histogram",
         "x": [
          18,
          18,
          16,
          17,
          24,
          22,
          18,
          21,
          27,
          26,
          25,
          24,
          25,
          26,
          21,
          27,
          28,
          25,
          25,
          19,
          16,
          17,
          19,
          18,
          18,
          22,
          19,
          18,
          23,
          28,
          30,
          30,
          31,
          27,
          26,
          24,
          25,
          23,
          20,
          21,
          17,
          19,
          18,
          22,
          21,
          26,
          22,
          28,
          23,
          28,
          27,
          18,
          16,
          18,
          18,
          23,
          26,
          18,
          20,
          21,
          22,
          18,
          19,
          21,
          26,
          16,
          29,
          24,
          20,
          19,
          24,
          20,
          20,
          21,
          19,
          31,
          26,
          25,
          16,
          16,
          18,
          16,
          29,
          26,
          26,
          31,
          28,
          24,
          26,
          24,
          26,
          31,
          19,
          18,
          16,
          16,
          17,
          16,
          18,
          21,
          20,
          29,
          23,
          20,
          23,
          24,
          25,
          24,
          18,
          29,
          19,
          23,
          23,
          22,
          25,
          28,
          25,
          25,
          26,
          27,
          17.5,
          16,
          22,
          22,
          24,
          22.5,
          29,
          24.5,
          29,
          20,
          18,
          18.5,
          17.5,
          29.5,
          28,
          26.5,
          20,
          19,
          19,
          16.5,
          16.5,
          30,
          25.5,
          17.5,
          17,
          17.5,
          20.5,
          19,
          18.5,
          16,
          16,
          29,
          24.5,
          26,
          25.5,
          30.5,
          30,
          30.5,
          22,
          21.5,
          21.5,
          19.9,
          19.4,
          20.2,
          19.2,
          20.5,
          20.2,
          25.1,
          20.5,
          19.4,
          20.6,
          20.8,
          18.6,
          18.1,
          19.2,
          17.7,
          18.1,
          17.5,
          30,
          27.5,
          27.2,
          30.9,
          21.1,
          23.2,
          23.8,
          23.9,
          20.3,
          17,
          21.6,
          16.2,
          29.5,
          21.5,
          19.8,
          22.3,
          20.2,
          20.6,
          17,
          17.6,
          16.5,
          18.2,
          16.9,
          19.2,
          18.5,
          27.4,
          25.4,
          23,
          27.2,
          23.9,
          28.4,
          28.8,
          26.8,
          28,
          26.4,
          24.3,
          19.1,
          29.8,
          31.3,
          27.9,
          30,
          29.8,
          23.7,
          23.6,
          27.2,
          26.6,
          25.8,
          23.5,
          30,
          29.9,
          28.1,
          30.7,
          25.4,
          24.2,
          22.4,
          26.6,
          20.2,
          17.6,
          28,
          27,
          31,
          29,
          27,
          24,
          23,
          31,
          25,
          26,
          22,
          27,
          27,
          28,
          31
         ],
         "xaxis": "x",
         "xbins": {
          "end": 31.3,
          "size": 1,
          "start": 16
         },
         "yaxis": "y"
        },
        {
         "legendgroup": "mpg",
         "marker": {
          "color": "rgb(31, 119, 180)"
         },
         "mode": "lines",
         "name": "mpg",
         "showlegend": false,
         "type": "scatter",
         "x": [
          16,
          16.0306,
          16.0612,
          16.0918,
          16.1224,
          16.153,
          16.1836,
          16.2142,
          16.2448,
          16.2754,
          16.306,
          16.3366,
          16.3672,
          16.3978,
          16.4284,
          16.459,
          16.4896,
          16.5202,
          16.5508,
          16.5814,
          16.612,
          16.6426,
          16.6732,
          16.7038,
          16.7344,
          16.765,
          16.7956,
          16.8262,
          16.8568,
          16.8874,
          16.918,
          16.9486,
          16.9792,
          17.0098,
          17.040399999999998,
          17.071,
          17.1016,
          17.1322,
          17.1628,
          17.1934,
          17.224,
          17.2546,
          17.2852,
          17.3158,
          17.3464,
          17.377,
          17.4076,
          17.438200000000002,
          17.4688,
          17.4994,
          17.53,
          17.5606,
          17.5912,
          17.6218,
          17.6524,
          17.683,
          17.7136,
          17.7442,
          17.7748,
          17.8054,
          17.836,
          17.8666,
          17.8972,
          17.9278,
          17.9584,
          17.989,
          18.0196,
          18.0502,
          18.0808,
          18.1114,
          18.142,
          18.1726,
          18.2032,
          18.2338,
          18.264400000000002,
          18.295,
          18.3256,
          18.3562,
          18.3868,
          18.4174,
          18.448,
          18.4786,
          18.5092,
          18.5398,
          18.5704,
          18.601,
          18.6316,
          18.6622,
          18.6928,
          18.7234,
          18.754,
          18.7846,
          18.8152,
          18.8458,
          18.8764,
          18.907,
          18.9376,
          18.9682,
          18.9988,
          19.0294,
          19.06,
          19.090600000000002,
          19.1212,
          19.1518,
          19.1824,
          19.213,
          19.2436,
          19.2742,
          19.3048,
          19.3354,
          19.366,
          19.3966,
          19.4272,
          19.4578,
          19.4884,
          19.519,
          19.5496,
          19.5802,
          19.6108,
          19.6414,
          19.672,
          19.7026,
          19.7332,
          19.7638,
          19.7944,
          19.825,
          19.8556,
          19.8862,
          19.916800000000002,
          19.947400000000002,
          19.978,
          20.0086,
          20.0392,
          20.0698,
          20.1004,
          20.131,
          20.1616,
          20.1922,
          20.2228,
          20.2534,
          20.284,
          20.3146,
          20.3452,
          20.375799999999998,
          20.4064,
          20.437,
          20.4676,
          20.4982,
          20.5288,
          20.5594,
          20.59,
          20.6206,
          20.6512,
          20.6818,
          20.712400000000002,
          20.743000000000002,
          20.773600000000002,
          20.8042,
          20.8348,
          20.8654,
          20.896,
          20.9266,
          20.9572,
          20.9878,
          21.0184,
          21.049,
          21.0796,
          21.1102,
          21.1408,
          21.1714,
          21.201999999999998,
          21.2326,
          21.263199999999998,
          21.2938,
          21.3244,
          21.355,
          21.3856,
          21.4162,
          21.4468,
          21.4774,
          21.508,
          21.538600000000002,
          21.5692,
          21.599800000000002,
          21.6304,
          21.661,
          21.6916,
          21.7222,
          21.7528,
          21.7834,
          21.814,
          21.8446,
          21.8752,
          21.9058,
          21.9364,
          21.967,
          21.9976,
          22.028200000000002,
          22.058799999999998,
          22.0894,
          22.12,
          22.1506,
          22.1812,
          22.2118,
          22.2424,
          22.273,
          22.3036,
          22.334200000000003,
          22.3648,
          22.395400000000002,
          22.426000000000002,
          22.4566,
          22.4872,
          22.5178,
          22.5484,
          22.579,
          22.6096,
          22.6402,
          22.6708,
          22.7014,
          22.732,
          22.7626,
          22.7932,
          22.8238,
          22.854400000000002,
          22.884999999999998,
          22.9156,
          22.9462,
          22.9768,
          23.0074,
          23.038,
          23.0686,
          23.0992,
          23.1298,
          23.160400000000003,
          23.191,
          23.221600000000002,
          23.252200000000002,
          23.2828,
          23.3134,
          23.344,
          23.3746,
          23.4052,
          23.4358,
          23.4664,
          23.497,
          23.5276,
          23.5582,
          23.5888,
          23.6194,
          23.65,
          23.6806,
          23.7112,
          23.7418,
          23.7724,
          23.803,
          23.8336,
          23.8642,
          23.8948,
          23.9254,
          23.956,
          23.9866,
          24.017200000000003,
          24.047800000000002,
          24.078400000000002,
          24.109,
          24.1396,
          24.1702,
          24.2008,
          24.2314,
          24.262,
          24.2926,
          24.3232,
          24.3538,
          24.3844,
          24.415,
          24.4456,
          24.4762,
          24.506800000000002,
          24.537399999999998,
          24.567999999999998,
          24.5986,
          24.6292,
          24.6598,
          24.6904,
          24.721,
          24.7516,
          24.782200000000003,
          24.812800000000003,
          24.8434,
          24.874000000000002,
          24.904600000000002,
          24.935200000000002,
          24.9658,
          24.9964,
          25.027,
          25.0576,
          25.0882,
          25.1188,
          25.1494,
          25.18,
          25.2106,
          25.2412,
          25.2718,
          25.3024,
          25.333,
          25.363599999999998,
          25.3942,
          25.4248,
          25.455399999999997,
          25.486,
          25.5166,
          25.5472,
          25.577800000000003,
          25.6084,
          25.639,
          25.669600000000003,
          25.700200000000002,
          25.730800000000002,
          25.761400000000002,
          25.792,
          25.8226,
          25.8532,
          25.8838,
          25.9144,
          25.945,
          25.9756,
          26.0062,
          26.0368,
          26.0674,
          26.098,
          26.1286,
          26.1592,
          26.1898,
          26.220399999999998,
          26.250999999999998,
          26.2816,
          26.3122,
          26.3428,
          26.3734,
          26.404,
          26.4346,
          26.465200000000003,
          26.495800000000003,
          26.5264,
          26.557000000000002,
          26.587600000000002,
          26.6182,
          26.6488,
          26.6794,
          26.71,
          26.7406,
          26.7712,
          26.8018,
          26.8324,
          26.863,
          26.8936,
          26.9242,
          26.9548,
          26.9854,
          27.016,
          27.046599999999998,
          27.0772,
          27.1078,
          27.138399999999997,
          27.169,
          27.1996,
          27.2302,
          27.260800000000003,
          27.2914,
          27.322,
          27.352600000000002,
          27.383200000000002,
          27.413800000000002,
          27.4444,
          27.475,
          27.5056,
          27.5362,
          27.5668,
          27.5974,
          27.628,
          27.6586,
          27.6892,
          27.7198,
          27.7504,
          27.781,
          27.8116,
          27.8422,
          27.8728,
          27.9034,
          27.933999999999997,
          27.9646,
          27.9952,
          28.0258,
          28.056400000000004,
          28.087,
          28.1176,
          28.148200000000003,
          28.178800000000003,
          28.209400000000002,
          28.240000000000002,
          28.2706,
          28.3012,
          28.3318,
          28.3624,
          28.393,
          28.4236,
          28.4542,
          28.4848,
          28.5154,
          28.546,
          28.5766,
          28.6072,
          28.6378,
          28.668400000000002,
          28.698999999999998,
          28.729599999999998,
          28.7602,
          28.7908,
          28.8214,
          28.852,
          28.8826,
          28.913200000000003,
          28.943800000000003,
          28.974400000000003,
          29.005000000000003,
          29.035600000000002,
          29.066200000000002,
          29.0968,
          29.1274,
          29.158,
          29.1886,
          29.2192,
          29.2498,
          29.2804,
          29.311,
          29.3416,
          29.3722,
          29.4028,
          29.4334,
          29.464,
          29.4946,
          29.525199999999998,
          29.5558,
          29.5864,
          29.617,
          29.6476,
          29.6782,
          29.708800000000004,
          29.739400000000003,
          29.77,
          29.800600000000003,
          29.831200000000003,
          29.861800000000002,
          29.892400000000002,
          29.923000000000002,
          29.9536,
          29.9842,
          30.0148,
          30.0454,
          30.076,
          30.1066,
          30.1372,
          30.1678,
          30.1984,
          30.229,
          30.2596,
          30.2902,
          30.320800000000002,
          30.3514,
          30.381999999999998,
          30.4126,
          30.4432,
          30.4738,
          30.504400000000004,
          30.535,
          30.5656,
          30.596200000000003,
          30.626800000000003,
          30.657400000000003,
          30.688000000000002,
          30.718600000000002,
          30.749200000000002,
          30.7798,
          30.8104,
          30.841,
          30.8716,
          30.9022,
          30.9328,
          30.9634,
          30.994,
          31.0246,
          31.0552,
          31.0858,
          31.116400000000002,
          31.147,
          31.177599999999998,
          31.2082,
          31.2388,
          31.2694
         ],
         "xaxis": "x",
         "y": [
          0.04213230239641816,
          0.042761615473295295,
          0.04339029512175954,
          0.04401811809380588,
          0.044644861399617514,
          0.0452703024610419,
          0.04589421926279679,
          0.04651639050137733,
          0.047136595731650466,
          0.04775461551113271,
          0.048370231541959366,
          0.04898322681056435,
          0.04959338572509749,
          0.050200494250615096,
          0.05080434004208725,
          0.051404712575268685,
          0.05200140327548723,
          0.05259420564440597,
          0.053182915384815704,
          0.053767330523518765,
          0.05434725153236152,
          0.05492248144747294,
          0.05549282598676217,
          0.05605809366572691,
          0.056618095911617324,
          0.05717264717599309,
          0.05772156504570646,
          0.058264670352336775,
          0.05880178728008779,
          0.05933274347215756,
          0.05985737013557292,
          0.060375502144475325,
          0.06088697814182937,
          0.061391640639516985,
          0.06188933611676639,
          0.06237991511685364,
          0.06286323234200118,
          0.06333914674638906,
          0.06380752162717745,
          0.06426822471343283,
          0.06472112825283556,
          0.06516610909603576,
          0.0656030487785179,
          0.06603183359982001,
          0.06645235469994809,
          0.06686450813281904,
          0.06726819493655475,
          0.06766332120044931,
          0.06804979812842195,
          0.06842754209876852,
          0.06879647472001983,
          0.06915652288271434,
          0.06950761880689456,
          0.0698497000851359,
          0.07018270972092111,
          0.07050659616217851,
          0.0708213133298049,
          0.07112682064100523,
          0.07142308302728548,
          0.07171007094694735,
          0.07198776039194536,
          0.07225613288897424,
          0.07251517549467346,
          0.07276488078484797,
          0.07300524683761686,
          0.073236277210425,
          0.07345798091086124,
          0.07367037236125272,
          0.073873471357019,
          0.07406730301878989,
          0.07425189773831192,
          0.07442729111818751,
          0.07459352390551124,
          0.07475064191948849,
          0.07489869597314296,
          0.07503774178923905,
          0.07516783991056394,
          0.07528905560474035,
          0.07540145876374933,
          0.075505123798374,
          0.07560012952778376,
          0.07568655906450007,
          0.07576449969500096,
          0.07583404275623654,
          0.07589528350834304,
          0.07594832100385406,
          0.07599325795372344,
          0.07603020059048063,
          0.0760592585288525,
          0.07608054462419098,
          0.07609417482905347,
          0.07610026804828861,
          0.07609894599297978,
          0.07609033303360663,
          0.0760745560527792,
          0.07605174429789993,
          0.07602202923410872,
          0.07598554439785635,
          0.07594242525144908,
          0.07589280903889951,
          0.07583683464340772,
          0.07577464244678797,
          0.07570637419114429,
          0.07563217284308242,
          0.07555218246073443,
          0.07546654806385815,
          0.07537541550724818,
          0.07527893135768834,
          0.07517724277465188,
          0.07507049739493299,
          0.07495884322138066,
          0.07484242851587965,
          0.07472140169670337,
          0.07459591124034294,
          0.07446610558789607,
          0.07433213305607192,
          0.07419414175285596,
          0.07405227949784447,
          0.07390669374725027,
          0.07375753152354704,
          0.07360493934970815,
          0.07344906318797205,
          0.07329004838304355,
          0.0731280396096258,
          0.0729631808241588,
          0.07279561522061768,
          0.07262548519021517,
          0.07245293228483064,
          0.0722780971839773,
          0.07210111966510523,
          0.07192213857702405,
          0.07174129181622173,
          0.07155871630584296,
          0.07137454797708451,
          0.07118892175275907,
          0.07100197153276906,
          0.0708138301812354,
          0.07062462951501679,
          0.07043450029335695,
          0.07024357220839804,
          0.07005197387629959,
          0.06985983282870283,
          0.06966727550428917,
          0.069474427240184,
          0.0692814122629632,
          0.06908835367903152,
          0.06889537346414762,
          0.06870259245188196,
          0.06851013032080636,
          0.06831810558022408,
          0.06812663555426542,
          0.06793583636418458,
          0.06774582290871042,
          0.06755670884232098,
          0.06736860655132074,
          0.06718162712762724,
          0.06699588034017878,
          0.06681147460390126,
          0.06662851694618514,
          0.06644711297084427,
          0.06626736681954122,
          0.06608938113068857,
          0.0659132569958473,
          0.06573909391366423,
          0.0655669897414068,
          0.06539704064417128,
          0.06522934104185463,
          0.0650639835540003,
          0.0649010589426408,
          0.06474065605327536,
          0.06458286175413555,
          0.06442776087390689,
          0.06427543613808347,
          0.06412596810414757,
          0.06397943509577776,
          0.06383591313629414,
          0.06369547588156636,
          0.06355819455260917,
          0.06342413786810498,
          0.06329337197709385,
          0.06316596039207871,
          0.06304196392279565,
          0.0629214406109036,
          0.06280444566584702,
          0.062691031402148,
          0.06258124717838118,
          0.062475139338084414,
          0.062372751152854435,
          0.06227412276787318,
          0.062179291150105384,
          0.062088290039400584,
          0.06200114990272733,
          0.061917897891757945,
          0.0618385578040143,
          0.061763150047771914,
          0.061691691610914375,
          0.06162419603391227,
          0.06156067338709253,
          0.06150113025234958,
          0.061445569709435106,
          0.061393991326950434,
          0.061346391158148425,
          0.06130276174163959,
          0.06126309210707634,
          0.06122736778587875,
          0.061195570827044174,
          0.06116767981806871,
          0.06114366991099118,
          0.061123512853551394,
          0.06110717702544324,
          0.061094627479616526,
          0.061085825988576016,
          0.06108073109560005,
          0.061079298170790296,
          0.061081479471845855,
          0.061087224209440766,
          0.06109647861706608,
          0.061109186025187855,
          0.06112528693955143,
          0.06114471912345648,
          0.061167417683807776,
          0.061193315160739524,
          0.06122234162059651,
          0.061254424752047065,
          0.06128948996509132,
          0.06132746049272148,
          0.06136825749498219,
          0.061411800165169894,
          0.061458005837911334,
          0.06150679009884587,
          0.06155806689564453,
          0.06161174865008499,
          0.061667746370908966,
          0.06172596976718137,
          0.061786327361876156,
          0.0618487266054112,
          0.06191307398886045,
          0.0619792751565732,
          0.06204723501793647,
          0.062116857858020826,
          0.06218804744685814,
          0.062260707147105944,
          0.06233474001986332,
          0.062410048928411226,
          0.06248653663966068,
          0.0625641059231042,
          0.06264265964707742,
          0.0627221008721481,
          0.06280233294146771,
          0.06288325956792774,
          0.06296478491798467,
          0.06304681369202454,
          0.06312925120115977,
          0.06321200344036088,
          0.06329497715784478,
          0.06337807992065543,
          0.06346122017638868,
          0.06354430731102914,
          0.0636272517028827,
          0.0637099647726035,
          0.06379235902933039,
          0.06387434811296291,
          0.06395584683262118,
          0.06403677120134899,
          0.0641170384671342,
          0.06419656714033246,
          0.06427527701759567,
          0.06435308920241481,
          0.06442992612240472,
          0.06450571154346318,
          0.06458037058095092,
          0.0646538297080456,
          0.06472601676143536,
          0.06479686094452014,
          0.06486629282830056,
          0.06493424435013558,
          0.06500064881055924,
          0.06506544086834713,
          0.06512855653402841,
          0.06518993316203969,
          0.06524950944171959,
          0.0653072253873405,
          0.06536302232737676,
          0.06541684289320074,
          0.0654686310074022,
          0.06551833187191727,
          0.06556589195615067,
          0.06561125898526998,
          0.06565438192884275,
          0.06569521098998077,
          0.06573369759514916,
          0.06576979438478586,
          0.06580345520487366,
          0.06583463509958944,
          0.06586329030515192,
          0.06588937824497473,
          0.06591285752622,
          0.0659336879378379,
          0.06595183045016399,
          0.06596724721613398,
          0.06597990157416571,
          0.06598975805273924,
          0.06599678237670156,
          0.06600094147530226,
          0.06600220349195883,
          0.06600053779573428,
          0.06599591499449983,
          0.06598830694974177,
          0.0659776867929595,
          0.06596402894359117,
          0.06594730912839095,
          0.06592750440217121,
          0.0659045931698132,
          0.06587855520943872,
          0.06584937169662652,
          0.06581702522954837,
          0.06578149985489061,
          0.06574278109442028,
          0.06570085597204724,
          0.06565571304122769,
          0.06560734241254877,
          0.06555573578132803,
          0.06550088645505911,
          0.06544278938053069,
          0.06538144117044084,
          0.06531684012933081,
          0.06524898627865729,
          0.06517788138082406,
          0.06510352896199327,
          0.06502593433349463,
          0.06494510461165999,
          0.06486104873590191,
          0.06477377748486907,
          0.06468330349050577,
          0.06458964124985261,
          0.06449280713442834,
          0.06439281939703745,
          0.06428969817585557,
          0.06418346549565093,
          0.06407414526600524,
          0.06396176327640866,
          0.06384634718810733,
          0.063727926522593,
          0.06360653264663342,
          0.06348219875374822,
          0.0633549598420485,
          0.0632248526883655,
          0.06309191581860439,
          0.06295618947427126,
          0.06281771557512918,
          0.0626765376779522,
          0.06253270093135657,
          0.062386252026699535,
          0.06223723914504654,
          0.062085711900221364,
          0.06193172127796149,
          0.06177531957121603,
          0.06161656031163303,
          0.06145549819729443,
          0.06129218901676914,
          0.061126689569565594,
          0.06095905758307621,
          0.060789351626118225,
          0.0606176310191848,
          0.06044395574153301,
          0.06026838633524413,
          0.0600909838064049,
          0.05991180952356412,
          0.0597309251136353,
          0.059548392355419213,
          0.05936427307093507,
          0.05917862901475513,
          0.05899152176154772,
          0.058803012592041556,
          0.05861316237763364,
          0.058422031463868686,
          0.05822967955302841,
          0.058036165586072885,
          0.05784154762418477,
          0.05764588273017364,
          0.05744922685000079,
          0.05725163469469287,
          0.05705315962291554,
          0.05685385352448302,
          0.05665376670508278,
          0.05645294777249754,
          0.056251443524608924,
          0.05604929883946945,
          0.05584655656772891,
          0.05564325742770431,
          0.05543943990337931,
          0.055235140145620226,
          0.05503039187689391,
          0.05482522629976728,
          0.05461967200947126,
          0.054413754910801505,
          0.054207498139627774,
          0.054000921989277244,
          0.053794043842050616,
          0.05358687810612317,
          0.05337943615807512,
          0.05317172629128742,
          0.052963753670430144,
          0.05275552029225823,
          0.05254702495292281,
          0.05233826322199038,
          0.05212922742335274,
          0.051919906623195365,
          0.05171028662518032,
          0.05150034997298338,
          0.051290075960310565,
          0.05107944064850363,
          0.05086841689182725,
          0.05065697437051405,
          0.05044507963162424,
          0.05023269613776213,
          0.05001978432366772,
          0.04980630166068874,
          0.04959220272911235,
          0.04937743929832257,
          0.04916196041472244,
          0.04894571249734604,
          0.04872863944105948,
          0.04851068272723224,
          0.048291781541739236,
          0.04807187290013043,
          0.04785089177978787,
          0.0476287712588662,
          0.047405442661792835,
          0.04718083571108495,
          0.04695487868521822,
          0.04672749858226444,
          0.04649862128899442,
          0.046268171755125126,
          0.04603607417237063,
          0.045802252157939254,
          0.045566628942103664,
          0.04532912755945198,
          0.04508967104341536,
          0.044848182623652026,
          0.04460458592585387,
          0.04435880517352973,
          0.04411076539130988,
          0.043860392609302364,
          0.04360761406802678,
          0.04335235842344036,
          0.043094555951567075,
          0.04283413875223332,
          0.04257104095141122,
          0.042305198901667916,
          0.04203655138021701,
          0.04176503978407144,
          0.04149060832179534,
          0.04121320420135914,
          0.04093277781360422,
          0.04064928291083238,
          0.0403626767800397,
          0.040072920410328186,
          0.03977997865403417,
          0.03948382038112893,
          0.039184418626458155,
          0.038881750729402406,
          0.03857579846555705,
          0.03826654817004849,
          0.03795399085212083,
          0.03763812230064959,
          0.037318943180257795,
          0.036996459117734685,
          0.03667068077847937,
          0.03634162393271677,
          0.03600930951125837,
          0.03567376365060703,
          0.03533501772723274,
          0.034993108380871614,
          0.034648077526731845,
          0.03429997235651797,
          0.0339488453282121,
          0.033594754144585105,
          0.03323776172043582,
          0.03287793613858873,
          0.03251535059471112,
          0.0321500833310391,
          0.03178221755913319,
          0.03141184137181239,
          0.031039047644447048,
          0.03066393392581636,
          0.030286602318768237,
          0.02990715935094431,
          0.02952571583586101,
          0.02914238672466274,
          0.02875729094888938,
          0.028370551254623965,
          0.02798229402840913,
          0.02759264911534352,
          0.02720174962978953,
          0.02680973175914358,
          0.026416734561136954,
          0.026022899755154184,
          0.025628371508068168,
          0.025233296215107365
         ],
         "yaxis": "y"
        },
        {
         "legendgroup": "mpg",
         "marker": {
          "color": "rgb(31, 119, 180)",
          "symbol": "line-ns-open"
         },
         "mode": "markers",
         "name": "mpg",
         "showlegend": false,
         "type": "scatter",
         "x": [
          18,
          18,
          16,
          17,
          24,
          22,
          18,
          21,
          27,
          26,
          25,
          24,
          25,
          26,
          21,
          27,
          28,
          25,
          25,
          19,
          16,
          17,
          19,
          18,
          18,
          22,
          19,
          18,
          23,
          28,
          30,
          30,
          31,
          27,
          26,
          24,
          25,
          23,
          20,
          21,
          17,
          19,
          18,
          22,
          21,
          26,
          22,
          28,
          23,
          28,
          27,
          18,
          16,
          18,
          18,
          23,
          26,
          18,
          20,
          21,
          22,
          18,
          19,
          21,
          26,
          16,
          29,
          24,
          20,
          19,
          24,
          20,
          20,
          21,
          19,
          31,
          26,
          25,
          16,
          16,
          18,
          16,
          29,
          26,
          26,
          31,
          28,
          24,
          26,
          24,
          26,
          31,
          19,
          18,
          16,
          16,
          17,
          16,
          18,
          21,
          20,
          29,
          23,
          20,
          23,
          24,
          25,
          24,
          18,
          29,
          19,
          23,
          23,
          22,
          25,
          28,
          25,
          25,
          26,
          27,
          17.5,
          16,
          22,
          22,
          24,
          22.5,
          29,
          24.5,
          29,
          20,
          18,
          18.5,
          17.5,
          29.5,
          28,
          26.5,
          20,
          19,
          19,
          16.5,
          16.5,
          30,
          25.5,
          17.5,
          17,
          17.5,
          20.5,
          19,
          18.5,
          16,
          16,
          29,
          24.5,
          26,
          25.5,
          30.5,
          30,
          30.5,
          22,
          21.5,
          21.5,
          19.9,
          19.4,
          20.2,
          19.2,
          20.5,
          20.2,
          25.1,
          20.5,
          19.4,
          20.6,
          20.8,
          18.6,
          18.1,
          19.2,
          17.7,
          18.1,
          17.5,
          30,
          27.5,
          27.2,
          30.9,
          21.1,
          23.2,
          23.8,
          23.9,
          20.3,
          17,
          21.6,
          16.2,
          29.5,
          21.5,
          19.8,
          22.3,
          20.2,
          20.6,
          17,
          17.6,
          16.5,
          18.2,
          16.9,
          19.2,
          18.5,
          27.4,
          25.4,
          23,
          27.2,
          23.9,
          28.4,
          28.8,
          26.8,
          28,
          26.4,
          24.3,
          19.1,
          29.8,
          31.3,
          27.9,
          30,
          29.8,
          23.7,
          23.6,
          27.2,
          26.6,
          25.8,
          23.5,
          30,
          29.9,
          28.1,
          30.7,
          25.4,
          24.2,
          22.4,
          26.6,
          20.2,
          17.6,
          28,
          27,
          31,
          29,
          27,
          24,
          23,
          31,
          25,
          26,
          22,
          27,
          27,
          28,
          31
         ],
         "xaxis": "x",
         "y": [
          "mpg",
          "mpg",
          "mpg",
          "mpg",
          "mpg",
          "mpg",
          "mpg",
          "mpg",
          "mpg",
          "mpg",
          "mpg",
          "mpg",
          "mpg",
          "mpg",
          "mpg",
          "mpg",
          "mpg",
          "mpg",
          "mpg",
          "mpg",
          "mpg",
          "mpg",
          "mpg",
          "mpg",
          "mpg",
          "mpg",
          "mpg",
          "mpg",
          "mpg",
          "mpg",
          "mpg",
          "mpg",
          "mpg",
          "mpg",
          "mpg",
          "mpg",
          "mpg",
          "mpg",
          "mpg",
          "mpg",
          "mpg",
          "mpg",
          "mpg",
          "mpg",
          "mpg",
          "mpg",
          "mpg",
          "mpg",
          "mpg",
          "mpg",
          "mpg",
          "mpg",
          "mpg",
          "mpg",
          "mpg",
          "mpg",
          "mpg",
          "mpg",
          "mpg",
          "mpg",
          "mpg",
          "mpg",
          "mpg",
          "mpg",
          "mpg",
          "mpg",
          "mpg",
          "mpg",
          "mpg",
          "mpg",
          "mpg",
          "mpg",
          "mpg",
          "mpg",
          "mpg",
          "mpg",
          "mpg",
          "mpg",
          "mpg",
          "mpg",
          "mpg",
          "mpg",
          "mpg",
          "mpg",
          "mpg",
          "mpg",
          "mpg",
          "mpg",
          "mpg",
          "mpg",
          "mpg",
          "mpg",
          "mpg",
          "mpg",
          "mpg",
          "mpg",
          "mpg",
          "mpg",
          "mpg",
          "mpg",
          "mpg",
          "mpg",
          "mpg",
          "mpg",
          "mpg",
          "mpg",
          "mpg",
          "mpg",
          "mpg",
          "mpg",
          "mpg",
          "mpg",
          "mpg",
          "mpg",
          "mpg",
          "mpg",
          "mpg",
          "mpg",
          "mpg",
          "mpg",
          "mpg",
          "mpg",
          "mpg",
          "mpg",
          "mpg",
          "mpg",
          "mpg",
          "mpg",
          "mpg",
          "mpg",
          "mpg",
          "mpg",
          "mpg",
          "mpg",
          "mpg",
          "mpg",
          "mpg",
          "mpg",
          "mpg",
          "mpg",
          "mpg",
          "mpg",
          "mpg",
          "mpg",
          "mpg",
          "mpg",
          "mpg",
          "mpg",
          "mpg",
          "mpg",
          "mpg",
          "mpg",
          "mpg",
          "mpg",
          "mpg",
          "mpg",
          "mpg",
          "mpg",
          "mpg",
          "mpg",
          "mpg",
          "mpg",
          "mpg",
          "mpg",
          "mpg",
          "mpg",
          "mpg",
          "mpg",
          "mpg",
          "mpg",
          "mpg",
          "mpg",
          "mpg",
          "mpg",
          "mpg",
          "mpg",
          "mpg",
          "mpg",
          "mpg",
          "mpg",
          "mpg",
          "mpg",
          "mpg",
          "mpg",
          "mpg",
          "mpg",
          "mpg",
          "mpg",
          "mpg",
          "mpg",
          "mpg",
          "mpg",
          "mpg",
          "mpg",
          "mpg",
          "mpg",
          "mpg",
          "mpg",
          "mpg",
          "mpg",
          "mpg",
          "mpg",
          "mpg",
          "mpg",
          "mpg",
          "mpg",
          "mpg",
          "mpg",
          "mpg",
          "mpg",
          "mpg",
          "mpg",
          "mpg",
          "mpg",
          "mpg",
          "mpg",
          "mpg",
          "mpg",
          "mpg",
          "mpg",
          "mpg",
          "mpg",
          "mpg",
          "mpg",
          "mpg",
          "mpg",
          "mpg",
          "mpg",
          "mpg",
          "mpg",
          "mpg",
          "mpg",
          "mpg",
          "mpg",
          "mpg",
          "mpg",
          "mpg",
          "mpg",
          "mpg",
          "mpg",
          "mpg",
          "mpg",
          "mpg",
          "mpg",
          "mpg",
          "mpg",
          "mpg",
          "mpg",
          "mpg",
          "mpg",
          "mpg"
         ],
         "yaxis": "y2"
        }
       ],
       "layout": {
        "barmode": "overlay",
        "hovermode": "closest",
        "legend": {
         "traceorder": "reversed"
        },
        "template": {
         "data": {
          "bar": [
           {
            "error_x": {
             "color": "#2a3f5f"
            },
            "error_y": {
             "color": "#2a3f5f"
            },
            "marker": {
             "line": {
              "color": "#E5ECF6",
              "width": 0.5
             },
             "pattern": {
              "fillmode": "overlay",
              "size": 10,
              "solidity": 0.2
             }
            },
            "type": "bar"
           }
          ],
          "barpolar": [
           {
            "marker": {
             "line": {
              "color": "#E5ECF6",
              "width": 0.5
             },
             "pattern": {
              "fillmode": "overlay",
              "size": 10,
              "solidity": 0.2
             }
            },
            "type": "barpolar"
           }
          ],
          "carpet": [
           {
            "aaxis": {
             "endlinecolor": "#2a3f5f",
             "gridcolor": "white",
             "linecolor": "white",
             "minorgridcolor": "white",
             "startlinecolor": "#2a3f5f"
            },
            "baxis": {
             "endlinecolor": "#2a3f5f",
             "gridcolor": "white",
             "linecolor": "white",
             "minorgridcolor": "white",
             "startlinecolor": "#2a3f5f"
            },
            "type": "carpet"
           }
          ],
          "choropleth": [
           {
            "colorbar": {
             "outlinewidth": 0,
             "ticks": ""
            },
            "type": "choropleth"
           }
          ],
          "contour": [
           {
            "colorbar": {
             "outlinewidth": 0,
             "ticks": ""
            },
            "colorscale": [
             [
              0,
              "#0d0887"
             ],
             [
              0.1111111111111111,
              "#46039f"
             ],
             [
              0.2222222222222222,
              "#7201a8"
             ],
             [
              0.3333333333333333,
              "#9c179e"
             ],
             [
              0.4444444444444444,
              "#bd3786"
             ],
             [
              0.5555555555555556,
              "#d8576b"
             ],
             [
              0.6666666666666666,
              "#ed7953"
             ],
             [
              0.7777777777777778,
              "#fb9f3a"
             ],
             [
              0.8888888888888888,
              "#fdca26"
             ],
             [
              1,
              "#f0f921"
             ]
            ],
            "type": "contour"
           }
          ],
          "contourcarpet": [
           {
            "colorbar": {
             "outlinewidth": 0,
             "ticks": ""
            },
            "type": "contourcarpet"
           }
          ],
          "heatmap": [
           {
            "colorbar": {
             "outlinewidth": 0,
             "ticks": ""
            },
            "colorscale": [
             [
              0,
              "#0d0887"
             ],
             [
              0.1111111111111111,
              "#46039f"
             ],
             [
              0.2222222222222222,
              "#7201a8"
             ],
             [
              0.3333333333333333,
              "#9c179e"
             ],
             [
              0.4444444444444444,
              "#bd3786"
             ],
             [
              0.5555555555555556,
              "#d8576b"
             ],
             [
              0.6666666666666666,
              "#ed7953"
             ],
             [
              0.7777777777777778,
              "#fb9f3a"
             ],
             [
              0.8888888888888888,
              "#fdca26"
             ],
             [
              1,
              "#f0f921"
             ]
            ],
            "type": "heatmap"
           }
          ],
          "heatmapgl": [
           {
            "colorbar": {
             "outlinewidth": 0,
             "ticks": ""
            },
            "colorscale": [
             [
              0,
              "#0d0887"
             ],
             [
              0.1111111111111111,
              "#46039f"
             ],
             [
              0.2222222222222222,
              "#7201a8"
             ],
             [
              0.3333333333333333,
              "#9c179e"
             ],
             [
              0.4444444444444444,
              "#bd3786"
             ],
             [
              0.5555555555555556,
              "#d8576b"
             ],
             [
              0.6666666666666666,
              "#ed7953"
             ],
             [
              0.7777777777777778,
              "#fb9f3a"
             ],
             [
              0.8888888888888888,
              "#fdca26"
             ],
             [
              1,
              "#f0f921"
             ]
            ],
            "type": "heatmapgl"
           }
          ],
          "histogram": [
           {
            "marker": {
             "pattern": {
              "fillmode": "overlay",
              "size": 10,
              "solidity": 0.2
             }
            },
            "type": "histogram"
           }
          ],
          "histogram2d": [
           {
            "colorbar": {
             "outlinewidth": 0,
             "ticks": ""
            },
            "colorscale": [
             [
              0,
              "#0d0887"
             ],
             [
              0.1111111111111111,
              "#46039f"
             ],
             [
              0.2222222222222222,
              "#7201a8"
             ],
             [
              0.3333333333333333,
              "#9c179e"
             ],
             [
              0.4444444444444444,
              "#bd3786"
             ],
             [
              0.5555555555555556,
              "#d8576b"
             ],
             [
              0.6666666666666666,
              "#ed7953"
             ],
             [
              0.7777777777777778,
              "#fb9f3a"
             ],
             [
              0.8888888888888888,
              "#fdca26"
             ],
             [
              1,
              "#f0f921"
             ]
            ],
            "type": "histogram2d"
           }
          ],
          "histogram2dcontour": [
           {
            "colorbar": {
             "outlinewidth": 0,
             "ticks": ""
            },
            "colorscale": [
             [
              0,
              "#0d0887"
             ],
             [
              0.1111111111111111,
              "#46039f"
             ],
             [
              0.2222222222222222,
              "#7201a8"
             ],
             [
              0.3333333333333333,
              "#9c179e"
             ],
             [
              0.4444444444444444,
              "#bd3786"
             ],
             [
              0.5555555555555556,
              "#d8576b"
             ],
             [
              0.6666666666666666,
              "#ed7953"
             ],
             [
              0.7777777777777778,
              "#fb9f3a"
             ],
             [
              0.8888888888888888,
              "#fdca26"
             ],
             [
              1,
              "#f0f921"
             ]
            ],
            "type": "histogram2dcontour"
           }
          ],
          "mesh3d": [
           {
            "colorbar": {
             "outlinewidth": 0,
             "ticks": ""
            },
            "type": "mesh3d"
           }
          ],
          "parcoords": [
           {
            "line": {
             "colorbar": {
              "outlinewidth": 0,
              "ticks": ""
             }
            },
            "type": "parcoords"
           }
          ],
          "pie": [
           {
            "automargin": true,
            "type": "pie"
           }
          ],
          "scatter": [
           {
            "fillpattern": {
             "fillmode": "overlay",
             "size": 10,
             "solidity": 0.2
            },
            "type": "scatter"
           }
          ],
          "scatter3d": [
           {
            "line": {
             "colorbar": {
              "outlinewidth": 0,
              "ticks": ""
             }
            },
            "marker": {
             "colorbar": {
              "outlinewidth": 0,
              "ticks": ""
             }
            },
            "type": "scatter3d"
           }
          ],
          "scattercarpet": [
           {
            "marker": {
             "colorbar": {
              "outlinewidth": 0,
              "ticks": ""
             }
            },
            "type": "scattercarpet"
           }
          ],
          "scattergeo": [
           {
            "marker": {
             "colorbar": {
              "outlinewidth": 0,
              "ticks": ""
             }
            },
            "type": "scattergeo"
           }
          ],
          "scattergl": [
           {
            "marker": {
             "colorbar": {
              "outlinewidth": 0,
              "ticks": ""
             }
            },
            "type": "scattergl"
           }
          ],
          "scattermapbox": [
           {
            "marker": {
             "colorbar": {
              "outlinewidth": 0,
              "ticks": ""
             }
            },
            "type": "scattermapbox"
           }
          ],
          "scatterpolar": [
           {
            "marker": {
             "colorbar": {
              "outlinewidth": 0,
              "ticks": ""
             }
            },
            "type": "scatterpolar"
           }
          ],
          "scatterpolargl": [
           {
            "marker": {
             "colorbar": {
              "outlinewidth": 0,
              "ticks": ""
             }
            },
            "type": "scatterpolargl"
           }
          ],
          "scatterternary": [
           {
            "marker": {
             "colorbar": {
              "outlinewidth": 0,
              "ticks": ""
             }
            },
            "type": "scatterternary"
           }
          ],
          "surface": [
           {
            "colorbar": {
             "outlinewidth": 0,
             "ticks": ""
            },
            "colorscale": [
             [
              0,
              "#0d0887"
             ],
             [
              0.1111111111111111,
              "#46039f"
             ],
             [
              0.2222222222222222,
              "#7201a8"
             ],
             [
              0.3333333333333333,
              "#9c179e"
             ],
             [
              0.4444444444444444,
              "#bd3786"
             ],
             [
              0.5555555555555556,
              "#d8576b"
             ],
             [
              0.6666666666666666,
              "#ed7953"
             ],
             [
              0.7777777777777778,
              "#fb9f3a"
             ],
             [
              0.8888888888888888,
              "#fdca26"
             ],
             [
              1,
              "#f0f921"
             ]
            ],
            "type": "surface"
           }
          ],
          "table": [
           {
            "cells": {
             "fill": {
              "color": "#EBF0F8"
             },
             "line": {
              "color": "white"
             }
            },
            "header": {
             "fill": {
              "color": "#C8D4E3"
             },
             "line": {
              "color": "white"
             }
            },
            "type": "table"
           }
          ]
         },
         "layout": {
          "annotationdefaults": {
           "arrowcolor": "#2a3f5f",
           "arrowhead": 0,
           "arrowwidth": 1
          },
          "autotypenumbers": "strict",
          "coloraxis": {
           "colorbar": {
            "outlinewidth": 0,
            "ticks": ""
           }
          },
          "colorscale": {
           "diverging": [
            [
             0,
             "#8e0152"
            ],
            [
             0.1,
             "#c51b7d"
            ],
            [
             0.2,
             "#de77ae"
            ],
            [
             0.3,
             "#f1b6da"
            ],
            [
             0.4,
             "#fde0ef"
            ],
            [
             0.5,
             "#f7f7f7"
            ],
            [
             0.6,
             "#e6f5d0"
            ],
            [
             0.7,
             "#b8e186"
            ],
            [
             0.8,
             "#7fbc41"
            ],
            [
             0.9,
             "#4d9221"
            ],
            [
             1,
             "#276419"
            ]
           ],
           "sequential": [
            [
             0,
             "#0d0887"
            ],
            [
             0.1111111111111111,
             "#46039f"
            ],
            [
             0.2222222222222222,
             "#7201a8"
            ],
            [
             0.3333333333333333,
             "#9c179e"
            ],
            [
             0.4444444444444444,
             "#bd3786"
            ],
            [
             0.5555555555555556,
             "#d8576b"
            ],
            [
             0.6666666666666666,
             "#ed7953"
            ],
            [
             0.7777777777777778,
             "#fb9f3a"
            ],
            [
             0.8888888888888888,
             "#fdca26"
            ],
            [
             1,
             "#f0f921"
            ]
           ],
           "sequentialminus": [
            [
             0,
             "#0d0887"
            ],
            [
             0.1111111111111111,
             "#46039f"
            ],
            [
             0.2222222222222222,
             "#7201a8"
            ],
            [
             0.3333333333333333,
             "#9c179e"
            ],
            [
             0.4444444444444444,
             "#bd3786"
            ],
            [
             0.5555555555555556,
             "#d8576b"
            ],
            [
             0.6666666666666666,
             "#ed7953"
            ],
            [
             0.7777777777777778,
             "#fb9f3a"
            ],
            [
             0.8888888888888888,
             "#fdca26"
            ],
            [
             1,
             "#f0f921"
            ]
           ]
          },
          "colorway": [
           "#636efa",
           "#EF553B",
           "#00cc96",
           "#ab63fa",
           "#FFA15A",
           "#19d3f3",
           "#FF6692",
           "#B6E880",
           "#FF97FF",
           "#FECB52"
          ],
          "font": {
           "color": "#2a3f5f"
          },
          "geo": {
           "bgcolor": "white",
           "lakecolor": "white",
           "landcolor": "#E5ECF6",
           "showlakes": true,
           "showland": true,
           "subunitcolor": "white"
          },
          "hoverlabel": {
           "align": "left"
          },
          "hovermode": "closest",
          "mapbox": {
           "style": "light"
          },
          "paper_bgcolor": "white",
          "plot_bgcolor": "#E5ECF6",
          "polar": {
           "angularaxis": {
            "gridcolor": "white",
            "linecolor": "white",
            "ticks": ""
           },
           "bgcolor": "#E5ECF6",
           "radialaxis": {
            "gridcolor": "white",
            "linecolor": "white",
            "ticks": ""
           }
          },
          "scene": {
           "xaxis": {
            "backgroundcolor": "#E5ECF6",
            "gridcolor": "white",
            "gridwidth": 2,
            "linecolor": "white",
            "showbackground": true,
            "ticks": "",
            "zerolinecolor": "white"
           },
           "yaxis": {
            "backgroundcolor": "#E5ECF6",
            "gridcolor": "white",
            "gridwidth": 2,
            "linecolor": "white",
            "showbackground": true,
            "ticks": "",
            "zerolinecolor": "white"
           },
           "zaxis": {
            "backgroundcolor": "#E5ECF6",
            "gridcolor": "white",
            "gridwidth": 2,
            "linecolor": "white",
            "showbackground": true,
            "ticks": "",
            "zerolinecolor": "white"
           }
          },
          "shapedefaults": {
           "line": {
            "color": "#2a3f5f"
           }
          },
          "ternary": {
           "aaxis": {
            "gridcolor": "white",
            "linecolor": "white",
            "ticks": ""
           },
           "baxis": {
            "gridcolor": "white",
            "linecolor": "white",
            "ticks": ""
           },
           "bgcolor": "#E5ECF6",
           "caxis": {
            "gridcolor": "white",
            "linecolor": "white",
            "ticks": ""
           }
          },
          "title": {
           "x": 0.05
          },
          "xaxis": {
           "automargin": true,
           "gridcolor": "white",
           "linecolor": "white",
           "ticks": "",
           "title": {
            "standoff": 15
           },
           "zerolinecolor": "white",
           "zerolinewidth": 2
          },
          "yaxis": {
           "automargin": true,
           "gridcolor": "white",
           "linecolor": "white",
           "ticks": "",
           "title": {
            "standoff": 15
           },
           "zerolinecolor": "white",
           "zerolinewidth": 2
          }
         }
        },
        "xaxis": {
         "anchor": "y2",
         "domain": [
          0,
          1
         ],
         "zeroline": false
        },
        "yaxis": {
         "anchor": "free",
         "domain": [
          0.35,
          1
         ],
         "position": 0
        },
        "yaxis2": {
         "anchor": "x",
         "domain": [
          0,
          0.25
         ],
         "dtick": 1,
         "showticklabels": false
        }
       }
      }
     },
     "metadata": {},
     "output_type": "display_data"
    }
   ],
   "source": [
    "# Analysing mpg if we look at the plot we see that 46.6 needs to be dropped to remove outlier values using standard deviation\n",
    "remove_outliers(df, \"mpg\", 6)\n",
    "\n",
    "total_analysys(\"mpg\")"
   ]
  },
  {
   "cell_type": "markdown",
   "metadata": {},
   "source": [
    "# Dropping fields "
   ]
  },
  {
   "cell_type": "markdown",
   "metadata": {},
   "source": [
    "The fields that are not of value to the neural network to learn should be dropped in order to make sense of data to the network "
   ]
  },
  {
   "cell_type": "code",
   "execution_count": 54,
   "metadata": {},
   "outputs": [
    {
     "data": {
      "text/html": [
       "<div>\n",
       "<style scoped>\n",
       "    .dataframe tbody tr th:only-of-type {\n",
       "        vertical-align: middle;\n",
       "    }\n",
       "\n",
       "    .dataframe tbody tr th {\n",
       "        vertical-align: top;\n",
       "    }\n",
       "\n",
       "    .dataframe thead th {\n",
       "        text-align: right;\n",
       "    }\n",
       "</style>\n",
       "<table border=\"1\" class=\"dataframe\">\n",
       "  <thead>\n",
       "    <tr style=\"text-align: right;\">\n",
       "      <th></th>\n",
       "      <th>mpg</th>\n",
       "      <th>cylinders</th>\n",
       "      <th>displacement</th>\n",
       "      <th>...</th>\n",
       "      <th>acceleration</th>\n",
       "      <th>year</th>\n",
       "      <th>origin</th>\n",
       "    </tr>\n",
       "  </thead>\n",
       "  <tbody>\n",
       "    <tr>\n",
       "      <th>0</th>\n",
       "      <td>18.0</td>\n",
       "      <td>8</td>\n",
       "      <td>307.0</td>\n",
       "      <td>...</td>\n",
       "      <td>12.0</td>\n",
       "      <td>70</td>\n",
       "      <td>1</td>\n",
       "    </tr>\n",
       "    <tr>\n",
       "      <th>2</th>\n",
       "      <td>18.0</td>\n",
       "      <td>8</td>\n",
       "      <td>318.0</td>\n",
       "      <td>...</td>\n",
       "      <td>11.0</td>\n",
       "      <td>70</td>\n",
       "      <td>1</td>\n",
       "    </tr>\n",
       "    <tr>\n",
       "      <th>3</th>\n",
       "      <td>16.0</td>\n",
       "      <td>8</td>\n",
       "      <td>304.0</td>\n",
       "      <td>...</td>\n",
       "      <td>12.0</td>\n",
       "      <td>70</td>\n",
       "      <td>1</td>\n",
       "    </tr>\n",
       "    <tr>\n",
       "      <th>4</th>\n",
       "      <td>17.0</td>\n",
       "      <td>8</td>\n",
       "      <td>302.0</td>\n",
       "      <td>...</td>\n",
       "      <td>10.5</td>\n",
       "      <td>70</td>\n",
       "      <td>1</td>\n",
       "    </tr>\n",
       "    <tr>\n",
       "      <th>14</th>\n",
       "      <td>24.0</td>\n",
       "      <td>4</td>\n",
       "      <td>113.0</td>\n",
       "      <td>...</td>\n",
       "      <td>15.0</td>\n",
       "      <td>70</td>\n",
       "      <td>3</td>\n",
       "    </tr>\n",
       "  </tbody>\n",
       "</table>\n",
       "<p>5 rows × 8 columns</p>\n",
       "</div>"
      ],
      "text/plain": [
       "     mpg  cylinders  displacement  ...  acceleration  year  origin\n",
       "0   18.0          8         307.0  ...          12.0    70       1\n",
       "2   18.0          8         318.0  ...          11.0    70       1\n",
       "3   16.0          8         304.0  ...          12.0    70       1\n",
       "4   17.0          8         302.0  ...          10.5    70       1\n",
       "14  24.0          4         113.0  ...          15.0    70       3\n",
       "\n",
       "[5 rows x 8 columns]"
      ]
     },
     "execution_count": 54,
     "metadata": {},
     "output_type": "execute_result"
    }
   ],
   "source": [
    "df.drop(\"name\", axis=1, inplace=True)\n",
    "df.head()"
   ]
  },
  {
   "cell_type": "markdown",
   "metadata": {},
   "source": [
    "# Concatenating Rows and Columns"
   ]
  },
  {
   "cell_type": "markdown",
   "metadata": {},
   "source": [
    "Columns within the dataframe can be concatenated to form new dataframes.\n"
   ]
  },
  {
   "cell_type": "code",
   "execution_count": 62,
   "metadata": {},
   "outputs": [
    {
     "data": {
      "text/html": [
       "<div>\n",
       "<style scoped>\n",
       "    .dataframe tbody tr th:only-of-type {\n",
       "        vertical-align: middle;\n",
       "    }\n",
       "\n",
       "    .dataframe tbody tr th {\n",
       "        vertical-align: top;\n",
       "    }\n",
       "\n",
       "    .dataframe thead th {\n",
       "        text-align: right;\n",
       "    }\n",
       "</style>\n",
       "<table border=\"1\" class=\"dataframe\">\n",
       "  <thead>\n",
       "    <tr style=\"text-align: right;\">\n",
       "      <th></th>\n",
       "      <th>name</th>\n",
       "      <th>horsepower</th>\n",
       "    </tr>\n",
       "  </thead>\n",
       "  <tbody>\n",
       "    <tr>\n",
       "      <th>0</th>\n",
       "      <td>chevrolet chevelle malibu</td>\n",
       "      <td>130.0</td>\n",
       "    </tr>\n",
       "    <tr>\n",
       "      <th>1</th>\n",
       "      <td>buick skylark 320</td>\n",
       "      <td>165.0</td>\n",
       "    </tr>\n",
       "    <tr>\n",
       "      <th>2</th>\n",
       "      <td>plymouth satellite</td>\n",
       "      <td>150.0</td>\n",
       "    </tr>\n",
       "    <tr>\n",
       "      <th>3</th>\n",
       "      <td>amc rebel sst</td>\n",
       "      <td>150.0</td>\n",
       "    </tr>\n",
       "    <tr>\n",
       "      <th>4</th>\n",
       "      <td>ford torino</td>\n",
       "      <td>140.0</td>\n",
       "    </tr>\n",
       "    <tr>\n",
       "      <th>...</th>\n",
       "      <td>...</td>\n",
       "      <td>...</td>\n",
       "    </tr>\n",
       "    <tr>\n",
       "      <th>393</th>\n",
       "      <td>ford mustang gl</td>\n",
       "      <td>86.0</td>\n",
       "    </tr>\n",
       "    <tr>\n",
       "      <th>394</th>\n",
       "      <td>vw pickup</td>\n",
       "      <td>52.0</td>\n",
       "    </tr>\n",
       "    <tr>\n",
       "      <th>395</th>\n",
       "      <td>dodge rampage</td>\n",
       "      <td>84.0</td>\n",
       "    </tr>\n",
       "    <tr>\n",
       "      <th>396</th>\n",
       "      <td>ford ranger</td>\n",
       "      <td>79.0</td>\n",
       "    </tr>\n",
       "    <tr>\n",
       "      <th>397</th>\n",
       "      <td>chevy s-10</td>\n",
       "      <td>82.0</td>\n",
       "    </tr>\n",
       "  </tbody>\n",
       "</table>\n",
       "<p>398 rows × 2 columns</p>\n",
       "</div>"
      ],
      "text/plain": [
       "                          name  horsepower\n",
       "0    chevrolet chevelle malibu       130.0\n",
       "1            buick skylark 320       165.0\n",
       "2           plymouth satellite       150.0\n",
       "3                amc rebel sst       150.0\n",
       "4                  ford torino       140.0\n",
       "..                         ...         ...\n",
       "393            ford mustang gl        86.0\n",
       "394                  vw pickup        52.0\n",
       "395              dodge rampage        84.0\n",
       "396                ford ranger        79.0\n",
       "397                 chevy s-10        82.0\n",
       "\n",
       "[398 rows x 2 columns]"
      ]
     },
     "execution_count": 62,
     "metadata": {},
     "output_type": "execute_result"
    }
   ],
   "source": [
    "# Creating a new dataframe having name and horsepower\n",
    "\n",
    "df_temp = pd.read_csv(\"https://data.heatonresearch.com/data/t81-558/auto-mpg.csv\", na_values=[\"NA\", \"?\"])\n",
    "\n",
    "horsepower_df = df_temp[\"horsepower\"]\n",
    "name_df = df_temp[\"name\"]\n",
    "\n",
    "result_df = pd.concat([name_df, horsepower_df], axis=1)\n",
    "result_df\n",
    "# print(\"name col\", name_df)"
   ]
  },
  {
   "cell_type": "code",
   "execution_count": 64,
   "metadata": {},
   "outputs": [
    {
     "data": {
      "text/html": [
       "<div>\n",
       "<style scoped>\n",
       "    .dataframe tbody tr th:only-of-type {\n",
       "        vertical-align: middle;\n",
       "    }\n",
       "\n",
       "    .dataframe tbody tr th {\n",
       "        vertical-align: top;\n",
       "    }\n",
       "\n",
       "    .dataframe thead th {\n",
       "        text-align: right;\n",
       "    }\n",
       "</style>\n",
       "<table border=\"1\" class=\"dataframe\">\n",
       "  <thead>\n",
       "    <tr style=\"text-align: right;\">\n",
       "      <th></th>\n",
       "      <th>mpg</th>\n",
       "      <th>cylinders</th>\n",
       "      <th>displacement</th>\n",
       "      <th>...</th>\n",
       "      <th>year</th>\n",
       "      <th>origin</th>\n",
       "      <th>name</th>\n",
       "    </tr>\n",
       "  </thead>\n",
       "  <tbody>\n",
       "    <tr>\n",
       "      <th>0</th>\n",
       "      <td>18.0</td>\n",
       "      <td>8</td>\n",
       "      <td>307.0</td>\n",
       "      <td>...</td>\n",
       "      <td>70</td>\n",
       "      <td>1</td>\n",
       "      <td>chevrolet chevelle malibu</td>\n",
       "    </tr>\n",
       "    <tr>\n",
       "      <th>1</th>\n",
       "      <td>15.0</td>\n",
       "      <td>8</td>\n",
       "      <td>350.0</td>\n",
       "      <td>...</td>\n",
       "      <td>70</td>\n",
       "      <td>1</td>\n",
       "      <td>buick skylark 320</td>\n",
       "    </tr>\n",
       "    <tr>\n",
       "      <th>2</th>\n",
       "      <td>18.0</td>\n",
       "      <td>8</td>\n",
       "      <td>318.0</td>\n",
       "      <td>...</td>\n",
       "      <td>70</td>\n",
       "      <td>1</td>\n",
       "      <td>plymouth satellite</td>\n",
       "    </tr>\n",
       "    <tr>\n",
       "      <th>3</th>\n",
       "      <td>16.0</td>\n",
       "      <td>8</td>\n",
       "      <td>304.0</td>\n",
       "      <td>...</td>\n",
       "      <td>70</td>\n",
       "      <td>1</td>\n",
       "      <td>amc rebel sst</td>\n",
       "    </tr>\n",
       "    <tr>\n",
       "      <th>4</th>\n",
       "      <td>17.0</td>\n",
       "      <td>8</td>\n",
       "      <td>302.0</td>\n",
       "      <td>...</td>\n",
       "      <td>70</td>\n",
       "      <td>1</td>\n",
       "      <td>ford torino</td>\n",
       "    </tr>\n",
       "    <tr>\n",
       "      <th>...</th>\n",
       "      <td>...</td>\n",
       "      <td>...</td>\n",
       "      <td>...</td>\n",
       "      <td>...</td>\n",
       "      <td>...</td>\n",
       "      <td>...</td>\n",
       "      <td>...</td>\n",
       "    </tr>\n",
       "    <tr>\n",
       "      <th>393</th>\n",
       "      <td>27.0</td>\n",
       "      <td>4</td>\n",
       "      <td>140.0</td>\n",
       "      <td>...</td>\n",
       "      <td>82</td>\n",
       "      <td>1</td>\n",
       "      <td>ford mustang gl</td>\n",
       "    </tr>\n",
       "    <tr>\n",
       "      <th>394</th>\n",
       "      <td>44.0</td>\n",
       "      <td>4</td>\n",
       "      <td>97.0</td>\n",
       "      <td>...</td>\n",
       "      <td>82</td>\n",
       "      <td>2</td>\n",
       "      <td>vw pickup</td>\n",
       "    </tr>\n",
       "    <tr>\n",
       "      <th>395</th>\n",
       "      <td>32.0</td>\n",
       "      <td>4</td>\n",
       "      <td>135.0</td>\n",
       "      <td>...</td>\n",
       "      <td>82</td>\n",
       "      <td>1</td>\n",
       "      <td>dodge rampage</td>\n",
       "    </tr>\n",
       "    <tr>\n",
       "      <th>396</th>\n",
       "      <td>28.0</td>\n",
       "      <td>4</td>\n",
       "      <td>120.0</td>\n",
       "      <td>...</td>\n",
       "      <td>82</td>\n",
       "      <td>1</td>\n",
       "      <td>ford ranger</td>\n",
       "    </tr>\n",
       "    <tr>\n",
       "      <th>397</th>\n",
       "      <td>31.0</td>\n",
       "      <td>4</td>\n",
       "      <td>119.0</td>\n",
       "      <td>...</td>\n",
       "      <td>82</td>\n",
       "      <td>1</td>\n",
       "      <td>chevy s-10</td>\n",
       "    </tr>\n",
       "  </tbody>\n",
       "</table>\n",
       "<p>398 rows × 9 columns</p>\n",
       "</div>"
      ],
      "text/plain": [
       "      mpg  cylinders  displacement  ...  year  origin  \\\n",
       "0    18.0          8         307.0  ...    70       1   \n",
       "1    15.0          8         350.0  ...    70       1   \n",
       "2    18.0          8         318.0  ...    70       1   \n",
       "3    16.0          8         304.0  ...    70       1   \n",
       "4    17.0          8         302.0  ...    70       1   \n",
       "..    ...        ...           ...  ...   ...     ...   \n",
       "393  27.0          4         140.0  ...    82       1   \n",
       "394  44.0          4          97.0  ...    82       2   \n",
       "395  32.0          4         135.0  ...    82       1   \n",
       "396  28.0          4         120.0  ...    82       1   \n",
       "397  31.0          4         119.0  ...    82       1   \n",
       "\n",
       "                          name  \n",
       "0    chevrolet chevelle malibu  \n",
       "1            buick skylark 320  \n",
       "2           plymouth satellite  \n",
       "3                amc rebel sst  \n",
       "4                  ford torino  \n",
       "..                         ...  \n",
       "393            ford mustang gl  \n",
       "394                  vw pickup  \n",
       "395              dodge rampage  \n",
       "396                ford ranger  \n",
       "397                 chevy s-10  \n",
       "\n",
       "[398 rows x 9 columns]"
      ]
     },
     "execution_count": 64,
     "metadata": {},
     "output_type": "execute_result"
    }
   ],
   "source": [
    "df_temp"
   ]
  },
  {
   "cell_type": "code",
   "execution_count": 66,
   "metadata": {},
   "outputs": [
    {
     "data": {
      "text/html": [
       "<div>\n",
       "<style scoped>\n",
       "    .dataframe tbody tr th:only-of-type {\n",
       "        vertical-align: middle;\n",
       "    }\n",
       "\n",
       "    .dataframe tbody tr th {\n",
       "        vertical-align: top;\n",
       "    }\n",
       "\n",
       "    .dataframe thead th {\n",
       "        text-align: right;\n",
       "    }\n",
       "</style>\n",
       "<table border=\"1\" class=\"dataframe\">\n",
       "  <thead>\n",
       "    <tr style=\"text-align: right;\">\n",
       "      <th></th>\n",
       "      <th>mpg</th>\n",
       "      <th>cylinders</th>\n",
       "      <th>displacement</th>\n",
       "      <th>...</th>\n",
       "      <th>acceleration</th>\n",
       "      <th>year</th>\n",
       "      <th>origin</th>\n",
       "    </tr>\n",
       "  </thead>\n",
       "  <tbody>\n",
       "    <tr>\n",
       "      <th>0</th>\n",
       "      <td>18.0</td>\n",
       "      <td>8</td>\n",
       "      <td>307.0</td>\n",
       "      <td>...</td>\n",
       "      <td>12.0</td>\n",
       "      <td>70</td>\n",
       "      <td>1</td>\n",
       "    </tr>\n",
       "    <tr>\n",
       "      <th>2</th>\n",
       "      <td>18.0</td>\n",
       "      <td>8</td>\n",
       "      <td>318.0</td>\n",
       "      <td>...</td>\n",
       "      <td>11.0</td>\n",
       "      <td>70</td>\n",
       "      <td>1</td>\n",
       "    </tr>\n",
       "    <tr>\n",
       "      <th>396</th>\n",
       "      <td>28.0</td>\n",
       "      <td>4</td>\n",
       "      <td>120.0</td>\n",
       "      <td>...</td>\n",
       "      <td>18.6</td>\n",
       "      <td>82</td>\n",
       "      <td>1</td>\n",
       "    </tr>\n",
       "    <tr>\n",
       "      <th>397</th>\n",
       "      <td>31.0</td>\n",
       "      <td>4</td>\n",
       "      <td>119.0</td>\n",
       "      <td>...</td>\n",
       "      <td>19.4</td>\n",
       "      <td>82</td>\n",
       "      <td>1</td>\n",
       "    </tr>\n",
       "  </tbody>\n",
       "</table>\n",
       "<p>4 rows × 8 columns</p>\n",
       "</div>"
      ],
      "text/plain": [
       "      mpg  cylinders  displacement  ...  acceleration  year  origin\n",
       "0    18.0          8         307.0  ...          12.0    70       1\n",
       "2    18.0          8         318.0  ...          11.0    70       1\n",
       "396  28.0          4         120.0  ...          18.6    82       1\n",
       "397  31.0          4         119.0  ...          19.4    82       1\n",
       "\n",
       "[4 rows x 8 columns]"
      ]
     },
     "execution_count": 66,
     "metadata": {},
     "output_type": "execute_result"
    }
   ],
   "source": [
    "# selecting rows and making them together\n",
    "\n",
    "hor_concat_df = pd.concat([df[:2], df[-2:]], axis = 0)\n",
    "hor_concat_df"
   ]
  },
  {
   "cell_type": "markdown",
   "metadata": {},
   "source": [
    "# Prediction"
   ]
  },
  {
   "cell_type": "markdown",
   "metadata": {},
   "source": [
    "## Training\n"
   ]
  },
  {
   "cell_type": "markdown",
   "metadata": {},
   "source": [
    "We must evaluate a machine learning model based on its ability to predict values that it has never seen before. Because of this, we often divide the training data into a validation and training set. The machine learning model will learn from the training data but ultimately be evaluated based on the validation data.\n",
    "\n",
    "\n",
    "- Training Data - In Sample Data - The data that the neural network used to train.\n",
    "- Validation Data - Out of Sample Data - The data that the machine learning model is evaluated upon after it is fit to the training data.\n",
    "There are two effective means of dealing with training and validation data:\n",
    "\n",
    "Training/Validation Split - The program splits the data according to some ratio between a training and validation (hold-out) set. Typical rates are 80% training and 20% validation.\n",
    "K-Fold Cross Validation - The program splits the data into several folds and models. Because the program creates the same number of models as folds, the program can generate out-of-sample predictions for the entire dataset.\n",
    "The code below splits the MPG data into a training and validation set. The training set uses 80% of the data, and the validation set uses 20%. Figure 2.TRN-VAL shows how we train a model on 80% of the data and then validated against the remaining 20%.\n",
    "\n",
    "Figure 2.TRN-VAL: Training and Validation"
   ]
  },
  {
   "attachments": {
    "image.png": {
     "image/png": "[encoded data removed]"
    }
   },
   "cell_type": "markdown",
   "metadata": {},
   "source": [
    "![image.png](attachment:image.png)"
   ]
  },
  {
   "cell_type": "markdown",
   "metadata": {},
   "source": [
    "### Training Specific Data Pre- Processing steps"
   ]
  },
  {
   "cell_type": "markdown",
   "metadata": {},
   "source": [
    "- Shuffling data\n",
    "1. **Preventing Order Bias**: Training on inherent order can lead to biased learning (Time Series data, Sorted Categories). Shuffling ensures that model does not learn the order but rather the underlying patterns.\n",
    "2. **Ensuring IID Assumption**: ML models assume that data points are independantly and identically distributed(IID). Shuffling helps to meet this assumption by mixing the data points.\n",
    "3. **Improving Generalization**: Shuffling helps the model generalize better by exposing it to a more diverse set of examples in each training batch, reducing the risk of overfitting to a particular sequence of data.\n",
    "4. **Balanced Batches**: When using mini-batch gradient descent, shuffling ensures that each batch is representative of the entire dataset, leading to more stable and reliable gradient updates."
   ]
  },
  {
   "cell_type": "code",
   "execution_count": 81,
   "metadata": {},
   "outputs": [],
   "source": [
    "# Two ways to shuffle scikitlearn and numpy \n",
    "\n",
    "from sklearn.utils import shuffle\n",
    "\n",
    "df_shuffled = shuffle(df)\n",
    "\n",
    "# Using numpy \n",
    "\n",
    "# df = df.reindex(np.random.permutation(df.index))\n",
    "\n",
    "\n"
   ]
  },
  {
   "cell_type": "markdown",
   "metadata": {},
   "source": [
    "### Saving shuffled data to a file\n",
    "- Use CSV if you need interoperability, human readability, or if your data consists of simple data types.\n",
    "- Use Pickle if you need to save complex data types, require faster read/write performance, or want to minimize file size."
   ]
  },
  {
   "cell_type": "code",
   "execution_count": 83,
   "metadata": {},
   "outputs": [],
   "source": [
    "df_shuffled.to_pickle(r\"D:\\aiml_basics\\dataset\\autompg_shuffled_df.pkl\")"
   ]
  },
  {
   "cell_type": "markdown",
   "metadata": {},
   "source": [
    "### Splitting data into training and validation"
   ]
  },
  {
   "cell_type": "code",
   "execution_count": 85,
   "metadata": {},
   "outputs": [
    {
     "name": "stdout",
     "output_type": "stream",
     "text": [
      "training:  200 \n",
      "test_df: 51\n"
     ]
    }
   ],
   "source": [
    "# using scikit learn\n",
    "from sklearn.model_selection import train_test_split\n",
    "\n",
    "df_shuffled = pd.read_pickle(r\"D:\\aiml_basics\\dataset\\autompg_shuffled_df.pkl\")\n",
    "\n",
    "train_df, test_df = train_test_split(df_shuffled, test_size=0.2, random_state=12)\n",
    "\n",
    "print(\"training: \", len(train_df), \"\\ntest_df:\", len(test_df))\n",
    "\n",
    "\n",
    "# # Using pandas\n",
    "# mask = np.random.rand(len(df)) <0.8\n",
    "\n",
    "# train_df = pd.DataFrame(df[mask])\n",
    "\n",
    "# validation_df = pd.DataFrame(df[~mask])\n",
    "\n",
    "# print(f\"Training DF: {len(train_df)}\")\n",
    "# print(f\"Validation DF: {len(validation_df)}\")"
   ]
  },
  {
   "cell_type": "markdown",
   "metadata": {},
   "source": [
    "### Converting a dataframe to a matrix"
   ]
  },
  {
   "cell_type": "markdown",
   "metadata": {},
   "source": [
    "Neural Networks donot directly operate on Python data frames. A neural network requires a numeric matrix. The program uses a data frame's values property to convert the data into matrix"
   ]
  },
  {
   "cell_type": "code",
   "execution_count": 79,
   "metadata": {},
   "outputs": [
    {
     "data": {
      "text/plain": [
       "array([[ 31. ,   4. , 112. , ...,  16.2,  82. ,   1. ],\n",
       "       [ 20. ,   4. , 114. , ...,  14. ,  73. ,   2. ],\n",
       "       [ 16.9,   8. , 350. , ...,  14.9,  79. ,   1. ],\n",
       "       ...,\n",
       "       [ 25. ,   4. , 140. , ...,  17. ,  74. ,   1. ],\n",
       "       [ 30.5,   4. ,  98. , ...,  17. ,  77. ,   1. ],\n",
       "       [ 25.1,   4. , 140. , ...,  15.4,  78. ,   1. ]])"
      ]
     },
     "execution_count": 79,
     "metadata": {},
     "output_type": "execute_result"
    }
   ],
   "source": [
    "df.values"
   ]
  },
  {
   "cell_type": "markdown",
   "metadata": {},
   "source": [
    "### Training the model"
   ]
  },
  {
   "cell_type": "code",
   "execution_count": 91,
   "metadata": {},
   "outputs": [],
   "source": [
    "from sklearn.linear_model import LinearRegression\n",
    "from sklearn.metrics import mean_squared_error, r2_score\n",
    "from sklearn.preprocessing import StandardScaler\n",
    "from sklearn.model_selection import train_test_split\n",
    "\n",
    "\n",
    "df_shuffled = pd.read_pickle(r\"D:\\aiml_basics\\dataset\\autompg_shuffled_df.pkl\")\n",
    "\n",
    "X = df_shuffled.drop(columns=[\"mpg\"])\n",
    "y = df_shuffled[\"mpg\"]\n",
    "\n",
    "\n",
    "\n",
    "# train_X, test_x, train_Y, test_y = train_test_split(df_shuffled, test_size=0.2, random_state=42)\n",
    "\n",
    "# if there are any categorical values use this \n",
    "# X = pd.get_dummies(X, drop_first=True)\n",
    "\n",
    "scaler = StandardScaler()\n",
    "X_scaled = scaler.fit_transform(X)\n",
    "\n",
    "train_X, test_x, train_Y, test_y = train_test_split(X_scaled, y, test_size=0.2, random_state=42, shuffle=True)\n",
    "\n",
    "\n"
   ]
  },
  {
   "cell_type": "code",
   "execution_count": 92,
   "metadata": {},
   "outputs": [
    {
     "data": {
      "text/html": [
       "<style>#sk-container-id-2 {\n",
       "  /* Definition of color scheme common for light and dark mode */\n",
       "  --sklearn-color-text: black;\n",
       "  --sklearn-color-line: gray;\n",
       "  /* Definition of color scheme for unfitted estimators */\n",
       "  --sklearn-color-unfitted-level-0: #fff5e6;\n",
       "  --sklearn-color-unfitted-level-1: #f6e4d2;\n",
       "  --sklearn-color-unfitted-level-2: #ffe0b3;\n",
       "  --sklearn-color-unfitted-level-3: chocolate;\n",
       "  /* Definition of color scheme for fitted estimators */\n",
       "  --sklearn-color-fitted-level-0: #f0f8ff;\n",
       "  --sklearn-color-fitted-level-1: #d4ebff;\n",
       "  --sklearn-color-fitted-level-2: #b3dbfd;\n",
       "  --sklearn-color-fitted-level-3: cornflowerblue;\n",
       "\n",
       "  /* Specific color for light theme */\n",
       "  --sklearn-color-text-on-default-background: var(--sg-text-color, var(--theme-code-foreground, var(--jp-content-font-color1, black)));\n",
       "  --sklearn-color-background: var(--sg-background-color, var(--theme-background, var(--jp-layout-color0, white)));\n",
       "  --sklearn-color-border-box: var(--sg-text-color, var(--theme-code-foreground, var(--jp-content-font-color1, black)));\n",
       "  --sklearn-color-icon: #696969;\n",
       "\n",
       "  @media (prefers-color-scheme: dark) {\n",
       "    /* Redefinition of color scheme for dark theme */\n",
       "    --sklearn-color-text-on-default-background: var(--sg-text-color, var(--theme-code-foreground, var(--jp-content-font-color1, white)));\n",
       "    --sklearn-color-background: var(--sg-background-color, var(--theme-background, var(--jp-layout-color0, #111)));\n",
       "    --sklearn-color-border-box: var(--sg-text-color, var(--theme-code-foreground, var(--jp-content-font-color1, white)));\n",
       "    --sklearn-color-icon: #878787;\n",
       "  }\n",
       "}\n",
       "\n",
       "#sk-container-id-2 {\n",
       "  color: var(--sklearn-color-text);\n",
       "}\n",
       "\n",
       "#sk-container-id-2 pre {\n",
       "  padding: 0;\n",
       "}\n",
       "\n",
       "#sk-container-id-2 input.sk-hidden--visually {\n",
       "  border: 0;\n",
       "  clip: rect(1px 1px 1px 1px);\n",
       "  clip: rect(1px, 1px, 1px, 1px);\n",
       "  height: 1px;\n",
       "  margin: -1px;\n",
       "  overflow: hidden;\n",
       "  padding: 0;\n",
       "  position: absolute;\n",
       "  width: 1px;\n",
       "}\n",
       "\n",
       "#sk-container-id-2 div.sk-dashed-wrapped {\n",
       "  border: 1px dashed var(--sklearn-color-line);\n",
       "  margin: 0 0.4em 0.5em 0.4em;\n",
       "  box-sizing: border-box;\n",
       "  padding-bottom: 0.4em;\n",
       "  background-color: var(--sklearn-color-background);\n",
       "}\n",
       "\n",
       "#sk-container-id-2 div.sk-container {\n",
       "  /* jupyter's `normalize.less` sets `[hidden] { display: none; }`\n",
       "     but bootstrap.min.css set `[hidden] { display: none !important; }`\n",
       "     so we also need the `!important` here to be able to override the\n",
       "     default hidden behavior on the sphinx rendered scikit-learn.org.\n",
       "     See: https://github.com/scikit-learn/scikit-learn/issues/21755 */\n",
       "  display: inline-block !important;\n",
       "  position: relative;\n",
       "}\n",
       "\n",
       "#sk-container-id-2 div.sk-text-repr-fallback {\n",
       "  display: none;\n",
       "}\n",
       "\n",
       "div.sk-parallel-item,\n",
       "div.sk-serial,\n",
       "div.sk-item {\n",
       "  /* draw centered vertical line to link estimators */\n",
       "  background-image: linear-gradient(var(--sklearn-color-text-on-default-background), var(--sklearn-color-text-on-default-background));\n",
       "  background-size: 2px 100%;\n",
       "  background-repeat: no-repeat;\n",
       "  background-position: center center;\n",
       "}\n",
       "\n",
       "/* Parallel-specific style estimator block */\n",
       "\n",
       "#sk-container-id-2 div.sk-parallel-item::after {\n",
       "  content: \"\";\n",
       "  width: 100%;\n",
       "  border-bottom: 2px solid var(--sklearn-color-text-on-default-background);\n",
       "  flex-grow: 1;\n",
       "}\n",
       "\n",
       "#sk-container-id-2 div.sk-parallel {\n",
       "  display: flex;\n",
       "  align-items: stretch;\n",
       "  justify-content: center;\n",
       "  background-color: var(--sklearn-color-background);\n",
       "  position: relative;\n",
       "}\n",
       "\n",
       "#sk-container-id-2 div.sk-parallel-item {\n",
       "  display: flex;\n",
       "  flex-direction: column;\n",
       "}\n",
       "\n",
       "#sk-container-id-2 div.sk-parallel-item:first-child::after {\n",
       "  align-self: flex-end;\n",
       "  width: 50%;\n",
       "}\n",
       "\n",
       "#sk-container-id-2 div.sk-parallel-item:last-child::after {\n",
       "  align-self: flex-start;\n",
       "  width: 50%;\n",
       "}\n",
       "\n",
       "#sk-container-id-2 div.sk-parallel-item:only-child::after {\n",
       "  width: 0;\n",
       "}\n",
       "\n",
       "/* Serial-specific style estimator block */\n",
       "\n",
       "#sk-container-id-2 div.sk-serial {\n",
       "  display: flex;\n",
       "  flex-direction: column;\n",
       "  align-items: center;\n",
       "  background-color: var(--sklearn-color-background);\n",
       "  padding-right: 1em;\n",
       "  padding-left: 1em;\n",
       "}\n",
       "\n",
       "\n",
       "/* Toggleable style: style used for estimator/Pipeline/ColumnTransformer box that is\n",
       "clickable and can be expanded/collapsed.\n",
       "- Pipeline and ColumnTransformer use this feature and define the default style\n",
       "- Estimators will overwrite some part of the style using the `sk-estimator` class\n",
       "*/\n",
       "\n",
       "/* Pipeline and ColumnTransformer style (default) */\n",
       "\n",
       "#sk-container-id-2 div.sk-toggleable {\n",
       "  /* Default theme specific background. It is overwritten whether we have a\n",
       "  specific estimator or a Pipeline/ColumnTransformer */\n",
       "  background-color: var(--sklearn-color-background);\n",
       "}\n",
       "\n",
       "/* Toggleable label */\n",
       "#sk-container-id-2 label.sk-toggleable__label {\n",
       "  cursor: pointer;\n",
       "  display: block;\n",
       "  width: 100%;\n",
       "  margin-bottom: 0;\n",
       "  padding: 0.5em;\n",
       "  box-sizing: border-box;\n",
       "  text-align: center;\n",
       "}\n",
       "\n",
       "#sk-container-id-2 label.sk-toggleable__label-arrow:before {\n",
       "  /* Arrow on the left of the label */\n",
       "  content: \"▸\";\n",
       "  float: left;\n",
       "  margin-right: 0.25em;\n",
       "  color: var(--sklearn-color-icon);\n",
       "}\n",
       "\n",
       "#sk-container-id-2 label.sk-toggleable__label-arrow:hover:before {\n",
       "  color: var(--sklearn-color-text);\n",
       "}\n",
       "\n",
       "/* Toggleable content - dropdown */\n",
       "\n",
       "#sk-container-id-2 div.sk-toggleable__content {\n",
       "  max-height: 0;\n",
       "  max-width: 0;\n",
       "  overflow: hidden;\n",
       "  text-align: left;\n",
       "  /* unfitted */\n",
       "  background-color: var(--sklearn-color-unfitted-level-0);\n",
       "}\n",
       "\n",
       "#sk-container-id-2 div.sk-toggleable__content.fitted {\n",
       "  /* fitted */\n",
       "  background-color: var(--sklearn-color-fitted-level-0);\n",
       "}\n",
       "\n",
       "#sk-container-id-2 div.sk-toggleable__content pre {\n",
       "  margin: 0.2em;\n",
       "  border-radius: 0.25em;\n",
       "  color: var(--sklearn-color-text);\n",
       "  /* unfitted */\n",
       "  background-color: var(--sklearn-color-unfitted-level-0);\n",
       "}\n",
       "\n",
       "#sk-container-id-2 div.sk-toggleable__content.fitted pre {\n",
       "  /* unfitted */\n",
       "  background-color: var(--sklearn-color-fitted-level-0);\n",
       "}\n",
       "\n",
       "#sk-container-id-2 input.sk-toggleable__control:checked~div.sk-toggleable__content {\n",
       "  /* Expand drop-down */\n",
       "  max-height: 200px;\n",
       "  max-width: 100%;\n",
       "  overflow: auto;\n",
       "}\n",
       "\n",
       "#sk-container-id-2 input.sk-toggleable__control:checked~label.sk-toggleable__label-arrow:before {\n",
       "  content: \"▾\";\n",
       "}\n",
       "\n",
       "/* Pipeline/ColumnTransformer-specific style */\n",
       "\n",
       "#sk-container-id-2 div.sk-label input.sk-toggleable__control:checked~label.sk-toggleable__label {\n",
       "  color: var(--sklearn-color-text);\n",
       "  background-color: var(--sklearn-color-unfitted-level-2);\n",
       "}\n",
       "\n",
       "#sk-container-id-2 div.sk-label.fitted input.sk-toggleable__control:checked~label.sk-toggleable__label {\n",
       "  background-color: var(--sklearn-color-fitted-level-2);\n",
       "}\n",
       "\n",
       "/* Estimator-specific style */\n",
       "\n",
       "/* Colorize estimator box */\n",
       "#sk-container-id-2 div.sk-estimator input.sk-toggleable__control:checked~label.sk-toggleable__label {\n",
       "  /* unfitted */\n",
       "  background-color: var(--sklearn-color-unfitted-level-2);\n",
       "}\n",
       "\n",
       "#sk-container-id-2 div.sk-estimator.fitted input.sk-toggleable__control:checked~label.sk-toggleable__label {\n",
       "  /* fitted */\n",
       "  background-color: var(--sklearn-color-fitted-level-2);\n",
       "}\n",
       "\n",
       "#sk-container-id-2 div.sk-label label.sk-toggleable__label,\n",
       "#sk-container-id-2 div.sk-label label {\n",
       "  /* The background is the default theme color */\n",
       "  color: var(--sklearn-color-text-on-default-background);\n",
       "}\n",
       "\n",
       "/* On hover, darken the color of the background */\n",
       "#sk-container-id-2 div.sk-label:hover label.sk-toggleable__label {\n",
       "  color: var(--sklearn-color-text);\n",
       "  background-color: var(--sklearn-color-unfitted-level-2);\n",
       "}\n",
       "\n",
       "/* Label box, darken color on hover, fitted */\n",
       "#sk-container-id-2 div.sk-label.fitted:hover label.sk-toggleable__label.fitted {\n",
       "  color: var(--sklearn-color-text);\n",
       "  background-color: var(--sklearn-color-fitted-level-2);\n",
       "}\n",
       "\n",
       "/* Estimator label */\n",
       "\n",
       "#sk-container-id-2 div.sk-label label {\n",
       "  font-family: monospace;\n",
       "  font-weight: bold;\n",
       "  display: inline-block;\n",
       "  line-height: 1.2em;\n",
       "}\n",
       "\n",
       "#sk-container-id-2 div.sk-label-container {\n",
       "  text-align: center;\n",
       "}\n",
       "\n",
       "/* Estimator-specific */\n",
       "#sk-container-id-2 div.sk-estimator {\n",
       "  font-family: monospace;\n",
       "  border: 1px dotted var(--sklearn-color-border-box);\n",
       "  border-radius: 0.25em;\n",
       "  box-sizing: border-box;\n",
       "  margin-bottom: 0.5em;\n",
       "  /* unfitted */\n",
       "  background-color: var(--sklearn-color-unfitted-level-0);\n",
       "}\n",
       "\n",
       "#sk-container-id-2 div.sk-estimator.fitted {\n",
       "  /* fitted */\n",
       "  background-color: var(--sklearn-color-fitted-level-0);\n",
       "}\n",
       "\n",
       "/* on hover */\n",
       "#sk-container-id-2 div.sk-estimator:hover {\n",
       "  /* unfitted */\n",
       "  background-color: var(--sklearn-color-unfitted-level-2);\n",
       "}\n",
       "\n",
       "#sk-container-id-2 div.sk-estimator.fitted:hover {\n",
       "  /* fitted */\n",
       "  background-color: var(--sklearn-color-fitted-level-2);\n",
       "}\n",
       "\n",
       "/* Specification for estimator info (e.g. \"i\" and \"?\") */\n",
       "\n",
       "/* Common style for \"i\" and \"?\" */\n",
       "\n",
       ".sk-estimator-doc-link,\n",
       "a:link.sk-estimator-doc-link,\n",
       "a:visited.sk-estimator-doc-link {\n",
       "  float: right;\n",
       "  font-size: smaller;\n",
       "  line-height: 1em;\n",
       "  font-family: monospace;\n",
       "  background-color: var(--sklearn-color-background);\n",
       "  border-radius: 1em;\n",
       "  height: 1em;\n",
       "  width: 1em;\n",
       "  text-decoration: none !important;\n",
       "  margin-left: 1ex;\n",
       "  /* unfitted */\n",
       "  border: var(--sklearn-color-unfitted-level-1) 1pt solid;\n",
       "  color: var(--sklearn-color-unfitted-level-1);\n",
       "}\n",
       "\n",
       ".sk-estimator-doc-link.fitted,\n",
       "a:link.sk-estimator-doc-link.fitted,\n",
       "a:visited.sk-estimator-doc-link.fitted {\n",
       "  /* fitted */\n",
       "  border: var(--sklearn-color-fitted-level-1) 1pt solid;\n",
       "  color: var(--sklearn-color-fitted-level-1);\n",
       "}\n",
       "\n",
       "/* On hover */\n",
       "div.sk-estimator:hover .sk-estimator-doc-link:hover,\n",
       ".sk-estimator-doc-link:hover,\n",
       "div.sk-label-container:hover .sk-estimator-doc-link:hover,\n",
       ".sk-estimator-doc-link:hover {\n",
       "  /* unfitted */\n",
       "  background-color: var(--sklearn-color-unfitted-level-3);\n",
       "  color: var(--sklearn-color-background);\n",
       "  text-decoration: none;\n",
       "}\n",
       "\n",
       "div.sk-estimator.fitted:hover .sk-estimator-doc-link.fitted:hover,\n",
       ".sk-estimator-doc-link.fitted:hover,\n",
       "div.sk-label-container:hover .sk-estimator-doc-link.fitted:hover,\n",
       ".sk-estimator-doc-link.fitted:hover {\n",
       "  /* fitted */\n",
       "  background-color: var(--sklearn-color-fitted-level-3);\n",
       "  color: var(--sklearn-color-background);\n",
       "  text-decoration: none;\n",
       "}\n",
       "\n",
       "/* Span, style for the box shown on hovering the info icon */\n",
       ".sk-estimator-doc-link span {\n",
       "  display: none;\n",
       "  z-index: 9999;\n",
       "  position: relative;\n",
       "  font-weight: normal;\n",
       "  right: .2ex;\n",
       "  padding: .5ex;\n",
       "  margin: .5ex;\n",
       "  width: min-content;\n",
       "  min-width: 20ex;\n",
       "  max-width: 50ex;\n",
       "  color: var(--sklearn-color-text);\n",
       "  box-shadow: 2pt 2pt 4pt #999;\n",
       "  /* unfitted */\n",
       "  background: var(--sklearn-color-unfitted-level-0);\n",
       "  border: .5pt solid var(--sklearn-color-unfitted-level-3);\n",
       "}\n",
       "\n",
       ".sk-estimator-doc-link.fitted span {\n",
       "  /* fitted */\n",
       "  background: var(--sklearn-color-fitted-level-0);\n",
       "  border: var(--sklearn-color-fitted-level-3);\n",
       "}\n",
       "\n",
       ".sk-estimator-doc-link:hover span {\n",
       "  display: block;\n",
       "}\n",
       "\n",
       "/* \"?\"-specific style due to the `<a>` HTML tag */\n",
       "\n",
       "#sk-container-id-2 a.estimator_doc_link {\n",
       "  float: right;\n",
       "  font-size: 1rem;\n",
       "  line-height: 1em;\n",
       "  font-family: monospace;\n",
       "  background-color: var(--sklearn-color-background);\n",
       "  border-radius: 1rem;\n",
       "  height: 1rem;\n",
       "  width: 1rem;\n",
       "  text-decoration: none;\n",
       "  /* unfitted */\n",
       "  color: var(--sklearn-color-unfitted-level-1);\n",
       "  border: var(--sklearn-color-unfitted-level-1) 1pt solid;\n",
       "}\n",
       "\n",
       "#sk-container-id-2 a.estimator_doc_link.fitted {\n",
       "  /* fitted */\n",
       "  border: var(--sklearn-color-fitted-level-1) 1pt solid;\n",
       "  color: var(--sklearn-color-fitted-level-1);\n",
       "}\n",
       "\n",
       "/* On hover */\n",
       "#sk-container-id-2 a.estimator_doc_link:hover {\n",
       "  /* unfitted */\n",
       "  background-color: var(--sklearn-color-unfitted-level-3);\n",
       "  color: var(--sklearn-color-background);\n",
       "  text-decoration: none;\n",
       "}\n",
       "\n",
       "#sk-container-id-2 a.estimator_doc_link.fitted:hover {\n",
       "  /* fitted */\n",
       "  background-color: var(--sklearn-color-fitted-level-3);\n",
       "}\n",
       "</style><div id=\"sk-container-id-2\" class=\"sk-top-container\"><div class=\"sk-text-repr-fallback\"><pre>LinearRegression()</pre><b>In a Jupyter environment, please rerun this cell to show the HTML representation or trust the notebook. <br />On GitHub, the HTML representation is unable to render, please try loading this page with nbviewer.org.</b></div><div class=\"sk-container\" hidden><div class=\"sk-item\"><div class=\"sk-estimator fitted sk-toggleable\"><input class=\"sk-toggleable__control sk-hidden--visually\" id=\"sk-estimator-id-2\" type=\"checkbox\" checked><label for=\"sk-estimator-id-2\" class=\"sk-toggleable__label fitted sk-toggleable__label-arrow fitted\">&nbsp;&nbsp;LinearRegression<a class=\"sk-estimator-doc-link fitted\" rel=\"noreferrer\" target=\"_blank\" href=\"https://scikit-learn.org/1.5/modules/generated/sklearn.linear_model.LinearRegression.html\">?<span>Documentation for LinearRegression</span></a><span class=\"sk-estimator-doc-link fitted\">i<span>Fitted</span></span></label><div class=\"sk-toggleable__content fitted\"><pre>LinearRegression()</pre></div> </div></div></div></div>"
      ],
      "text/plain": [
       "LinearRegression()"
      ]
     },
     "execution_count": 92,
     "metadata": {},
     "output_type": "execute_result"
    }
   ],
   "source": [
    "\n",
    "model = LinearRegression()\n",
    "\n",
    "model.fit(train_X, train_Y)\n",
    "\n",
    "# predict on the test set\n",
    "\n"
   ]
  },
  {
   "cell_type": "code",
   "execution_count": 93,
   "metadata": {},
   "outputs": [],
   "source": [
    "predictions = model.predict(test_x)"
   ]
  },
  {
   "cell_type": "code",
   "execution_count": 94,
   "metadata": {},
   "outputs": [
    {
     "name": "stdout",
     "output_type": "stream",
     "text": [
      "Mean Square Error: 5.659110505125751\n"
     ]
    }
   ],
   "source": [
    "# Evaluate the model \n",
    "mse = mean_squared_error(test_y, predictions)\n",
    "print(\"Mean Square Error:\", mse)\n"
   ]
  },
  {
   "cell_type": "code",
   "execution_count": 95,
   "metadata": {},
   "outputs": [
    {
     "name": "stdout",
     "output_type": "stream",
     "text": [
      "R-Squared: 0.694656618158779\n"
     ]
    }
   ],
   "source": [
    "r2 = r2_score(test_y, predictions)\n",
    "print(f\"R-Squared: {r2}\")"
   ]
  },
  {
   "cell_type": "code",
   "execution_count": 97,
   "metadata": {},
   "outputs": [
    {
     "name": "stdout",
     "output_type": "stream",
     "text": [
      "Baseline Mean Squared Error: 18.533594771241834\n"
     ]
    }
   ],
   "source": [
    "# Analyzing if the output is good\n",
    "\n",
    "baseline_predictions = np.mean(test_y)\n",
    "\n",
    "baseline_mse = mean_squared_error(test_y, [baseline_predictions] * len(test_y))\n",
    "\n",
    "print(f\"Baseline Mean Squared Error: {baseline_mse}\")"
   ]
  },
  {
   "cell_type": "code",
   "execution_count": 98,
   "metadata": {},
   "outputs": [
    {
     "name": "stdout",
     "output_type": "stream",
     "text": [
      "R-Squared: 0.694656618158779\n"
     ]
    }
   ],
   "source": [
    "r2 = r2_score(test_y, predictions)\n",
    "print(f\"R-Squared: {r2}\")"
   ]
  },
  {
   "cell_type": "markdown",
   "metadata": {},
   "source": [
    "Interpretation\n",
    "- Lower MSE: Generally, a lower MSE indicates a better fit.\n",
    "- R-Squared: An R-squared value closer to 1 indicates a better fit."
   ]
  },
  {
   "cell_type": "code",
   "execution_count": 99,
   "metadata": {},
   "outputs": [
    {
     "name": "stdout",
     "output_type": "stream",
     "text": [
      "Mean Squared Error: 5.659110505125751\n",
      "R-Squared: 0.694656618158779\n",
      "Baseline Mean Squared Error: 18.533594771241834\n"
     ]
    }
   ],
   "source": [
    "mse = mean_squared_error(test_y, predictions)\n",
    "r2 = r2_score(test_y, predictions)\n",
    "\n",
    "# Baseline model: predict the mean of the target variable\n",
    "baseline_predictions = np.mean(test_y)\n",
    "baseline_mse = mean_squared_error(test_y, [baseline_predictions] * len(test_y))\n",
    "\n",
    "print(f\"Mean Squared Error: {mse}\")\n",
    "print(f\"R-Squared: {r2}\")\n",
    "print(f\"Baseline Mean Squared Error: {baseline_mse}\")"
   ]
  },
  {
   "cell_type": "markdown",
   "metadata": {},
   "source": [
    "## Change model to RandomForest"
   ]
  },
  {
   "cell_type": "code",
   "execution_count": 3,
   "metadata": {},
   "outputs": [],
   "source": [
    "from sklearn.ensemble import RandomForestRegressor\n",
    "\n",
    "random_forest_model = RandomForestRegressor()\n",
    "\n",
    "\n",
    "\n"
   ]
  }
 ],
 "metadata": {
  "kernelspec": {
   "display_name": "torch",
   "language": "python",
   "name": "torch"
  },
  "language_info": {
   "codemirror_mode": {
    "name": "ipython",
    "version": 3
   },
   "file_extension": ".py",
   "mimetype": "text/x-python",
   "name": "python",
   "nbconvert_exporter": "python",
   "pygments_lexer": "ipython3",
   "version": "3.12.4"
  }
 },
 "nbformat": 4,
 "nbformat_minor": 2
}
